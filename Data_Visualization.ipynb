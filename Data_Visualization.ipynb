{
  "cells": [
    {
      "attachments": {},
      "cell_type": "markdown",
      "metadata": {
        "id": "cplGGDMvBHyc"
      },
      "source": [
        "#**Assignment 3 and Project** \n",
        "**Big Data AnaLytics**\n",
        "\n",
        "\n",
        "---\n",
        "\n",
        "\n",
        "\n",
        "2.   Khadija Mahmood [i21-2313]      \n",
        "            \n",
        "                  \n",
        "\n",
        "\n",
        "\n",
        " "
      ]
    },
    {
      "attachments": {},
      "cell_type": "markdown",
      "metadata": {
        "id": "s0ooDELaDys7"
      },
      "source": [
        "#Introduction\n",
        "\n",
        "---\n",
        "\n",
        "**Learning Goals & Outcomes**\n",
        "To Learn to analyze substantial real-world big data of a social network (1.69GB in\n",
        "size).\n",
        "o Explore effective use of Apache Kafka to process data.\n",
        "o Applying graph mining algorithms on streaming data.\n",
        "o Dynamic Visualizations.\n",
        "\n"
      ]
    },
    {
      "attachments": {},
      "cell_type": "markdown",
      "metadata": {
        "id": "flmbv1VfEUMz"
      },
      "source": [
        "##Input Data\n",
        "\n",
        "Pokec is the most popular online social network in Slovakia. Pokec has been\n",
        "provided for more than 10 years and connects more than 1.6 million people. Datasets\n",
        "contain anonymized data of the whole network. Profile data contains gender, age,\n",
        "hobbies, interest, education, etc. Profile data are in the Slovak language. Friendships in\n",
        "Pokec are oriented.\n",
        "This social network has connected more than 1.6 million people and posses more\n",
        "than 50 attributes for each person."
      ]
    },
    {
      "attachments": {},
      "cell_type": "markdown",
      "metadata": {
        "id": "8AdMYhD1posT"
      },
      "source": [
        "#Task 3: Data Visualization"
      ]
    },
    {
      "attachments": {},
      "cell_type": "markdown",
      "metadata": {
        "id": "FCQFZkWspO1H"
      },
      "source": [
        "#Installation of librarires"
      ]
    },
    {
      "cell_type": "code",
      "execution_count": null,
      "metadata": {
        "id": "EZN0DOxnpGRY",
        "outputId": "cac2eeec-dffa-4d99-cdec-92fef2bdd94a"
      },
      "outputs": [
        {
          "name": "stdout",
          "output_type": "stream",
          "text": [
            "Requirement already satisfied: firebase in c:\\users\\uauau\\anaconda3\\lib\\site-packages (3.0.1)\n",
            "Requirement already satisfied: requests in c:\\users\\uauau\\anaconda3\\lib\\site-packages (from firebase) (2.26.0)\n",
            "Requirement already satisfied: certifi>=2017.4.17 in c:\\users\\uauau\\anaconda3\\lib\\site-packages (from requests->firebase) (2021.10.8)\n",
            "Requirement already satisfied: idna<4,>=2.5 in c:\\users\\uauau\\anaconda3\\lib\\site-packages (from requests->firebase) (3.2)\n",
            "Requirement already satisfied: urllib3<1.27,>=1.21.1 in c:\\users\\uauau\\anaconda3\\lib\\site-packages (from requests->firebase) (1.26.7)\n",
            "Requirement already satisfied: charset-normalizer~=2.0.0 in c:\\users\\uauau\\anaconda3\\lib\\site-packages (from requests->firebase) (2.0.4)\n",
            "Requirement already satisfied: python_jwt in c:\\users\\uauau\\anaconda3\\lib\\site-packages (3.3.2)\n",
            "Requirement already satisfied: jwcrypto>=1.0.0 in c:\\users\\uauau\\anaconda3\\lib\\site-packages (from python_jwt) (1.3.1)\n",
            "Requirement already satisfied: deprecated in c:\\users\\uauau\\anaconda3\\lib\\site-packages (from jwcrypto>=1.0.0->python_jwt) (1.2.13)\n",
            "Requirement already satisfied: cryptography>=2.3 in c:\\users\\uauau\\anaconda3\\lib\\site-packages (from jwcrypto>=1.0.0->python_jwt) (3.4.8)\n",
            "Requirement already satisfied: cffi>=1.12 in c:\\users\\uauau\\anaconda3\\lib\\site-packages (from cryptography>=2.3->jwcrypto>=1.0.0->python_jwt) (1.14.6)\n",
            "Requirement already satisfied: pycparser in c:\\users\\uauau\\anaconda3\\lib\\site-packages (from cffi>=1.12->cryptography>=2.3->jwcrypto>=1.0.0->python_jwt) (2.20)\n",
            "Requirement already satisfied: wrapt<2,>=1.10 in c:\\users\\uauau\\anaconda3\\lib\\site-packages (from deprecated->jwcrypto>=1.0.0->python_jwt) (1.12.1)\n",
            "Requirement already satisfied: gcloud in c:\\users\\uauau\\anaconda3\\lib\\site-packages (0.18.3)\n",
            "Requirement already satisfied: googleapis-common-protos in c:\\users\\uauau\\anaconda3\\lib\\site-packages (from gcloud) (1.56.2)\n",
            "Requirement already satisfied: protobuf!=3.0.0.b2.post1,>=3.0.0b2 in c:\\users\\uauau\\anaconda3\\lib\\site-packages (from gcloud) (3.20.1)\n",
            "Requirement already satisfied: six in c:\\users\\uauau\\anaconda3\\lib\\site-packages (from gcloud) (1.16.0)\n",
            "Requirement already satisfied: oauth2client>=2.0.1 in c:\\users\\uauau\\anaconda3\\lib\\site-packages (from gcloud) (4.1.3)\n",
            "Requirement already satisfied: httplib2>=0.9.1 in c:\\users\\uauau\\anaconda3\\lib\\site-packages (from gcloud) (0.20.4)\n",
            "Requirement already satisfied: pyparsing!=3.0.0,!=3.0.1,!=3.0.2,!=3.0.3,<4,>=2.4.2 in c:\\users\\uauau\\anaconda3\\lib\\site-packages (from httplib2>=0.9.1->gcloud) (3.0.4)\n",
            "Requirement already satisfied: pyasn1-modules>=0.0.5 in c:\\users\\uauau\\anaconda3\\lib\\site-packages (from oauth2client>=2.0.1->gcloud) (0.2.8)\n",
            "Requirement already satisfied: rsa>=3.1.4 in c:\\users\\uauau\\anaconda3\\lib\\site-packages (from oauth2client>=2.0.1->gcloud) (4.8)\n",
            "Requirement already satisfied: pyasn1>=0.1.7 in c:\\users\\uauau\\anaconda3\\lib\\site-packages (from oauth2client>=2.0.1->gcloud) (0.4.8)\n",
            "Requirement already satisfied: sseclient in c:\\users\\uauau\\anaconda3\\lib\\site-packages (0.0.27)\n",
            "Requirement already satisfied: requests>=2.9 in c:\\users\\uauau\\anaconda3\\lib\\site-packages (from sseclient) (2.26.0)\n",
            "Requirement already satisfied: six in c:\\users\\uauau\\anaconda3\\lib\\site-packages (from sseclient) (1.16.0)\n",
            "Requirement already satisfied: certifi>=2017.4.17 in c:\\users\\uauau\\anaconda3\\lib\\site-packages (from requests>=2.9->sseclient) (2021.10.8)\n",
            "Requirement already satisfied: idna<4,>=2.5 in c:\\users\\uauau\\anaconda3\\lib\\site-packages (from requests>=2.9->sseclient) (3.2)\n",
            "Requirement already satisfied: charset-normalizer~=2.0.0 in c:\\users\\uauau\\anaconda3\\lib\\site-packages (from requests>=2.9->sseclient) (2.0.4)\n",
            "Requirement already satisfied: urllib3<1.27,>=1.21.1 in c:\\users\\uauau\\anaconda3\\lib\\site-packages (from requests>=2.9->sseclient) (1.26.7)\n",
            "Requirement already satisfied: pycryptodome in c:\\users\\uauau\\anaconda3\\lib\\site-packages (3.14.1)\n",
            "Requirement already satisfied: requests_toolbelt in c:\\users\\uauau\\anaconda3\\lib\\site-packages (0.9.1)\n",
            "Requirement already satisfied: requests<3.0.0,>=2.0.1 in c:\\users\\uauau\\anaconda3\\lib\\site-packages (from requests_toolbelt) (2.26.0)\n",
            "Requirement already satisfied: urllib3<1.27,>=1.21.1 in c:\\users\\uauau\\anaconda3\\lib\\site-packages (from requests<3.0.0,>=2.0.1->requests_toolbelt) (1.26.7)\n",
            "Requirement already satisfied: idna<4,>=2.5 in c:\\users\\uauau\\anaconda3\\lib\\site-packages (from requests<3.0.0,>=2.0.1->requests_toolbelt) (3.2)\n",
            "Requirement already satisfied: certifi>=2017.4.17 in c:\\users\\uauau\\anaconda3\\lib\\site-packages (from requests<3.0.0,>=2.0.1->requests_toolbelt) (2021.10.8)\n",
            "Requirement already satisfied: charset-normalizer~=2.0.0 in c:\\users\\uauau\\anaconda3\\lib\\site-packages (from requests<3.0.0,>=2.0.1->requests_toolbelt) (2.0.4)\n"
          ]
        }
      ],
      "source": [
        "!pip install firebase\n",
        "!pip install python_jwt \n",
        "!pip install gcloud\n",
        "!pip install sseclient\n",
        "!pip install pycryptodome\n",
        "! pip install requests_toolbelt"
      ]
    },
    {
      "attachments": {},
      "cell_type": "markdown",
      "metadata": {
        "id": "TqVwRvNIpVBt"
      },
      "source": [
        "#Firebase Connection"
      ]
    },
    {
      "cell_type": "code",
      "execution_count": null,
      "metadata": {
        "id": "5RM9Q2M2pGRm"
      },
      "outputs": [],
      "source": [
        "from firebase import firebase\n",
        "FBconn=firebase.FirebaseApplication(\"https://bda-project-bb362-default-rtdb.firebaseio.com/\",None)\n",
        "FBconn2=firebase.FirebaseApplication(\"https://graph-f324a-default-rtdb.firebaseio.com/\",None)"
      ]
    },
    {
      "attachments": {},
      "cell_type": "markdown",
      "metadata": {
        "id": "IdTN4gAasnGA"
      },
      "source": [
        "Column values"
      ]
    },
    {
      "cell_type": "code",
      "execution_count": null,
      "metadata": {
        "id": "Xxyv978CpGRr",
        "outputId": "25e2ef48-f364-4793-a6e7-2dd56348ddc1"
      },
      "outputs": [
        {
          "data": {
            "text/plain": [
              "{'gender': 'data1',\n",
              " 'AGE': 'data2',\n",
              " 'actual_region': '',\n",
              " 'actual_hair_color': '',\n",
              " 'actual_spoken': '',\n",
              " 'actual_height_cm': '',\n",
              " 'actual_eye_color': '',\n",
              " 'actual_relation_to_alcohol': '',\n",
              " 'registration_year': '',\n",
              " 'actual_my_eyesight': ''}"
            ]
          },
          "execution_count": 5,
          "metadata": {},
          "output_type": "execute_result"
        }
      ],
      "source": [
        "lst=['gender', 'AGE', 'actual_region', 'actual_hair_color', 'actual_spoken',\n",
        "       'actual_height_cm', 'actual_eye_color', 'actual_relation_to_alcohol',\n",
        "       'registration_year', 'actual_my_eyesight']\n",
        "dict1"
      ]
    },
    {
      "cell_type": "code",
      "execution_count": null,
      "metadata": {
        "id": "PbBiwNg9pGRt"
      },
      "outputs": [],
      "source": [
        "for x in range(1,6):\n",
        "    FBconn.post(\"/MyTestData\",dict1)"
      ]
    },
    {
      "attachments": {},
      "cell_type": "markdown",
      "metadata": {
        "id": "OzrRg0KrssJE"
      },
      "source": [
        "importing files"
      ]
    },
    {
      "cell_type": "code",
      "execution_count": null,
      "metadata": {
        "id": "KRy_94yGpGRx"
      },
      "outputs": [],
      "source": [
        "from kafka import KafkaConsumer\n",
        "from json import loads\n",
        "import json\n",
        "import pandas as pd"
      ]
    },
    {
      "cell_type": "code",
      "execution_count": null,
      "metadata": {
        "id": "xf6EXAIEpGRz"
      },
      "outputs": [],
      "source": [
        "import numpy as np"
      ]
    },
    {
      "attachments": {},
      "cell_type": "markdown",
      "metadata": {
        "id": "_Wg3l8k0pujJ"
      },
      "source": [
        "Creating object of consumer"
      ]
    },
    {
      "cell_type": "code",
      "execution_count": null,
      "metadata": {
        "id": "0mksI76ypGR0"
      },
      "outputs": [],
      "source": [
        "consumer = KafkaConsumer('test',bootstrap_servers='localhost:9092',value_deserializer=lambda x:loads(x.decode('utf-8')))"
      ]
    },
    {
      "attachments": {},
      "cell_type": "markdown",
      "metadata": {
        "id": "f6NCwdEup5uU"
      },
      "source": [
        "#Getting streaming data from Firebase"
      ]
    },
    {
      "cell_type": "code",
      "execution_count": null,
      "metadata": {
        "id": "Z7abXbh2pGR3",
        "outputId": "787d8e81-e57d-44ca-a287-0226ce58a676",
        "scrolled": true
      },
      "outputs": [
        {
          "name": "stdout",
          "output_type": "stream",
          "text": [
            "30,1,12,1,zilinsky kraj, kysucke nove mesto,12:00.0,30,00:00.0,21,nan\n",
            "79,1,71,1,zilinsky kraj, kysucke nove mesto,46:00.0,79,00:00.0,23,181 cm, 70 kg\n",
            "92,1,71,0,zilinsky kraj, kysucke nove mesto,38:00.0,92,00:00.0,22,nan\n",
            "44,0,19,1,zilinsky kraj, kysucke nove mesto,16:00.0,44,00:00.0,0,183 cm, 97 kg\n",
            "68,1,19,0,zilinsky kraj, kysucke nove mesto,53:00.0,68,00:00.0,0,nan\n",
            "80,1,60,0,zahranicie, zahranicie - ostatne,00:00.0,80,00:00.0,24,175 cm, 52 kg\n",
            "93,1,60,1,zilinsky kraj, kysucke nove mesto,13:00.0,93,00:00.0,21,nan\n",
            "106,1,64,1,zilinsky kraj, kysucke nove mesto,36:00.0,106,00:00.0,22,nan\n",
            "94,1,14,1,zahranicie, zahranicie - nemecko,32:00.0,94,00:00.0,20,nan\n",
            "95,1,14,1,zilinsky kraj, zilina,18:00.0,95,00:00.0,23,nan\n",
            "81,0,21,1,zilinsky kraj, kysucke nove mesto,28:00.0,81,00:00.0,25,nan\n",
            "96,1,53,0,zilinsky kraj, kysucke nove mesto,19:00.0,96,00:00.0,21,172 cm\n",
            "107,1,67,1,zilinsky kraj, kysucke nove mesto,50:00.0,107,00:00.0,24,nan\n",
            "82,0,28,0,zilinsky kraj, kysucke nove mesto,05:00.0,82,00:00.0,20,nan\n",
            "97,0,17,1,zahranicie, zahranicie - australia,02:00.0,97,00:00.0,23,nan\n",
            "83,1,59,0,zilinsky kraj, kysucke nove mesto,06:00.0,83,00:00.0,20,160 cm, taky maly stupel =))dobreho vela nenarastie a zleho vela netreba.\n",
            "121,0,12,1,zahranicie, zahranicie - usa,33:00.0,121,00:00.0,0,nan\n",
            "108,0,21,1,zilinsky kraj, kysucke nove mesto,30:00.0,108,00:00.0,0,nan\n",
            "98,1,43,0,zilinsky kraj, zilina,28:00.0,98,00:00.0,0,nan\n",
            "84,0,40,0,trenciansky kraj, prievidza,42:00.0,84,00:00.0,19,nan\n",
            "122,0,12,1,zilinsky kraj, zilina,56:00.0,122,00:00.0,0,nan\n",
            "109,0,14,0,zilinsky kraj, zilina,28:00.0,109,00:00.0,0,nan\n",
            "99,1,84,0,zilinsky kraj, kysucke nove mesto,06:00.0,99,00:00.0,18,175 cm\n",
            "85,1,12,0,zilinsky kraj, kysucke nove mesto,27:00.0,85,00:00.0,21,nan\n",
            "123,1,31,1,zilinsky kraj, zilina,03:00.0,123,00:00.0,21,180 cm, 79 kg\n",
            "136,1,48,1,zilinsky kraj, zilina,18:00.0,136,00:00.0,22,178 cm, 75 kg\n",
            "110,0,12,0,zilinsky kraj, kysucke nove mesto,19:00.0,110,00:00.0,21,nan\n",
            "86,1,14,1,zilinsky kraj, kysucke nove mesto,01:00.0,86,00:00.0,24,nan\n",
            "111,1,72,1,zilinsky kraj, kysucke nove mesto,19:00.0,111,00:00.0,18,188 cm, 84 kg\n",
            "100,1,43,0,zilinsky kraj, kysucke nove mesto,53:00.0,100,00:00.0,21,nan\n",
            "45,0,55,0,zilinsky kraj, cadca,04:00.0,45,00:00.0,21,nan\n",
            "124,0,64,1,zilinsky kraj, kysucke nove mesto,43:00.0,124,00:00.0,21,168 cm, 65 kg, priemerna\n",
            "137,1,66,0,zilinsky kraj, kysucke nove mesto,49:00.0,137,00:00.0,20,nan\n",
            "87,1,17,1,zilinsky kraj, zilina,04:00.0,87,00:00.0,23,nan\n",
            "125,1,14,1,zilinsky kraj, kysucke nove mesto,52:00.0,125,00:00.0,0,nan\n",
            "112,1,50,1,zilinsky kraj, kysucke nove mesto,14:00.0,112,00:00.0,21,182 cm, 63 kg\n",
            "138,1,60,0,trnavsky kraj, galanta,24:00.0,138,00:00.0,29,177 cm\n",
            "88,0,12,0,zilinsky kraj, zilina,13:00.0,88,00:00.0,18,nan\n",
            "151,0,12,1,zahranicie, zahranicie - ostatne,41:00.0,151,00:00.0,0,nan\n",
            "126,0,14,1,zilinsky kraj, kysucke nove mesto,35:00.0,126,00:00.0,0,nan\n"
          ]
        },
        {
          "ename": "KeyboardInterrupt",
          "evalue": "",
          "output_type": "error",
          "traceback": [
            "\u001b[1;31m---------------------------------------------------------------------------\u001b[0m",
            "\u001b[1;31mKeyboardInterrupt\u001b[0m                         Traceback (most recent call last)",
            "\u001b[1;32m~\\AppData\\Local\\Temp/ipykernel_4832/84951841.py\u001b[0m in \u001b[0;36m<module>\u001b[1;34m\u001b[0m\n\u001b[0;32m      1\u001b[0m \u001b[0mtemp\u001b[0m\u001b[1;33m=\u001b[0m\u001b[1;33m[\u001b[0m\u001b[1;33m]\u001b[0m\u001b[1;33m\u001b[0m\u001b[1;33m\u001b[0m\u001b[0m\n\u001b[1;32m----> 2\u001b[1;33m \u001b[1;32mfor\u001b[0m \u001b[0mmessage\u001b[0m \u001b[1;32min\u001b[0m \u001b[0mconsumer\u001b[0m\u001b[1;33m:\u001b[0m\u001b[1;33m\u001b[0m\u001b[1;33m\u001b[0m\u001b[0m\n\u001b[0m\u001b[0;32m      3\u001b[0m     \u001b[1;32mif\u001b[0m\u001b[1;33m(\u001b[0m\u001b[0mmessage\u001b[0m\u001b[1;33m.\u001b[0m\u001b[0mvalue\u001b[0m\u001b[1;33m==\u001b[0m\u001b[1;34m\"display\"\u001b[0m\u001b[1;33m)\u001b[0m\u001b[1;33m:\u001b[0m\u001b[1;33m\u001b[0m\u001b[1;33m\u001b[0m\u001b[0m\n\u001b[0;32m      4\u001b[0m         \u001b[0mconsumer\u001b[0m\u001b[1;33m.\u001b[0m\u001b[0mclose\u001b[0m\u001b[1;33m(\u001b[0m\u001b[1;33m)\u001b[0m\u001b[1;33m\u001b[0m\u001b[1;33m\u001b[0m\u001b[0m\n\u001b[0;32m      5\u001b[0m     \u001b[1;32melse\u001b[0m\u001b[1;33m:\u001b[0m\u001b[1;33m\u001b[0m\u001b[1;33m\u001b[0m\u001b[0m\n",
            "\u001b[1;32m~\\anaconda3\\lib\\site-packages\\kafka\\consumer\\group.py\u001b[0m in \u001b[0;36m__next__\u001b[1;34m(self)\u001b[0m\n\u001b[0;32m   1191\u001b[0m             \u001b[1;32mreturn\u001b[0m \u001b[0mself\u001b[0m\u001b[1;33m.\u001b[0m\u001b[0mnext_v1\u001b[0m\u001b[1;33m(\u001b[0m\u001b[1;33m)\u001b[0m\u001b[1;33m\u001b[0m\u001b[1;33m\u001b[0m\u001b[0m\n\u001b[0;32m   1192\u001b[0m         \u001b[1;32melse\u001b[0m\u001b[1;33m:\u001b[0m\u001b[1;33m\u001b[0m\u001b[1;33m\u001b[0m\u001b[0m\n\u001b[1;32m-> 1193\u001b[1;33m             \u001b[1;32mreturn\u001b[0m \u001b[0mself\u001b[0m\u001b[1;33m.\u001b[0m\u001b[0mnext_v2\u001b[0m\u001b[1;33m(\u001b[0m\u001b[1;33m)\u001b[0m\u001b[1;33m\u001b[0m\u001b[1;33m\u001b[0m\u001b[0m\n\u001b[0m\u001b[0;32m   1194\u001b[0m \u001b[1;33m\u001b[0m\u001b[0m\n\u001b[0;32m   1195\u001b[0m     \u001b[1;32mdef\u001b[0m \u001b[0mnext_v2\u001b[0m\u001b[1;33m(\u001b[0m\u001b[0mself\u001b[0m\u001b[1;33m)\u001b[0m\u001b[1;33m:\u001b[0m\u001b[1;33m\u001b[0m\u001b[1;33m\u001b[0m\u001b[0m\n",
            "\u001b[1;32m~\\anaconda3\\lib\\site-packages\\kafka\\consumer\\group.py\u001b[0m in \u001b[0;36mnext_v2\u001b[1;34m(self)\u001b[0m\n\u001b[0;32m   1199\u001b[0m                 \u001b[0mself\u001b[0m\u001b[1;33m.\u001b[0m\u001b[0m_iterator\u001b[0m \u001b[1;33m=\u001b[0m \u001b[0mself\u001b[0m\u001b[1;33m.\u001b[0m\u001b[0m_message_generator_v2\u001b[0m\u001b[1;33m(\u001b[0m\u001b[1;33m)\u001b[0m\u001b[1;33m\u001b[0m\u001b[1;33m\u001b[0m\u001b[0m\n\u001b[0;32m   1200\u001b[0m             \u001b[1;32mtry\u001b[0m\u001b[1;33m:\u001b[0m\u001b[1;33m\u001b[0m\u001b[1;33m\u001b[0m\u001b[0m\n\u001b[1;32m-> 1201\u001b[1;33m                 \u001b[1;32mreturn\u001b[0m \u001b[0mnext\u001b[0m\u001b[1;33m(\u001b[0m\u001b[0mself\u001b[0m\u001b[1;33m.\u001b[0m\u001b[0m_iterator\u001b[0m\u001b[1;33m)\u001b[0m\u001b[1;33m\u001b[0m\u001b[1;33m\u001b[0m\u001b[0m\n\u001b[0m\u001b[0;32m   1202\u001b[0m             \u001b[1;32mexcept\u001b[0m \u001b[0mStopIteration\u001b[0m\u001b[1;33m:\u001b[0m\u001b[1;33m\u001b[0m\u001b[1;33m\u001b[0m\u001b[0m\n\u001b[0;32m   1203\u001b[0m                 \u001b[0mself\u001b[0m\u001b[1;33m.\u001b[0m\u001b[0m_iterator\u001b[0m \u001b[1;33m=\u001b[0m \u001b[1;32mNone\u001b[0m\u001b[1;33m\u001b[0m\u001b[1;33m\u001b[0m\u001b[0m\n",
            "\u001b[1;32m~\\anaconda3\\lib\\site-packages\\kafka\\consumer\\group.py\u001b[0m in \u001b[0;36m_message_generator_v2\u001b[1;34m(self)\u001b[0m\n\u001b[0;32m   1114\u001b[0m     \u001b[1;32mdef\u001b[0m \u001b[0m_message_generator_v2\u001b[0m\u001b[1;33m(\u001b[0m\u001b[0mself\u001b[0m\u001b[1;33m)\u001b[0m\u001b[1;33m:\u001b[0m\u001b[1;33m\u001b[0m\u001b[1;33m\u001b[0m\u001b[0m\n\u001b[0;32m   1115\u001b[0m         \u001b[0mtimeout_ms\u001b[0m \u001b[1;33m=\u001b[0m \u001b[1;36m1000\u001b[0m \u001b[1;33m*\u001b[0m \u001b[1;33m(\u001b[0m\u001b[0mself\u001b[0m\u001b[1;33m.\u001b[0m\u001b[0m_consumer_timeout\u001b[0m \u001b[1;33m-\u001b[0m \u001b[0mtime\u001b[0m\u001b[1;33m.\u001b[0m\u001b[0mtime\u001b[0m\u001b[1;33m(\u001b[0m\u001b[1;33m)\u001b[0m\u001b[1;33m)\u001b[0m\u001b[1;33m\u001b[0m\u001b[1;33m\u001b[0m\u001b[0m\n\u001b[1;32m-> 1116\u001b[1;33m         \u001b[0mrecord_map\u001b[0m \u001b[1;33m=\u001b[0m \u001b[0mself\u001b[0m\u001b[1;33m.\u001b[0m\u001b[0mpoll\u001b[0m\u001b[1;33m(\u001b[0m\u001b[0mtimeout_ms\u001b[0m\u001b[1;33m=\u001b[0m\u001b[0mtimeout_ms\u001b[0m\u001b[1;33m,\u001b[0m \u001b[0mupdate_offsets\u001b[0m\u001b[1;33m=\u001b[0m\u001b[1;32mFalse\u001b[0m\u001b[1;33m)\u001b[0m\u001b[1;33m\u001b[0m\u001b[1;33m\u001b[0m\u001b[0m\n\u001b[0m\u001b[0;32m   1117\u001b[0m         \u001b[1;32mfor\u001b[0m \u001b[0mtp\u001b[0m\u001b[1;33m,\u001b[0m \u001b[0mrecords\u001b[0m \u001b[1;32min\u001b[0m \u001b[0msix\u001b[0m\u001b[1;33m.\u001b[0m\u001b[0miteritems\u001b[0m\u001b[1;33m(\u001b[0m\u001b[0mrecord_map\u001b[0m\u001b[1;33m)\u001b[0m\u001b[1;33m:\u001b[0m\u001b[1;33m\u001b[0m\u001b[1;33m\u001b[0m\u001b[0m\n\u001b[0;32m   1118\u001b[0m             \u001b[1;31m# Generators are stateful, and it is possible that the tp / records\u001b[0m\u001b[1;33m\u001b[0m\u001b[1;33m\u001b[0m\u001b[0m\n",
            "\u001b[1;32m~\\anaconda3\\lib\\site-packages\\kafka\\consumer\\group.py\u001b[0m in \u001b[0;36mpoll\u001b[1;34m(self, timeout_ms, max_records, update_offsets)\u001b[0m\n\u001b[0;32m    653\u001b[0m         \u001b[0mremaining\u001b[0m \u001b[1;33m=\u001b[0m \u001b[0mtimeout_ms\u001b[0m\u001b[1;33m\u001b[0m\u001b[1;33m\u001b[0m\u001b[0m\n\u001b[0;32m    654\u001b[0m         \u001b[1;32mwhile\u001b[0m \u001b[1;32mTrue\u001b[0m\u001b[1;33m:\u001b[0m\u001b[1;33m\u001b[0m\u001b[1;33m\u001b[0m\u001b[0m\n\u001b[1;32m--> 655\u001b[1;33m             \u001b[0mrecords\u001b[0m \u001b[1;33m=\u001b[0m \u001b[0mself\u001b[0m\u001b[1;33m.\u001b[0m\u001b[0m_poll_once\u001b[0m\u001b[1;33m(\u001b[0m\u001b[0mremaining\u001b[0m\u001b[1;33m,\u001b[0m \u001b[0mmax_records\u001b[0m\u001b[1;33m,\u001b[0m \u001b[0mupdate_offsets\u001b[0m\u001b[1;33m=\u001b[0m\u001b[0mupdate_offsets\u001b[0m\u001b[1;33m)\u001b[0m\u001b[1;33m\u001b[0m\u001b[1;33m\u001b[0m\u001b[0m\n\u001b[0m\u001b[0;32m    656\u001b[0m             \u001b[1;32mif\u001b[0m \u001b[0mrecords\u001b[0m\u001b[1;33m:\u001b[0m\u001b[1;33m\u001b[0m\u001b[1;33m\u001b[0m\u001b[0m\n\u001b[0;32m    657\u001b[0m                 \u001b[1;32mreturn\u001b[0m \u001b[0mrecords\u001b[0m\u001b[1;33m\u001b[0m\u001b[1;33m\u001b[0m\u001b[0m\n",
            "\u001b[1;32m~\\anaconda3\\lib\\site-packages\\kafka\\consumer\\group.py\u001b[0m in \u001b[0;36m_poll_once\u001b[1;34m(self, timeout_ms, max_records, update_offsets)\u001b[0m\n\u001b[0;32m    700\u001b[0m \u001b[1;33m\u001b[0m\u001b[0m\n\u001b[0;32m    701\u001b[0m         \u001b[0mtimeout_ms\u001b[0m \u001b[1;33m=\u001b[0m \u001b[0mmin\u001b[0m\u001b[1;33m(\u001b[0m\u001b[0mtimeout_ms\u001b[0m\u001b[1;33m,\u001b[0m \u001b[0mself\u001b[0m\u001b[1;33m.\u001b[0m\u001b[0m_coordinator\u001b[0m\u001b[1;33m.\u001b[0m\u001b[0mtime_to_next_poll\u001b[0m\u001b[1;33m(\u001b[0m\u001b[1;33m)\u001b[0m \u001b[1;33m*\u001b[0m \u001b[1;36m1000\u001b[0m\u001b[1;33m)\u001b[0m\u001b[1;33m\u001b[0m\u001b[1;33m\u001b[0m\u001b[0m\n\u001b[1;32m--> 702\u001b[1;33m         \u001b[0mself\u001b[0m\u001b[1;33m.\u001b[0m\u001b[0m_client\u001b[0m\u001b[1;33m.\u001b[0m\u001b[0mpoll\u001b[0m\u001b[1;33m(\u001b[0m\u001b[0mtimeout_ms\u001b[0m\u001b[1;33m=\u001b[0m\u001b[0mtimeout_ms\u001b[0m\u001b[1;33m)\u001b[0m\u001b[1;33m\u001b[0m\u001b[1;33m\u001b[0m\u001b[0m\n\u001b[0m\u001b[0;32m    703\u001b[0m         \u001b[1;31m# after the long poll, we should check whether the group needs to rebalance\u001b[0m\u001b[1;33m\u001b[0m\u001b[1;33m\u001b[0m\u001b[0m\n\u001b[0;32m    704\u001b[0m         \u001b[1;31m# prior to returning data so that the group can stabilize faster\u001b[0m\u001b[1;33m\u001b[0m\u001b[1;33m\u001b[0m\u001b[0m\n",
            "\u001b[1;32m~\\anaconda3\\lib\\site-packages\\kafka\\client_async.py\u001b[0m in \u001b[0;36mpoll\u001b[1;34m(self, timeout_ms, future)\u001b[0m\n\u001b[0;32m    600\u001b[0m                     \u001b[0mtimeout\u001b[0m \u001b[1;33m=\u001b[0m \u001b[0mmax\u001b[0m\u001b[1;33m(\u001b[0m\u001b[1;36m0\u001b[0m\u001b[1;33m,\u001b[0m \u001b[0mtimeout\u001b[0m\u001b[1;33m)\u001b[0m  \u001b[1;31m# avoid negative timeouts\u001b[0m\u001b[1;33m\u001b[0m\u001b[1;33m\u001b[0m\u001b[0m\n\u001b[0;32m    601\u001b[0m \u001b[1;33m\u001b[0m\u001b[0m\n\u001b[1;32m--> 602\u001b[1;33m                 \u001b[0mself\u001b[0m\u001b[1;33m.\u001b[0m\u001b[0m_poll\u001b[0m\u001b[1;33m(\u001b[0m\u001b[0mtimeout\u001b[0m \u001b[1;33m/\u001b[0m \u001b[1;36m1000\u001b[0m\u001b[1;33m)\u001b[0m\u001b[1;33m\u001b[0m\u001b[1;33m\u001b[0m\u001b[0m\n\u001b[0m\u001b[0;32m    603\u001b[0m \u001b[1;33m\u001b[0m\u001b[0m\n\u001b[0;32m    604\u001b[0m             \u001b[1;31m# called without the lock to avoid deadlock potential\u001b[0m\u001b[1;33m\u001b[0m\u001b[1;33m\u001b[0m\u001b[0m\n",
            "\u001b[1;32m~\\anaconda3\\lib\\site-packages\\kafka\\client_async.py\u001b[0m in \u001b[0;36m_poll\u001b[1;34m(self, timeout)\u001b[0m\n\u001b[0;32m    632\u001b[0m \u001b[1;33m\u001b[0m\u001b[0m\n\u001b[0;32m    633\u001b[0m         \u001b[0mstart_select\u001b[0m \u001b[1;33m=\u001b[0m \u001b[0mtime\u001b[0m\u001b[1;33m.\u001b[0m\u001b[0mtime\u001b[0m\u001b[1;33m(\u001b[0m\u001b[1;33m)\u001b[0m\u001b[1;33m\u001b[0m\u001b[1;33m\u001b[0m\u001b[0m\n\u001b[1;32m--> 634\u001b[1;33m         \u001b[0mready\u001b[0m \u001b[1;33m=\u001b[0m \u001b[0mself\u001b[0m\u001b[1;33m.\u001b[0m\u001b[0m_selector\u001b[0m\u001b[1;33m.\u001b[0m\u001b[0mselect\u001b[0m\u001b[1;33m(\u001b[0m\u001b[0mtimeout\u001b[0m\u001b[1;33m)\u001b[0m\u001b[1;33m\u001b[0m\u001b[1;33m\u001b[0m\u001b[0m\n\u001b[0m\u001b[0;32m    635\u001b[0m         \u001b[0mend_select\u001b[0m \u001b[1;33m=\u001b[0m \u001b[0mtime\u001b[0m\u001b[1;33m.\u001b[0m\u001b[0mtime\u001b[0m\u001b[1;33m(\u001b[0m\u001b[1;33m)\u001b[0m\u001b[1;33m\u001b[0m\u001b[1;33m\u001b[0m\u001b[0m\n\u001b[0;32m    636\u001b[0m         \u001b[1;32mif\u001b[0m \u001b[0mself\u001b[0m\u001b[1;33m.\u001b[0m\u001b[0m_sensors\u001b[0m\u001b[1;33m:\u001b[0m\u001b[1;33m\u001b[0m\u001b[1;33m\u001b[0m\u001b[0m\n",
            "\u001b[1;32m~\\anaconda3\\lib\\selectors.py\u001b[0m in \u001b[0;36mselect\u001b[1;34m(self, timeout)\u001b[0m\n\u001b[0;32m    322\u001b[0m         \u001b[0mready\u001b[0m \u001b[1;33m=\u001b[0m \u001b[1;33m[\u001b[0m\u001b[1;33m]\u001b[0m\u001b[1;33m\u001b[0m\u001b[1;33m\u001b[0m\u001b[0m\n\u001b[0;32m    323\u001b[0m         \u001b[1;32mtry\u001b[0m\u001b[1;33m:\u001b[0m\u001b[1;33m\u001b[0m\u001b[1;33m\u001b[0m\u001b[0m\n\u001b[1;32m--> 324\u001b[1;33m             \u001b[0mr\u001b[0m\u001b[1;33m,\u001b[0m \u001b[0mw\u001b[0m\u001b[1;33m,\u001b[0m \u001b[0m_\u001b[0m \u001b[1;33m=\u001b[0m \u001b[0mself\u001b[0m\u001b[1;33m.\u001b[0m\u001b[0m_select\u001b[0m\u001b[1;33m(\u001b[0m\u001b[0mself\u001b[0m\u001b[1;33m.\u001b[0m\u001b[0m_readers\u001b[0m\u001b[1;33m,\u001b[0m \u001b[0mself\u001b[0m\u001b[1;33m.\u001b[0m\u001b[0m_writers\u001b[0m\u001b[1;33m,\u001b[0m \u001b[1;33m[\u001b[0m\u001b[1;33m]\u001b[0m\u001b[1;33m,\u001b[0m \u001b[0mtimeout\u001b[0m\u001b[1;33m)\u001b[0m\u001b[1;33m\u001b[0m\u001b[1;33m\u001b[0m\u001b[0m\n\u001b[0m\u001b[0;32m    325\u001b[0m         \u001b[1;32mexcept\u001b[0m \u001b[0mInterruptedError\u001b[0m\u001b[1;33m:\u001b[0m\u001b[1;33m\u001b[0m\u001b[1;33m\u001b[0m\u001b[0m\n\u001b[0;32m    326\u001b[0m             \u001b[1;32mreturn\u001b[0m \u001b[0mready\u001b[0m\u001b[1;33m\u001b[0m\u001b[1;33m\u001b[0m\u001b[0m\n",
            "\u001b[1;32m~\\anaconda3\\lib\\selectors.py\u001b[0m in \u001b[0;36m_select\u001b[1;34m(self, r, w, _, timeout)\u001b[0m\n\u001b[0;32m    313\u001b[0m     \u001b[1;32mif\u001b[0m \u001b[0msys\u001b[0m\u001b[1;33m.\u001b[0m\u001b[0mplatform\u001b[0m \u001b[1;33m==\u001b[0m \u001b[1;34m'win32'\u001b[0m\u001b[1;33m:\u001b[0m\u001b[1;33m\u001b[0m\u001b[1;33m\u001b[0m\u001b[0m\n\u001b[0;32m    314\u001b[0m         \u001b[1;32mdef\u001b[0m \u001b[0m_select\u001b[0m\u001b[1;33m(\u001b[0m\u001b[0mself\u001b[0m\u001b[1;33m,\u001b[0m \u001b[0mr\u001b[0m\u001b[1;33m,\u001b[0m \u001b[0mw\u001b[0m\u001b[1;33m,\u001b[0m \u001b[0m_\u001b[0m\u001b[1;33m,\u001b[0m \u001b[0mtimeout\u001b[0m\u001b[1;33m=\u001b[0m\u001b[1;32mNone\u001b[0m\u001b[1;33m)\u001b[0m\u001b[1;33m:\u001b[0m\u001b[1;33m\u001b[0m\u001b[1;33m\u001b[0m\u001b[0m\n\u001b[1;32m--> 315\u001b[1;33m             \u001b[0mr\u001b[0m\u001b[1;33m,\u001b[0m \u001b[0mw\u001b[0m\u001b[1;33m,\u001b[0m \u001b[0mx\u001b[0m \u001b[1;33m=\u001b[0m \u001b[0mselect\u001b[0m\u001b[1;33m.\u001b[0m\u001b[0mselect\u001b[0m\u001b[1;33m(\u001b[0m\u001b[0mr\u001b[0m\u001b[1;33m,\u001b[0m \u001b[0mw\u001b[0m\u001b[1;33m,\u001b[0m \u001b[0mw\u001b[0m\u001b[1;33m,\u001b[0m \u001b[0mtimeout\u001b[0m\u001b[1;33m)\u001b[0m\u001b[1;33m\u001b[0m\u001b[1;33m\u001b[0m\u001b[0m\n\u001b[0m\u001b[0;32m    316\u001b[0m             \u001b[1;32mreturn\u001b[0m \u001b[0mr\u001b[0m\u001b[1;33m,\u001b[0m \u001b[0mw\u001b[0m \u001b[1;33m+\u001b[0m \u001b[0mx\u001b[0m\u001b[1;33m,\u001b[0m \u001b[1;33m[\u001b[0m\u001b[1;33m]\u001b[0m\u001b[1;33m\u001b[0m\u001b[1;33m\u001b[0m\u001b[0m\n\u001b[0;32m    317\u001b[0m     \u001b[1;32melse\u001b[0m\u001b[1;33m:\u001b[0m\u001b[1;33m\u001b[0m\u001b[1;33m\u001b[0m\u001b[0m\n",
            "\u001b[1;31mKeyboardInterrupt\u001b[0m: "
          ]
        }
      ],
      "source": [
        "temp=[]\n",
        "for message in consumer:\n",
        "    if(message.value==\"display\"):\n",
        "        consumer.close()\n",
        "    else:\n",
        "        temp=str(message.value).split(',')\n",
        "        dict1 = {lst[0]: temp[0],lst[1]: temp[1],lst[2]:temp[2],lst[3]:temp[3],lst[4]:temp[4],lst[5]:temp[5],lst[6]:temp[6],lst[7]:temp[7],lst[8]:temp[8],lst[9]:temp[9]}\n",
        "        FBconn.post(\"/MyTestData\",dict1)\n",
        "        print(message.value)\n",
        "\n"
      ]
    },
    {
      "attachments": {},
      "cell_type": "markdown",
      "metadata": {
        "id": "0d4uasibqCDY"
      },
      "source": [
        "#Visualization of Relationship graph against every key"
      ]
    },
    {
      "attachments": {},
      "cell_type": "markdown",
      "metadata": {
        "id": "G6M-WKzmsTXi"
      },
      "source": [
        "we visualize data of every relationship by their ids, like there will be updation in graph as id 1 get new values contineously"
      ]
    },
    {
      "cell_type": "code",
      "execution_count": null,
      "metadata": {
        "id": "ky9wVa9ZpGR7",
        "outputId": "919c4545-54f1-4007-fd87-de8b4f100eae"
      },
      "outputs": [
        {
          "data": {
            "application/javascript": "/* Put everything inside the global mpl namespace */\n/* global mpl */\nwindow.mpl = {};\n\nmpl.get_websocket_type = function () {\n    if (typeof WebSocket !== 'undefined') {\n        return WebSocket;\n    } else if (typeof MozWebSocket !== 'undefined') {\n        return MozWebSocket;\n    } else {\n        alert(\n            'Your browser does not have WebSocket support. ' +\n                'Please try Chrome, Safari or Firefox ≥ 6. ' +\n                'Firefox 4 and 5 are also supported but you ' +\n                'have to enable WebSockets in about:config.'\n        );\n    }\n};\n\nmpl.figure = function (figure_id, websocket, ondownload, parent_element) {\n    this.id = figure_id;\n\n    this.ws = websocket;\n\n    this.supports_binary = this.ws.binaryType !== undefined;\n\n    if (!this.supports_binary) {\n        var warnings = document.getElementById('mpl-warnings');\n        if (warnings) {\n            warnings.style.display = 'block';\n            warnings.textContent =\n                'This browser does not support binary websocket messages. ' +\n                'Performance may be slow.';\n        }\n    }\n\n    this.imageObj = new Image();\n\n    this.context = undefined;\n    this.message = undefined;\n    this.canvas = undefined;\n    this.rubberband_canvas = undefined;\n    this.rubberband_context = undefined;\n    this.format_dropdown = undefined;\n\n    this.image_mode = 'full';\n\n    this.root = document.createElement('div');\n    this.root.setAttribute('style', 'display: inline-block');\n    this._root_extra_style(this.root);\n\n    parent_element.appendChild(this.root);\n\n    this._init_header(this);\n    this._init_canvas(this);\n    this._init_toolbar(this);\n\n    var fig = this;\n\n    this.waiting = false;\n\n    this.ws.onopen = function () {\n        fig.send_message('supports_binary', { value: fig.supports_binary });\n        fig.send_message('send_image_mode', {});\n        if (fig.ratio !== 1) {\n            fig.send_message('set_dpi_ratio', { dpi_ratio: fig.ratio });\n        }\n        fig.send_message('refresh', {});\n    };\n\n    this.imageObj.onload = function () {\n        if (fig.image_mode === 'full') {\n            // Full images could contain transparency (where diff images\n            // almost always do), so we need to clear the canvas so that\n            // there is no ghosting.\n            fig.context.clearRect(0, 0, fig.canvas.width, fig.canvas.height);\n        }\n        fig.context.drawImage(fig.imageObj, 0, 0);\n    };\n\n    this.imageObj.onunload = function () {\n        fig.ws.close();\n    };\n\n    this.ws.onmessage = this._make_on_message_function(this);\n\n    this.ondownload = ondownload;\n};\n\nmpl.figure.prototype._init_header = function () {\n    var titlebar = document.createElement('div');\n    titlebar.classList =\n        'ui-dialog-titlebar ui-widget-header ui-corner-all ui-helper-clearfix';\n    var titletext = document.createElement('div');\n    titletext.classList = 'ui-dialog-title';\n    titletext.setAttribute(\n        'style',\n        'width: 100%; text-align: center; padding: 3px;'\n    );\n    titlebar.appendChild(titletext);\n    this.root.appendChild(titlebar);\n    this.header = titletext;\n};\n\nmpl.figure.prototype._canvas_extra_style = function (_canvas_div) {};\n\nmpl.figure.prototype._root_extra_style = function (_canvas_div) {};\n\nmpl.figure.prototype._init_canvas = function () {\n    var fig = this;\n\n    var canvas_div = (this.canvas_div = document.createElement('div'));\n    canvas_div.setAttribute(\n        'style',\n        'border: 1px solid #ddd;' +\n            'box-sizing: content-box;' +\n            'clear: both;' +\n            'min-height: 1px;' +\n            'min-width: 1px;' +\n            'outline: 0;' +\n            'overflow: hidden;' +\n            'position: relative;' +\n            'resize: both;'\n    );\n\n    function on_keyboard_event_closure(name) {\n        return function (event) {\n            return fig.key_event(event, name);\n        };\n    }\n\n    canvas_div.addEventListener(\n        'keydown',\n        on_keyboard_event_closure('key_press')\n    );\n    canvas_div.addEventListener(\n        'keyup',\n        on_keyboard_event_closure('key_release')\n    );\n\n    this._canvas_extra_style(canvas_div);\n    this.root.appendChild(canvas_div);\n\n    var canvas = (this.canvas = document.createElement('canvas'));\n    canvas.classList.add('mpl-canvas');\n    canvas.setAttribute('style', 'box-sizing: content-box;');\n\n    this.context = canvas.getContext('2d');\n\n    var backingStore =\n        this.context.backingStorePixelRatio ||\n        this.context.webkitBackingStorePixelRatio ||\n        this.context.mozBackingStorePixelRatio ||\n        this.context.msBackingStorePixelRatio ||\n        this.context.oBackingStorePixelRatio ||\n        this.context.backingStorePixelRatio ||\n        1;\n\n    this.ratio = (window.devicePixelRatio || 1) / backingStore;\n\n    var rubberband_canvas = (this.rubberband_canvas = document.createElement(\n        'canvas'\n    ));\n    rubberband_canvas.setAttribute(\n        'style',\n        'box-sizing: content-box; position: absolute; left: 0; top: 0; z-index: 1;'\n    );\n\n    // Apply a ponyfill if ResizeObserver is not implemented by browser.\n    if (this.ResizeObserver === undefined) {\n        if (window.ResizeObserver !== undefined) {\n            this.ResizeObserver = window.ResizeObserver;\n        } else {\n            var obs = _JSXTOOLS_RESIZE_OBSERVER({});\n            this.ResizeObserver = obs.ResizeObserver;\n        }\n    }\n\n    this.resizeObserverInstance = new this.ResizeObserver(function (entries) {\n        var nentries = entries.length;\n        for (var i = 0; i < nentries; i++) {\n            var entry = entries[i];\n            var width, height;\n            if (entry.contentBoxSize) {\n                if (entry.contentBoxSize instanceof Array) {\n                    // Chrome 84 implements new version of spec.\n                    width = entry.contentBoxSize[0].inlineSize;\n                    height = entry.contentBoxSize[0].blockSize;\n                } else {\n                    // Firefox implements old version of spec.\n                    width = entry.contentBoxSize.inlineSize;\n                    height = entry.contentBoxSize.blockSize;\n                }\n            } else {\n                // Chrome <84 implements even older version of spec.\n                width = entry.contentRect.width;\n                height = entry.contentRect.height;\n            }\n\n            // Keep the size of the canvas and rubber band canvas in sync with\n            // the canvas container.\n            if (entry.devicePixelContentBoxSize) {\n                // Chrome 84 implements new version of spec.\n                canvas.setAttribute(\n                    'width',\n                    entry.devicePixelContentBoxSize[0].inlineSize\n                );\n                canvas.setAttribute(\n                    'height',\n                    entry.devicePixelContentBoxSize[0].blockSize\n                );\n            } else {\n                canvas.setAttribute('width', width * fig.ratio);\n                canvas.setAttribute('height', height * fig.ratio);\n            }\n            canvas.setAttribute(\n                'style',\n                'width: ' + width + 'px; height: ' + height + 'px;'\n            );\n\n            rubberband_canvas.setAttribute('width', width);\n            rubberband_canvas.setAttribute('height', height);\n\n            // And update the size in Python. We ignore the initial 0/0 size\n            // that occurs as the element is placed into the DOM, which should\n            // otherwise not happen due to the minimum size styling.\n            if (fig.ws.readyState == 1 && width != 0 && height != 0) {\n                fig.request_resize(width, height);\n            }\n        }\n    });\n    this.resizeObserverInstance.observe(canvas_div);\n\n    function on_mouse_event_closure(name) {\n        return function (event) {\n            return fig.mouse_event(event, name);\n        };\n    }\n\n    rubberband_canvas.addEventListener(\n        'mousedown',\n        on_mouse_event_closure('button_press')\n    );\n    rubberband_canvas.addEventListener(\n        'mouseup',\n        on_mouse_event_closure('button_release')\n    );\n    rubberband_canvas.addEventListener(\n        'dblclick',\n        on_mouse_event_closure('dblclick')\n    );\n    // Throttle sequential mouse events to 1 every 20ms.\n    rubberband_canvas.addEventListener(\n        'mousemove',\n        on_mouse_event_closure('motion_notify')\n    );\n\n    rubberband_canvas.addEventListener(\n        'mouseenter',\n        on_mouse_event_closure('figure_enter')\n    );\n    rubberband_canvas.addEventListener(\n        'mouseleave',\n        on_mouse_event_closure('figure_leave')\n    );\n\n    canvas_div.addEventListener('wheel', function (event) {\n        if (event.deltaY < 0) {\n            event.step = 1;\n        } else {\n            event.step = -1;\n        }\n        on_mouse_event_closure('scroll')(event);\n    });\n\n    canvas_div.appendChild(canvas);\n    canvas_div.appendChild(rubberband_canvas);\n\n    this.rubberband_context = rubberband_canvas.getContext('2d');\n    this.rubberband_context.strokeStyle = '#000000';\n\n    this._resize_canvas = function (width, height, forward) {\n        if (forward) {\n            canvas_div.style.width = width + 'px';\n            canvas_div.style.height = height + 'px';\n        }\n    };\n\n    // Disable right mouse context menu.\n    this.rubberband_canvas.addEventListener('contextmenu', function (_e) {\n        event.preventDefault();\n        return false;\n    });\n\n    function set_focus() {\n        canvas.focus();\n        canvas_div.focus();\n    }\n\n    window.setTimeout(set_focus, 100);\n};\n\nmpl.figure.prototype._init_toolbar = function () {\n    var fig = this;\n\n    var toolbar = document.createElement('div');\n    toolbar.classList = 'mpl-toolbar';\n    this.root.appendChild(toolbar);\n\n    function on_click_closure(name) {\n        return function (_event) {\n            return fig.toolbar_button_onclick(name);\n        };\n    }\n\n    function on_mouseover_closure(tooltip) {\n        return function (event) {\n            if (!event.currentTarget.disabled) {\n                return fig.toolbar_button_onmouseover(tooltip);\n            }\n        };\n    }\n\n    fig.buttons = {};\n    var buttonGroup = document.createElement('div');\n    buttonGroup.classList = 'mpl-button-group';\n    for (var toolbar_ind in mpl.toolbar_items) {\n        var name = mpl.toolbar_items[toolbar_ind][0];\n        var tooltip = mpl.toolbar_items[toolbar_ind][1];\n        var image = mpl.toolbar_items[toolbar_ind][2];\n        var method_name = mpl.toolbar_items[toolbar_ind][3];\n\n        if (!name) {\n            /* Instead of a spacer, we start a new button group. */\n            if (buttonGroup.hasChildNodes()) {\n                toolbar.appendChild(buttonGroup);\n            }\n            buttonGroup = document.createElement('div');\n            buttonGroup.classList = 'mpl-button-group';\n            continue;\n        }\n\n        var button = (fig.buttons[name] = document.createElement('button'));\n        button.classList = 'mpl-widget';\n        button.setAttribute('role', 'button');\n        button.setAttribute('aria-disabled', 'false');\n        button.addEventListener('click', on_click_closure(method_name));\n        button.addEventListener('mouseover', on_mouseover_closure(tooltip));\n\n        var icon_img = document.createElement('img');\n        icon_img.src = '_images/' + image + '.png';\n        icon_img.srcset = '_images/' + image + '_large.png 2x';\n        icon_img.alt = tooltip;\n        button.appendChild(icon_img);\n\n        buttonGroup.appendChild(button);\n    }\n\n    if (buttonGroup.hasChildNodes()) {\n        toolbar.appendChild(buttonGroup);\n    }\n\n    var fmt_picker = document.createElement('select');\n    fmt_picker.classList = 'mpl-widget';\n    toolbar.appendChild(fmt_picker);\n    this.format_dropdown = fmt_picker;\n\n    for (var ind in mpl.extensions) {\n        var fmt = mpl.extensions[ind];\n        var option = document.createElement('option');\n        option.selected = fmt === mpl.default_extension;\n        option.innerHTML = fmt;\n        fmt_picker.appendChild(option);\n    }\n\n    var status_bar = document.createElement('span');\n    status_bar.classList = 'mpl-message';\n    toolbar.appendChild(status_bar);\n    this.message = status_bar;\n};\n\nmpl.figure.prototype.request_resize = function (x_pixels, y_pixels) {\n    // Request matplotlib to resize the figure. Matplotlib will then trigger a resize in the client,\n    // which will in turn request a refresh of the image.\n    this.send_message('resize', { width: x_pixels, height: y_pixels });\n};\n\nmpl.figure.prototype.send_message = function (type, properties) {\n    properties['type'] = type;\n    properties['figure_id'] = this.id;\n    this.ws.send(JSON.stringify(properties));\n};\n\nmpl.figure.prototype.send_draw_message = function () {\n    if (!this.waiting) {\n        this.waiting = true;\n        this.ws.send(JSON.stringify({ type: 'draw', figure_id: this.id }));\n    }\n};\n\nmpl.figure.prototype.handle_save = function (fig, _msg) {\n    var format_dropdown = fig.format_dropdown;\n    var format = format_dropdown.options[format_dropdown.selectedIndex].value;\n    fig.ondownload(fig, format);\n};\n\nmpl.figure.prototype.handle_resize = function (fig, msg) {\n    var size = msg['size'];\n    if (size[0] !== fig.canvas.width || size[1] !== fig.canvas.height) {\n        fig._resize_canvas(size[0], size[1], msg['forward']);\n        fig.send_message('refresh', {});\n    }\n};\n\nmpl.figure.prototype.handle_rubberband = function (fig, msg) {\n    var x0 = msg['x0'] / fig.ratio;\n    var y0 = (fig.canvas.height - msg['y0']) / fig.ratio;\n    var x1 = msg['x1'] / fig.ratio;\n    var y1 = (fig.canvas.height - msg['y1']) / fig.ratio;\n    x0 = Math.floor(x0) + 0.5;\n    y0 = Math.floor(y0) + 0.5;\n    x1 = Math.floor(x1) + 0.5;\n    y1 = Math.floor(y1) + 0.5;\n    var min_x = Math.min(x0, x1);\n    var min_y = Math.min(y0, y1);\n    var width = Math.abs(x1 - x0);\n    var height = Math.abs(y1 - y0);\n\n    fig.rubberband_context.clearRect(\n        0,\n        0,\n        fig.canvas.width / fig.ratio,\n        fig.canvas.height / fig.ratio\n    );\n\n    fig.rubberband_context.strokeRect(min_x, min_y, width, height);\n};\n\nmpl.figure.prototype.handle_figure_label = function (fig, msg) {\n    // Updates the figure title.\n    fig.header.textContent = msg['label'];\n};\n\nmpl.figure.prototype.handle_cursor = function (fig, msg) {\n    var cursor = msg['cursor'];\n    switch (cursor) {\n        case 0:\n            cursor = 'pointer';\n            break;\n        case 1:\n            cursor = 'default';\n            break;\n        case 2:\n            cursor = 'crosshair';\n            break;\n        case 3:\n            cursor = 'move';\n            break;\n    }\n    fig.rubberband_canvas.style.cursor = cursor;\n};\n\nmpl.figure.prototype.handle_message = function (fig, msg) {\n    fig.message.textContent = msg['message'];\n};\n\nmpl.figure.prototype.handle_draw = function (fig, _msg) {\n    // Request the server to send over a new figure.\n    fig.send_draw_message();\n};\n\nmpl.figure.prototype.handle_image_mode = function (fig, msg) {\n    fig.image_mode = msg['mode'];\n};\n\nmpl.figure.prototype.handle_history_buttons = function (fig, msg) {\n    for (var key in msg) {\n        if (!(key in fig.buttons)) {\n            continue;\n        }\n        fig.buttons[key].disabled = !msg[key];\n        fig.buttons[key].setAttribute('aria-disabled', !msg[key]);\n    }\n};\n\nmpl.figure.prototype.handle_navigate_mode = function (fig, msg) {\n    if (msg['mode'] === 'PAN') {\n        fig.buttons['Pan'].classList.add('active');\n        fig.buttons['Zoom'].classList.remove('active');\n    } else if (msg['mode'] === 'ZOOM') {\n        fig.buttons['Pan'].classList.remove('active');\n        fig.buttons['Zoom'].classList.add('active');\n    } else {\n        fig.buttons['Pan'].classList.remove('active');\n        fig.buttons['Zoom'].classList.remove('active');\n    }\n};\n\nmpl.figure.prototype.updated_canvas_event = function () {\n    // Called whenever the canvas gets updated.\n    this.send_message('ack', {});\n};\n\n// A function to construct a web socket function for onmessage handling.\n// Called in the figure constructor.\nmpl.figure.prototype._make_on_message_function = function (fig) {\n    return function socket_on_message(evt) {\n        if (evt.data instanceof Blob) {\n            var img = evt.data;\n            if (img.type !== 'image/png') {\n                /* FIXME: We get \"Resource interpreted as Image but\n                 * transferred with MIME type text/plain:\" errors on\n                 * Chrome.  But how to set the MIME type?  It doesn't seem\n                 * to be part of the websocket stream */\n                img.type = 'image/png';\n            }\n\n            /* Free the memory for the previous frames */\n            if (fig.imageObj.src) {\n                (window.URL || window.webkitURL).revokeObjectURL(\n                    fig.imageObj.src\n                );\n            }\n\n            fig.imageObj.src = (window.URL || window.webkitURL).createObjectURL(\n                img\n            );\n            fig.updated_canvas_event();\n            fig.waiting = false;\n            return;\n        } else if (\n            typeof evt.data === 'string' &&\n            evt.data.slice(0, 21) === 'data:image/png;base64'\n        ) {\n            fig.imageObj.src = evt.data;\n            fig.updated_canvas_event();\n            fig.waiting = false;\n            return;\n        }\n\n        var msg = JSON.parse(evt.data);\n        var msg_type = msg['type'];\n\n        // Call the  \"handle_{type}\" callback, which takes\n        // the figure and JSON message as its only arguments.\n        try {\n            var callback = fig['handle_' + msg_type];\n        } catch (e) {\n            console.log(\n                \"No handler for the '\" + msg_type + \"' message type: \",\n                msg\n            );\n            return;\n        }\n\n        if (callback) {\n            try {\n                // console.log(\"Handling '\" + msg_type + \"' message: \", msg);\n                callback(fig, msg);\n            } catch (e) {\n                console.log(\n                    \"Exception inside the 'handler_\" + msg_type + \"' callback:\",\n                    e,\n                    e.stack,\n                    msg\n                );\n            }\n        }\n    };\n};\n\n// from http://stackoverflow.com/questions/1114465/getting-mouse-location-in-canvas\nmpl.findpos = function (e) {\n    //this section is from http://www.quirksmode.org/js/events_properties.html\n    var targ;\n    if (!e) {\n        e = window.event;\n    }\n    if (e.target) {\n        targ = e.target;\n    } else if (e.srcElement) {\n        targ = e.srcElement;\n    }\n    if (targ.nodeType === 3) {\n        // defeat Safari bug\n        targ = targ.parentNode;\n    }\n\n    // pageX,Y are the mouse positions relative to the document\n    var boundingRect = targ.getBoundingClientRect();\n    var x = e.pageX - (boundingRect.left + document.body.scrollLeft);\n    var y = e.pageY - (boundingRect.top + document.body.scrollTop);\n\n    return { x: x, y: y };\n};\n\n/*\n * return a copy of an object with only non-object keys\n * we need this to avoid circular references\n * http://stackoverflow.com/a/24161582/3208463\n */\nfunction simpleKeys(original) {\n    return Object.keys(original).reduce(function (obj, key) {\n        if (typeof original[key] !== 'object') {\n            obj[key] = original[key];\n        }\n        return obj;\n    }, {});\n}\n\nmpl.figure.prototype.mouse_event = function (event, name) {\n    var canvas_pos = mpl.findpos(event);\n\n    if (name === 'button_press') {\n        this.canvas.focus();\n        this.canvas_div.focus();\n    }\n\n    var x = canvas_pos.x * this.ratio;\n    var y = canvas_pos.y * this.ratio;\n\n    this.send_message(name, {\n        x: x,\n        y: y,\n        button: event.button,\n        step: event.step,\n        guiEvent: simpleKeys(event),\n    });\n\n    /* This prevents the web browser from automatically changing to\n     * the text insertion cursor when the button is pressed.  We want\n     * to control all of the cursor setting manually through the\n     * 'cursor' event from matplotlib */\n    event.preventDefault();\n    return false;\n};\n\nmpl.figure.prototype._key_event_extra = function (_event, _name) {\n    // Handle any extra behaviour associated with a key event\n};\n\nmpl.figure.prototype.key_event = function (event, name) {\n    // Prevent repeat events\n    if (name === 'key_press') {\n        if (event.key === this._key) {\n            return;\n        } else {\n            this._key = event.key;\n        }\n    }\n    if (name === 'key_release') {\n        this._key = null;\n    }\n\n    var value = '';\n    if (event.ctrlKey && event.key !== 'Control') {\n        value += 'ctrl+';\n    }\n    else if (event.altKey && event.key !== 'Alt') {\n        value += 'alt+';\n    }\n    else if (event.shiftKey && event.key !== 'Shift') {\n        value += 'shift+';\n    }\n\n    value += 'k' + event.key;\n\n    this._key_event_extra(event, name);\n\n    this.send_message(name, { key: value, guiEvent: simpleKeys(event) });\n    return false;\n};\n\nmpl.figure.prototype.toolbar_button_onclick = function (name) {\n    if (name === 'download') {\n        this.handle_save(this, null);\n    } else {\n        this.send_message('toolbar_button', { name: name });\n    }\n};\n\nmpl.figure.prototype.toolbar_button_onmouseover = function (tooltip) {\n    this.message.textContent = tooltip;\n};\n\n///////////////// REMAINING CONTENT GENERATED BY embed_js.py /////////////////\n// prettier-ignore\nvar _JSXTOOLS_RESIZE_OBSERVER=function(A){var t,i=new WeakMap,n=new WeakMap,a=new WeakMap,r=new WeakMap,o=new Set;function s(e){if(!(this instanceof s))throw new TypeError(\"Constructor requires 'new' operator\");i.set(this,e)}function h(){throw new TypeError(\"Function is not a constructor\")}function c(e,t,i,n){e=0 in arguments?Number(arguments[0]):0,t=1 in arguments?Number(arguments[1]):0,i=2 in arguments?Number(arguments[2]):0,n=3 in arguments?Number(arguments[3]):0,this.right=(this.x=this.left=e)+(this.width=i),this.bottom=(this.y=this.top=t)+(this.height=n),Object.freeze(this)}function d(){t=requestAnimationFrame(d);var s=new WeakMap,p=new Set;o.forEach((function(t){r.get(t).forEach((function(i){var r=t instanceof window.SVGElement,o=a.get(t),d=r?0:parseFloat(o.paddingTop),f=r?0:parseFloat(o.paddingRight),l=r?0:parseFloat(o.paddingBottom),u=r?0:parseFloat(o.paddingLeft),g=r?0:parseFloat(o.borderTopWidth),m=r?0:parseFloat(o.borderRightWidth),w=r?0:parseFloat(o.borderBottomWidth),b=u+f,F=d+l,v=(r?0:parseFloat(o.borderLeftWidth))+m,W=g+w,y=r?0:t.offsetHeight-W-t.clientHeight,E=r?0:t.offsetWidth-v-t.clientWidth,R=b+v,z=F+W,M=r?t.width:parseFloat(o.width)-R-E,O=r?t.height:parseFloat(o.height)-z-y;if(n.has(t)){var k=n.get(t);if(k[0]===M&&k[1]===O)return}n.set(t,[M,O]);var S=Object.create(h.prototype);S.target=t,S.contentRect=new c(u,d,M,O),s.has(i)||(s.set(i,[]),p.add(i)),s.get(i).push(S)}))})),p.forEach((function(e){i.get(e).call(e,s.get(e),e)}))}return s.prototype.observe=function(i){if(i instanceof window.Element){r.has(i)||(r.set(i,new Set),o.add(i),a.set(i,window.getComputedStyle(i)));var n=r.get(i);n.has(this)||n.add(this),cancelAnimationFrame(t),t=requestAnimationFrame(d)}},s.prototype.unobserve=function(i){if(i instanceof window.Element&&r.has(i)){var n=r.get(i);n.has(this)&&(n.delete(this),n.size||(r.delete(i),o.delete(i))),n.size||r.delete(i),o.size||cancelAnimationFrame(t)}},A.DOMRectReadOnly=c,A.ResizeObserver=s,A.ResizeObserverEntry=h,A}; // eslint-disable-line\nmpl.toolbar_items = [[\"Home\", \"Reset original view\", \"fa fa-home icon-home\", \"home\"], [\"Back\", \"Back to previous view\", \"fa fa-arrow-left icon-arrow-left\", \"back\"], [\"Forward\", \"Forward to next view\", \"fa fa-arrow-right icon-arrow-right\", \"forward\"], [\"\", \"\", \"\", \"\"], [\"Pan\", \"Left button pans, Right button zooms\\nx/y fixes axis, CTRL fixes aspect\", \"fa fa-arrows icon-move\", \"pan\"], [\"Zoom\", \"Zoom to rectangle\\nx/y fixes axis, CTRL fixes aspect\", \"fa fa-square-o icon-check-empty\", \"zoom\"], [\"\", \"\", \"\", \"\"], [\"Download\", \"Download plot\", \"fa fa-floppy-o icon-save\", \"download\"]];\n\nmpl.extensions = [\"eps\", \"jpeg\", \"pgf\", \"pdf\", \"png\", \"ps\", \"raw\", \"svg\", \"tif\"];\n\nmpl.default_extension = \"png\";/* global mpl */\n\nvar comm_websocket_adapter = function (comm) {\n    // Create a \"websocket\"-like object which calls the given IPython comm\n    // object with the appropriate methods. Currently this is a non binary\n    // socket, so there is still some room for performance tuning.\n    var ws = {};\n\n    ws.binaryType = comm.kernel.ws.binaryType;\n    ws.readyState = comm.kernel.ws.readyState;\n    function updateReadyState(_event) {\n        if (comm.kernel.ws) {\n            ws.readyState = comm.kernel.ws.readyState;\n        } else {\n            ws.readyState = 3; // Closed state.\n        }\n    }\n    comm.kernel.ws.addEventListener('open', updateReadyState);\n    comm.kernel.ws.addEventListener('close', updateReadyState);\n    comm.kernel.ws.addEventListener('error', updateReadyState);\n\n    ws.close = function () {\n        comm.close();\n    };\n    ws.send = function (m) {\n        //console.log('sending', m);\n        comm.send(m);\n    };\n    // Register the callback with on_msg.\n    comm.on_msg(function (msg) {\n        //console.log('receiving', msg['content']['data'], msg);\n        var data = msg['content']['data'];\n        if (data['blob'] !== undefined) {\n            data = {\n                data: new Blob(msg['buffers'], { type: data['blob'] }),\n            };\n        }\n        // Pass the mpl event to the overridden (by mpl) onmessage function.\n        ws.onmessage(data);\n    });\n    return ws;\n};\n\nmpl.mpl_figure_comm = function (comm, msg) {\n    // This is the function which gets called when the mpl process\n    // starts-up an IPython Comm through the \"matplotlib\" channel.\n\n    var id = msg.content.data.id;\n    // Get hold of the div created by the display call when the Comm\n    // socket was opened in Python.\n    var element = document.getElementById(id);\n    var ws_proxy = comm_websocket_adapter(comm);\n\n    function ondownload(figure, _format) {\n        window.open(figure.canvas.toDataURL());\n    }\n\n    var fig = new mpl.figure(id, ws_proxy, ondownload, element);\n\n    // Call onopen now - mpl needs it, as it is assuming we've passed it a real\n    // web socket which is closed, not our websocket->open comm proxy.\n    ws_proxy.onopen();\n\n    fig.parent_element = element;\n    fig.cell_info = mpl.find_output_cell(\"<div id='\" + id + \"'></div>\");\n    if (!fig.cell_info) {\n        console.error('Failed to find cell for figure', id, fig);\n        return;\n    }\n    fig.cell_info[0].output_area.element.on(\n        'cleared',\n        { fig: fig },\n        fig._remove_fig_handler\n    );\n};\n\nmpl.figure.prototype.handle_close = function (fig, msg) {\n    var width = fig.canvas.width / fig.ratio;\n    fig.cell_info[0].output_area.element.off(\n        'cleared',\n        fig._remove_fig_handler\n    );\n    fig.resizeObserverInstance.unobserve(fig.canvas_div);\n\n    // Update the output cell to use the data from the current canvas.\n    fig.push_to_output();\n    var dataURL = fig.canvas.toDataURL();\n    // Re-enable the keyboard manager in IPython - without this line, in FF,\n    // the notebook keyboard shortcuts fail.\n    IPython.keyboard_manager.enable();\n    fig.parent_element.innerHTML =\n        '<img src=\"' + dataURL + '\" width=\"' + width + '\">';\n    fig.close_ws(fig, msg);\n};\n\nmpl.figure.prototype.close_ws = function (fig, msg) {\n    fig.send_message('closing', msg);\n    // fig.ws.close()\n};\n\nmpl.figure.prototype.push_to_output = function (_remove_interactive) {\n    // Turn the data on the canvas into data in the output cell.\n    var width = this.canvas.width / this.ratio;\n    var dataURL = this.canvas.toDataURL();\n    this.cell_info[1]['text/html'] =\n        '<img src=\"' + dataURL + '\" width=\"' + width + '\">';\n};\n\nmpl.figure.prototype.updated_canvas_event = function () {\n    // Tell IPython that the notebook contents must change.\n    IPython.notebook.set_dirty(true);\n    this.send_message('ack', {});\n    var fig = this;\n    // Wait a second, then push the new image to the DOM so\n    // that it is saved nicely (might be nice to debounce this).\n    setTimeout(function () {\n        fig.push_to_output();\n    }, 1000);\n};\n\nmpl.figure.prototype._init_toolbar = function () {\n    var fig = this;\n\n    var toolbar = document.createElement('div');\n    toolbar.classList = 'btn-toolbar';\n    this.root.appendChild(toolbar);\n\n    function on_click_closure(name) {\n        return function (_event) {\n            return fig.toolbar_button_onclick(name);\n        };\n    }\n\n    function on_mouseover_closure(tooltip) {\n        return function (event) {\n            if (!event.currentTarget.disabled) {\n                return fig.toolbar_button_onmouseover(tooltip);\n            }\n        };\n    }\n\n    fig.buttons = {};\n    var buttonGroup = document.createElement('div');\n    buttonGroup.classList = 'btn-group';\n    var button;\n    for (var toolbar_ind in mpl.toolbar_items) {\n        var name = mpl.toolbar_items[toolbar_ind][0];\n        var tooltip = mpl.toolbar_items[toolbar_ind][1];\n        var image = mpl.toolbar_items[toolbar_ind][2];\n        var method_name = mpl.toolbar_items[toolbar_ind][3];\n\n        if (!name) {\n            /* Instead of a spacer, we start a new button group. */\n            if (buttonGroup.hasChildNodes()) {\n                toolbar.appendChild(buttonGroup);\n            }\n            buttonGroup = document.createElement('div');\n            buttonGroup.classList = 'btn-group';\n            continue;\n        }\n\n        button = fig.buttons[name] = document.createElement('button');\n        button.classList = 'btn btn-default';\n        button.href = '#';\n        button.title = name;\n        button.innerHTML = '<i class=\"fa ' + image + ' fa-lg\"></i>';\n        button.addEventListener('click', on_click_closure(method_name));\n        button.addEventListener('mouseover', on_mouseover_closure(tooltip));\n        buttonGroup.appendChild(button);\n    }\n\n    if (buttonGroup.hasChildNodes()) {\n        toolbar.appendChild(buttonGroup);\n    }\n\n    // Add the status bar.\n    var status_bar = document.createElement('span');\n    status_bar.classList = 'mpl-message pull-right';\n    toolbar.appendChild(status_bar);\n    this.message = status_bar;\n\n    // Add the close button to the window.\n    var buttongrp = document.createElement('div');\n    buttongrp.classList = 'btn-group inline pull-right';\n    button = document.createElement('button');\n    button.classList = 'btn btn-mini btn-primary';\n    button.href = '#';\n    button.title = 'Stop Interaction';\n    button.innerHTML = '<i class=\"fa fa-power-off icon-remove icon-large\"></i>';\n    button.addEventListener('click', function (_evt) {\n        fig.handle_close(fig, {});\n    });\n    button.addEventListener(\n        'mouseover',\n        on_mouseover_closure('Stop Interaction')\n    );\n    buttongrp.appendChild(button);\n    var titlebar = this.root.querySelector('.ui-dialog-titlebar');\n    titlebar.insertBefore(buttongrp, titlebar.firstChild);\n};\n\nmpl.figure.prototype._remove_fig_handler = function (event) {\n    var fig = event.data.fig;\n    if (event.target !== this) {\n        // Ignore bubbled events from children.\n        return;\n    }\n    fig.close_ws(fig, {});\n};\n\nmpl.figure.prototype._root_extra_style = function (el) {\n    el.style.boxSizing = 'content-box'; // override notebook setting of border-box.\n};\n\nmpl.figure.prototype._canvas_extra_style = function (el) {\n    // this is important to make the div 'focusable\n    el.setAttribute('tabindex', 0);\n    // reach out to IPython and tell the keyboard manager to turn it's self\n    // off when our div gets focus\n\n    // location in version 3\n    if (IPython.notebook.keyboard_manager) {\n        IPython.notebook.keyboard_manager.register_events(el);\n    } else {\n        // location in version 2\n        IPython.keyboard_manager.register_events(el);\n    }\n};\n\nmpl.figure.prototype._key_event_extra = function (event, _name) {\n    var manager = IPython.notebook.keyboard_manager;\n    if (!manager) {\n        manager = IPython.keyboard_manager;\n    }\n\n    // Check for shift+enter\n    if (event.shiftKey && event.which === 13) {\n        this.canvas_div.blur();\n        // select the cell after this one\n        var index = IPython.notebook.find_cell_index(this.cell_info[0]);\n        IPython.notebook.select(index + 1);\n    }\n};\n\nmpl.figure.prototype.handle_save = function (fig, _msg) {\n    fig.ondownload(fig, null);\n};\n\nmpl.find_output_cell = function (html_output) {\n    // Return the cell and output element which can be found *uniquely* in the notebook.\n    // Note - this is a bit hacky, but it is done because the \"notebook_saving.Notebook\"\n    // IPython event is triggered only after the cells have been serialised, which for\n    // our purposes (turning an active figure into a static one), is too late.\n    var cells = IPython.notebook.get_cells();\n    var ncells = cells.length;\n    for (var i = 0; i < ncells; i++) {\n        var cell = cells[i];\n        if (cell.cell_type === 'code') {\n            for (var j = 0; j < cell.output_area.outputs.length; j++) {\n                var data = cell.output_area.outputs[j];\n                if (data.data) {\n                    // IPython >= 3 moved mimebundle to data attribute of output\n                    data = data.data;\n                }\n                if (data['text/html'] === html_output) {\n                    return [cell, data, j];\n                }\n            }\n        }\n    }\n};\n\n// Register the function which deals with the matplotlib target/channel.\n// The kernel may be null if the page has been refreshed.\nif (IPython.notebook.kernel !== null) {\n    IPython.notebook.kernel.comm_manager.register_target(\n        'matplotlib',\n        mpl.mpl_figure_comm\n    );\n}\n",
            "text/plain": [
              "<IPython.core.display.Javascript object>"
            ]
          },
          "metadata": {},
          "output_type": "display_data"
        },
        {
          "data": {
            "text/html": [
              "<img src=\"data:image/png;base64,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\" width=\"640\">"
            ],
            "text/plain": [
              "<IPython.core.display.HTML object>"
            ]
          },
          "metadata": {},
          "output_type": "display_data"
        },
        {
          "name": "stdout",
          "output_type": "stream",
          "text": [
            "2,42\n",
            "2,43\n",
            "2,44\n",
            "2,46\n",
            "2,47\n",
            "2,48\n",
            "2,49\n",
            "2,53\n",
            "2,45\n",
            "2,50\n",
            "2,51\n",
            "2,52\n",
            "2,54\n",
            "2,55\n",
            "2,56\n",
            "2,57\n",
            "2,58\n",
            "2,16\n",
            "2,60\n",
            "2,59\n",
            "2,65\n",
            "2,61\n",
            "2,62\n",
            "2,63\n",
            "2,64\n",
            "2,68\n",
            "2,69\n",
            "2,70\n"
          ]
        },
        {
          "ename": "KeyboardInterrupt",
          "evalue": "",
          "output_type": "error",
          "traceback": [
            "\u001b[1;31m---------------------------------------------------------------------------\u001b[0m",
            "\u001b[1;31mKeyboardInterrupt\u001b[0m                         Traceback (most recent call last)",
            "\u001b[1;32m~\\AppData\\Local\\Temp/ipykernel_4212/427724906.py\u001b[0m in \u001b[0;36m<module>\u001b[1;34m\u001b[0m\n\u001b[0;32m     25\u001b[0m                 \u001b[1;32mif\u001b[0m \u001b[0mlabeled\u001b[0m\u001b[1;33m:\u001b[0m\u001b[1;33m\u001b[0m\u001b[1;33m\u001b[0m\u001b[0m\n\u001b[0;32m     26\u001b[0m                     \u001b[0max\u001b[0m\u001b[1;33m.\u001b[0m\u001b[0mbar\u001b[0m\u001b[1;33m(\u001b[0m\u001b[0mv\u001b[0m\u001b[1;33m,\u001b[0m\u001b[0mlen\u001b[0m\u001b[1;33m(\u001b[0m\u001b[1;33m[\u001b[0m\u001b[0md\u001b[0m \u001b[1;32mfor\u001b[0m \u001b[0md\u001b[0m \u001b[1;32min\u001b[0m \u001b[0ml\u001b[0m \u001b[1;32mif\u001b[0m \u001b[0md\u001b[0m\u001b[1;33m==\u001b[0m\u001b[0mv\u001b[0m\u001b[1;33m]\u001b[0m\u001b[1;33m)\u001b[0m\u001b[1;33m,\u001b[0m\u001b[0mcolor\u001b[0m\u001b[1;33m=\u001b[0m\u001b[0mc\u001b[0m\u001b[1;33m)\u001b[0m\u001b[1;33m\u001b[0m\u001b[1;33m\u001b[0m\u001b[0m\n\u001b[1;32m---> 27\u001b[1;33m                     \u001b[0mfig\u001b[0m\u001b[1;33m.\u001b[0m\u001b[0mcanvas\u001b[0m\u001b[1;33m.\u001b[0m\u001b[0mdraw\u001b[0m\u001b[1;33m(\u001b[0m\u001b[1;33m)\u001b[0m\u001b[1;33m\u001b[0m\u001b[1;33m\u001b[0m\u001b[0m\n\u001b[0m\u001b[0;32m     28\u001b[0m                 \u001b[1;32melse\u001b[0m\u001b[1;33m:\u001b[0m\u001b[1;33m\u001b[0m\u001b[1;33m\u001b[0m\u001b[0m\n\u001b[0;32m     29\u001b[0m                     \u001b[0max\u001b[0m\u001b[1;33m.\u001b[0m\u001b[0mbar\u001b[0m\u001b[1;33m(\u001b[0m\u001b[0mv\u001b[0m\u001b[1;33m,\u001b[0m\u001b[0mlen\u001b[0m\u001b[1;33m(\u001b[0m\u001b[1;33m[\u001b[0m\u001b[0md\u001b[0m \u001b[1;32mfor\u001b[0m \u001b[0md\u001b[0m \u001b[1;32min\u001b[0m \u001b[0ml\u001b[0m \u001b[1;32mif\u001b[0m \u001b[0md\u001b[0m\u001b[1;33m==\u001b[0m\u001b[0mv\u001b[0m\u001b[1;33m]\u001b[0m\u001b[1;33m)\u001b[0m\u001b[1;33m,\u001b[0m\u001b[0mlabel\u001b[0m\u001b[1;33m=\u001b[0m\u001b[0mk\u001b[0m\u001b[1;33m,\u001b[0m\u001b[0mcolor\u001b[0m\u001b[1;33m=\u001b[0m\u001b[0mc\u001b[0m\u001b[1;33m)\u001b[0m\u001b[1;33m\u001b[0m\u001b[1;33m\u001b[0m\u001b[0m\n",
            "\u001b[1;32m~\\anaconda3\\lib\\site-packages\\matplotlib\\backends\\backend_webagg_core.py\u001b[0m in \u001b[0;36mdraw\u001b[1;34m(self)\u001b[0m\n\u001b[0;32m    151\u001b[0m         \u001b[0mself\u001b[0m\u001b[1;33m.\u001b[0m\u001b[0m_png_is_old\u001b[0m \u001b[1;33m=\u001b[0m \u001b[1;32mTrue\u001b[0m\u001b[1;33m\u001b[0m\u001b[1;33m\u001b[0m\u001b[0m\n\u001b[0;32m    152\u001b[0m         \u001b[1;32mtry\u001b[0m\u001b[1;33m:\u001b[0m\u001b[1;33m\u001b[0m\u001b[1;33m\u001b[0m\u001b[0m\n\u001b[1;32m--> 153\u001b[1;33m             \u001b[0msuper\u001b[0m\u001b[1;33m(\u001b[0m\u001b[1;33m)\u001b[0m\u001b[1;33m.\u001b[0m\u001b[0mdraw\u001b[0m\u001b[1;33m(\u001b[0m\u001b[1;33m)\u001b[0m\u001b[1;33m\u001b[0m\u001b[1;33m\u001b[0m\u001b[0m\n\u001b[0m\u001b[0;32m    154\u001b[0m         \u001b[1;32mfinally\u001b[0m\u001b[1;33m:\u001b[0m\u001b[1;33m\u001b[0m\u001b[1;33m\u001b[0m\u001b[0m\n\u001b[0;32m    155\u001b[0m             \u001b[0mself\u001b[0m\u001b[1;33m.\u001b[0m\u001b[0mmanager\u001b[0m\u001b[1;33m.\u001b[0m\u001b[0mrefresh_all\u001b[0m\u001b[1;33m(\u001b[0m\u001b[1;33m)\u001b[0m  \u001b[1;31m# Swap the frames.\u001b[0m\u001b[1;33m\u001b[0m\u001b[1;33m\u001b[0m\u001b[0m\n",
            "\u001b[1;32m~\\anaconda3\\lib\\site-packages\\matplotlib\\backends\\backend_agg.py\u001b[0m in \u001b[0;36mdraw\u001b[1;34m(self)\u001b[0m\n\u001b[0;32m    404\u001b[0m              (self.toolbar._wait_cursor_for_draw_cm() if self.toolbar\n\u001b[0;32m    405\u001b[0m               else nullcontext()):\n\u001b[1;32m--> 406\u001b[1;33m             \u001b[0mself\u001b[0m\u001b[1;33m.\u001b[0m\u001b[0mfigure\u001b[0m\u001b[1;33m.\u001b[0m\u001b[0mdraw\u001b[0m\u001b[1;33m(\u001b[0m\u001b[0mself\u001b[0m\u001b[1;33m.\u001b[0m\u001b[0mrenderer\u001b[0m\u001b[1;33m)\u001b[0m\u001b[1;33m\u001b[0m\u001b[1;33m\u001b[0m\u001b[0m\n\u001b[0m\u001b[0;32m    407\u001b[0m             \u001b[1;31m# A GUI class may be need to update a window using this draw, so\u001b[0m\u001b[1;33m\u001b[0m\u001b[1;33m\u001b[0m\u001b[0m\n\u001b[0;32m    408\u001b[0m             \u001b[1;31m# don't forget to call the superclass.\u001b[0m\u001b[1;33m\u001b[0m\u001b[1;33m\u001b[0m\u001b[0m\n",
            "\u001b[1;32m~\\anaconda3\\lib\\site-packages\\matplotlib\\artist.py\u001b[0m in \u001b[0;36mdraw_wrapper\u001b[1;34m(artist, renderer, *args, **kwargs)\u001b[0m\n\u001b[0;32m     72\u001b[0m     \u001b[1;33m@\u001b[0m\u001b[0mwraps\u001b[0m\u001b[1;33m(\u001b[0m\u001b[0mdraw\u001b[0m\u001b[1;33m)\u001b[0m\u001b[1;33m\u001b[0m\u001b[1;33m\u001b[0m\u001b[0m\n\u001b[0;32m     73\u001b[0m     \u001b[1;32mdef\u001b[0m \u001b[0mdraw_wrapper\u001b[0m\u001b[1;33m(\u001b[0m\u001b[0martist\u001b[0m\u001b[1;33m,\u001b[0m \u001b[0mrenderer\u001b[0m\u001b[1;33m,\u001b[0m \u001b[1;33m*\u001b[0m\u001b[0margs\u001b[0m\u001b[1;33m,\u001b[0m \u001b[1;33m**\u001b[0m\u001b[0mkwargs\u001b[0m\u001b[1;33m)\u001b[0m\u001b[1;33m:\u001b[0m\u001b[1;33m\u001b[0m\u001b[1;33m\u001b[0m\u001b[0m\n\u001b[1;32m---> 74\u001b[1;33m         \u001b[0mresult\u001b[0m \u001b[1;33m=\u001b[0m \u001b[0mdraw\u001b[0m\u001b[1;33m(\u001b[0m\u001b[0martist\u001b[0m\u001b[1;33m,\u001b[0m \u001b[0mrenderer\u001b[0m\u001b[1;33m,\u001b[0m \u001b[1;33m*\u001b[0m\u001b[0margs\u001b[0m\u001b[1;33m,\u001b[0m \u001b[1;33m**\u001b[0m\u001b[0mkwargs\u001b[0m\u001b[1;33m)\u001b[0m\u001b[1;33m\u001b[0m\u001b[1;33m\u001b[0m\u001b[0m\n\u001b[0m\u001b[0;32m     75\u001b[0m         \u001b[1;32mif\u001b[0m \u001b[0mrenderer\u001b[0m\u001b[1;33m.\u001b[0m\u001b[0m_rasterizing\u001b[0m\u001b[1;33m:\u001b[0m\u001b[1;33m\u001b[0m\u001b[1;33m\u001b[0m\u001b[0m\n\u001b[0;32m     76\u001b[0m             \u001b[0mrenderer\u001b[0m\u001b[1;33m.\u001b[0m\u001b[0mstop_rasterizing\u001b[0m\u001b[1;33m(\u001b[0m\u001b[1;33m)\u001b[0m\u001b[1;33m\u001b[0m\u001b[1;33m\u001b[0m\u001b[0m\n",
            "\u001b[1;32m~\\anaconda3\\lib\\site-packages\\matplotlib\\artist.py\u001b[0m in \u001b[0;36mdraw_wrapper\u001b[1;34m(artist, renderer, *args, **kwargs)\u001b[0m\n\u001b[0;32m     49\u001b[0m                 \u001b[0mrenderer\u001b[0m\u001b[1;33m.\u001b[0m\u001b[0mstart_filter\u001b[0m\u001b[1;33m(\u001b[0m\u001b[1;33m)\u001b[0m\u001b[1;33m\u001b[0m\u001b[1;33m\u001b[0m\u001b[0m\n\u001b[0;32m     50\u001b[0m \u001b[1;33m\u001b[0m\u001b[0m\n\u001b[1;32m---> 51\u001b[1;33m             \u001b[1;32mreturn\u001b[0m \u001b[0mdraw\u001b[0m\u001b[1;33m(\u001b[0m\u001b[0martist\u001b[0m\u001b[1;33m,\u001b[0m \u001b[0mrenderer\u001b[0m\u001b[1;33m,\u001b[0m \u001b[1;33m*\u001b[0m\u001b[0margs\u001b[0m\u001b[1;33m,\u001b[0m \u001b[1;33m**\u001b[0m\u001b[0mkwargs\u001b[0m\u001b[1;33m)\u001b[0m\u001b[1;33m\u001b[0m\u001b[1;33m\u001b[0m\u001b[0m\n\u001b[0m\u001b[0;32m     52\u001b[0m         \u001b[1;32mfinally\u001b[0m\u001b[1;33m:\u001b[0m\u001b[1;33m\u001b[0m\u001b[1;33m\u001b[0m\u001b[0m\n\u001b[0;32m     53\u001b[0m             \u001b[1;32mif\u001b[0m \u001b[0martist\u001b[0m\u001b[1;33m.\u001b[0m\u001b[0mget_agg_filter\u001b[0m\u001b[1;33m(\u001b[0m\u001b[1;33m)\u001b[0m \u001b[1;32mis\u001b[0m \u001b[1;32mnot\u001b[0m \u001b[1;32mNone\u001b[0m\u001b[1;33m:\u001b[0m\u001b[1;33m\u001b[0m\u001b[1;33m\u001b[0m\u001b[0m\n",
            "\u001b[1;32m~\\anaconda3\\lib\\site-packages\\matplotlib\\figure.py\u001b[0m in \u001b[0;36mdraw\u001b[1;34m(self, renderer)\u001b[0m\n\u001b[0;32m   2788\u001b[0m \u001b[1;33m\u001b[0m\u001b[0m\n\u001b[0;32m   2789\u001b[0m             \u001b[0mself\u001b[0m\u001b[1;33m.\u001b[0m\u001b[0mpatch\u001b[0m\u001b[1;33m.\u001b[0m\u001b[0mdraw\u001b[0m\u001b[1;33m(\u001b[0m\u001b[0mrenderer\u001b[0m\u001b[1;33m)\u001b[0m\u001b[1;33m\u001b[0m\u001b[1;33m\u001b[0m\u001b[0m\n\u001b[1;32m-> 2790\u001b[1;33m             mimage._draw_list_compositing_images(\n\u001b[0m\u001b[0;32m   2791\u001b[0m                 renderer, self, artists, self.suppressComposite)\n\u001b[0;32m   2792\u001b[0m \u001b[1;33m\u001b[0m\u001b[0m\n",
            "\u001b[1;32m~\\anaconda3\\lib\\site-packages\\matplotlib\\image.py\u001b[0m in \u001b[0;36m_draw_list_compositing_images\u001b[1;34m(renderer, parent, artists, suppress_composite)\u001b[0m\n\u001b[0;32m    130\u001b[0m     \u001b[1;32mif\u001b[0m \u001b[0mnot_composite\u001b[0m \u001b[1;32mor\u001b[0m \u001b[1;32mnot\u001b[0m \u001b[0mhas_images\u001b[0m\u001b[1;33m:\u001b[0m\u001b[1;33m\u001b[0m\u001b[1;33m\u001b[0m\u001b[0m\n\u001b[0;32m    131\u001b[0m         \u001b[1;32mfor\u001b[0m \u001b[0ma\u001b[0m \u001b[1;32min\u001b[0m \u001b[0martists\u001b[0m\u001b[1;33m:\u001b[0m\u001b[1;33m\u001b[0m\u001b[1;33m\u001b[0m\u001b[0m\n\u001b[1;32m--> 132\u001b[1;33m             \u001b[0ma\u001b[0m\u001b[1;33m.\u001b[0m\u001b[0mdraw\u001b[0m\u001b[1;33m(\u001b[0m\u001b[0mrenderer\u001b[0m\u001b[1;33m)\u001b[0m\u001b[1;33m\u001b[0m\u001b[1;33m\u001b[0m\u001b[0m\n\u001b[0m\u001b[0;32m    133\u001b[0m     \u001b[1;32melse\u001b[0m\u001b[1;33m:\u001b[0m\u001b[1;33m\u001b[0m\u001b[1;33m\u001b[0m\u001b[0m\n\u001b[0;32m    134\u001b[0m         \u001b[1;31m# Composite any adjacent images together\u001b[0m\u001b[1;33m\u001b[0m\u001b[1;33m\u001b[0m\u001b[0m\n",
            "\u001b[1;32m~\\anaconda3\\lib\\site-packages\\matplotlib\\artist.py\u001b[0m in \u001b[0;36mdraw_wrapper\u001b[1;34m(artist, renderer, *args, **kwargs)\u001b[0m\n\u001b[0;32m     49\u001b[0m                 \u001b[0mrenderer\u001b[0m\u001b[1;33m.\u001b[0m\u001b[0mstart_filter\u001b[0m\u001b[1;33m(\u001b[0m\u001b[1;33m)\u001b[0m\u001b[1;33m\u001b[0m\u001b[1;33m\u001b[0m\u001b[0m\n\u001b[0;32m     50\u001b[0m \u001b[1;33m\u001b[0m\u001b[0m\n\u001b[1;32m---> 51\u001b[1;33m             \u001b[1;32mreturn\u001b[0m \u001b[0mdraw\u001b[0m\u001b[1;33m(\u001b[0m\u001b[0martist\u001b[0m\u001b[1;33m,\u001b[0m \u001b[0mrenderer\u001b[0m\u001b[1;33m,\u001b[0m \u001b[1;33m*\u001b[0m\u001b[0margs\u001b[0m\u001b[1;33m,\u001b[0m \u001b[1;33m**\u001b[0m\u001b[0mkwargs\u001b[0m\u001b[1;33m)\u001b[0m\u001b[1;33m\u001b[0m\u001b[1;33m\u001b[0m\u001b[0m\n\u001b[0m\u001b[0;32m     52\u001b[0m         \u001b[1;32mfinally\u001b[0m\u001b[1;33m:\u001b[0m\u001b[1;33m\u001b[0m\u001b[1;33m\u001b[0m\u001b[0m\n\u001b[0;32m     53\u001b[0m             \u001b[1;32mif\u001b[0m \u001b[0martist\u001b[0m\u001b[1;33m.\u001b[0m\u001b[0mget_agg_filter\u001b[0m\u001b[1;33m(\u001b[0m\u001b[1;33m)\u001b[0m \u001b[1;32mis\u001b[0m \u001b[1;32mnot\u001b[0m \u001b[1;32mNone\u001b[0m\u001b[1;33m:\u001b[0m\u001b[1;33m\u001b[0m\u001b[1;33m\u001b[0m\u001b[0m\n",
            "\u001b[1;32m~\\anaconda3\\lib\\site-packages\\matplotlib\\_api\\deprecation.py\u001b[0m in \u001b[0;36mwrapper\u001b[1;34m(*inner_args, **inner_kwargs)\u001b[0m\n\u001b[0;32m    429\u001b[0m                          \u001b[1;32melse\u001b[0m \u001b[0mdeprecation_addendum\u001b[0m\u001b[1;33m,\u001b[0m\u001b[1;33m\u001b[0m\u001b[1;33m\u001b[0m\u001b[0m\n\u001b[0;32m    430\u001b[0m                 **kwargs)\n\u001b[1;32m--> 431\u001b[1;33m         \u001b[1;32mreturn\u001b[0m \u001b[0mfunc\u001b[0m\u001b[1;33m(\u001b[0m\u001b[1;33m*\u001b[0m\u001b[0minner_args\u001b[0m\u001b[1;33m,\u001b[0m \u001b[1;33m**\u001b[0m\u001b[0minner_kwargs\u001b[0m\u001b[1;33m)\u001b[0m\u001b[1;33m\u001b[0m\u001b[1;33m\u001b[0m\u001b[0m\n\u001b[0m\u001b[0;32m    432\u001b[0m \u001b[1;33m\u001b[0m\u001b[0m\n\u001b[0;32m    433\u001b[0m     \u001b[1;32mreturn\u001b[0m \u001b[0mwrapper\u001b[0m\u001b[1;33m\u001b[0m\u001b[1;33m\u001b[0m\u001b[0m\n",
            "\u001b[1;32m~\\anaconda3\\lib\\site-packages\\matplotlib\\axes\\_base.py\u001b[0m in \u001b[0;36mdraw\u001b[1;34m(self, renderer, inframe)\u001b[0m\n\u001b[0;32m   2919\u001b[0m             \u001b[0mrenderer\u001b[0m\u001b[1;33m.\u001b[0m\u001b[0mstop_rasterizing\u001b[0m\u001b[1;33m(\u001b[0m\u001b[1;33m)\u001b[0m\u001b[1;33m\u001b[0m\u001b[1;33m\u001b[0m\u001b[0m\n\u001b[0;32m   2920\u001b[0m \u001b[1;33m\u001b[0m\u001b[0m\n\u001b[1;32m-> 2921\u001b[1;33m         \u001b[0mmimage\u001b[0m\u001b[1;33m.\u001b[0m\u001b[0m_draw_list_compositing_images\u001b[0m\u001b[1;33m(\u001b[0m\u001b[0mrenderer\u001b[0m\u001b[1;33m,\u001b[0m \u001b[0mself\u001b[0m\u001b[1;33m,\u001b[0m \u001b[0martists\u001b[0m\u001b[1;33m)\u001b[0m\u001b[1;33m\u001b[0m\u001b[1;33m\u001b[0m\u001b[0m\n\u001b[0m\u001b[0;32m   2922\u001b[0m \u001b[1;33m\u001b[0m\u001b[0m\n\u001b[0;32m   2923\u001b[0m         \u001b[0mrenderer\u001b[0m\u001b[1;33m.\u001b[0m\u001b[0mclose_group\u001b[0m\u001b[1;33m(\u001b[0m\u001b[1;34m'axes'\u001b[0m\u001b[1;33m)\u001b[0m\u001b[1;33m\u001b[0m\u001b[1;33m\u001b[0m\u001b[0m\n",
            "\u001b[1;32m~\\anaconda3\\lib\\site-packages\\matplotlib\\image.py\u001b[0m in \u001b[0;36m_draw_list_compositing_images\u001b[1;34m(renderer, parent, artists, suppress_composite)\u001b[0m\n\u001b[0;32m    130\u001b[0m     \u001b[1;32mif\u001b[0m \u001b[0mnot_composite\u001b[0m \u001b[1;32mor\u001b[0m \u001b[1;32mnot\u001b[0m \u001b[0mhas_images\u001b[0m\u001b[1;33m:\u001b[0m\u001b[1;33m\u001b[0m\u001b[1;33m\u001b[0m\u001b[0m\n\u001b[0;32m    131\u001b[0m         \u001b[1;32mfor\u001b[0m \u001b[0ma\u001b[0m \u001b[1;32min\u001b[0m \u001b[0martists\u001b[0m\u001b[1;33m:\u001b[0m\u001b[1;33m\u001b[0m\u001b[1;33m\u001b[0m\u001b[0m\n\u001b[1;32m--> 132\u001b[1;33m             \u001b[0ma\u001b[0m\u001b[1;33m.\u001b[0m\u001b[0mdraw\u001b[0m\u001b[1;33m(\u001b[0m\u001b[0mrenderer\u001b[0m\u001b[1;33m)\u001b[0m\u001b[1;33m\u001b[0m\u001b[1;33m\u001b[0m\u001b[0m\n\u001b[0m\u001b[0;32m    133\u001b[0m     \u001b[1;32melse\u001b[0m\u001b[1;33m:\u001b[0m\u001b[1;33m\u001b[0m\u001b[1;33m\u001b[0m\u001b[0m\n\u001b[0;32m    134\u001b[0m         \u001b[1;31m# Composite any adjacent images together\u001b[0m\u001b[1;33m\u001b[0m\u001b[1;33m\u001b[0m\u001b[0m\n",
            "\u001b[1;32m~\\anaconda3\\lib\\site-packages\\matplotlib\\artist.py\u001b[0m in \u001b[0;36mdraw_wrapper\u001b[1;34m(artist, renderer, *args, **kwargs)\u001b[0m\n\u001b[0;32m     49\u001b[0m                 \u001b[0mrenderer\u001b[0m\u001b[1;33m.\u001b[0m\u001b[0mstart_filter\u001b[0m\u001b[1;33m(\u001b[0m\u001b[1;33m)\u001b[0m\u001b[1;33m\u001b[0m\u001b[1;33m\u001b[0m\u001b[0m\n\u001b[0;32m     50\u001b[0m \u001b[1;33m\u001b[0m\u001b[0m\n\u001b[1;32m---> 51\u001b[1;33m             \u001b[1;32mreturn\u001b[0m \u001b[0mdraw\u001b[0m\u001b[1;33m(\u001b[0m\u001b[0martist\u001b[0m\u001b[1;33m,\u001b[0m \u001b[0mrenderer\u001b[0m\u001b[1;33m,\u001b[0m \u001b[1;33m*\u001b[0m\u001b[0margs\u001b[0m\u001b[1;33m,\u001b[0m \u001b[1;33m**\u001b[0m\u001b[0mkwargs\u001b[0m\u001b[1;33m)\u001b[0m\u001b[1;33m\u001b[0m\u001b[1;33m\u001b[0m\u001b[0m\n\u001b[0m\u001b[0;32m     52\u001b[0m         \u001b[1;32mfinally\u001b[0m\u001b[1;33m:\u001b[0m\u001b[1;33m\u001b[0m\u001b[1;33m\u001b[0m\u001b[0m\n\u001b[0;32m     53\u001b[0m             \u001b[1;32mif\u001b[0m \u001b[0martist\u001b[0m\u001b[1;33m.\u001b[0m\u001b[0mget_agg_filter\u001b[0m\u001b[1;33m(\u001b[0m\u001b[1;33m)\u001b[0m \u001b[1;32mis\u001b[0m \u001b[1;32mnot\u001b[0m \u001b[1;32mNone\u001b[0m\u001b[1;33m:\u001b[0m\u001b[1;33m\u001b[0m\u001b[1;33m\u001b[0m\u001b[0m\n",
            "\u001b[1;32m~\\anaconda3\\lib\\site-packages\\matplotlib\\axis.py\u001b[0m in \u001b[0;36mdraw\u001b[1;34m(self, renderer, *args, **kwargs)\u001b[0m\n\u001b[0;32m   1151\u001b[0m         \u001b[1;31m# the actual bbox\u001b[0m\u001b[1;33m\u001b[0m\u001b[1;33m\u001b[0m\u001b[0m\n\u001b[0;32m   1152\u001b[0m \u001b[1;33m\u001b[0m\u001b[0m\n\u001b[1;32m-> 1153\u001b[1;33m         \u001b[0mself\u001b[0m\u001b[1;33m.\u001b[0m\u001b[0m_update_label_position\u001b[0m\u001b[1;33m(\u001b[0m\u001b[0mrenderer\u001b[0m\u001b[1;33m)\u001b[0m\u001b[1;33m\u001b[0m\u001b[1;33m\u001b[0m\u001b[0m\n\u001b[0m\u001b[0;32m   1154\u001b[0m \u001b[1;33m\u001b[0m\u001b[0m\n\u001b[0;32m   1155\u001b[0m         \u001b[0mself\u001b[0m\u001b[1;33m.\u001b[0m\u001b[0mlabel\u001b[0m\u001b[1;33m.\u001b[0m\u001b[0mdraw\u001b[0m\u001b[1;33m(\u001b[0m\u001b[0mrenderer\u001b[0m\u001b[1;33m)\u001b[0m\u001b[1;33m\u001b[0m\u001b[1;33m\u001b[0m\u001b[0m\n",
            "\u001b[1;32m~\\anaconda3\\lib\\site-packages\\matplotlib\\axis.py\u001b[0m in \u001b[0;36m_update_label_position\u001b[1;34m(self, renderer)\u001b[0m\n\u001b[0;32m   2357\u001b[0m         \u001b[1;31m# get bounding boxes for this axis and any siblings\u001b[0m\u001b[1;33m\u001b[0m\u001b[1;33m\u001b[0m\u001b[0m\n\u001b[0;32m   2358\u001b[0m         \u001b[1;31m# that have been set by `fig.align_ylabels()`\u001b[0m\u001b[1;33m\u001b[0m\u001b[1;33m\u001b[0m\u001b[0m\n\u001b[1;32m-> 2359\u001b[1;33m         \u001b[0mbboxes\u001b[0m\u001b[1;33m,\u001b[0m \u001b[0mbboxes2\u001b[0m \u001b[1;33m=\u001b[0m \u001b[0mself\u001b[0m\u001b[1;33m.\u001b[0m\u001b[0m_get_tick_boxes_siblings\u001b[0m\u001b[1;33m(\u001b[0m\u001b[0mrenderer\u001b[0m\u001b[1;33m=\u001b[0m\u001b[0mrenderer\u001b[0m\u001b[1;33m)\u001b[0m\u001b[1;33m\u001b[0m\u001b[1;33m\u001b[0m\u001b[0m\n\u001b[0m\u001b[0;32m   2360\u001b[0m \u001b[1;33m\u001b[0m\u001b[0m\n\u001b[0;32m   2361\u001b[0m         \u001b[0mx\u001b[0m\u001b[1;33m,\u001b[0m \u001b[0my\u001b[0m \u001b[1;33m=\u001b[0m \u001b[0mself\u001b[0m\u001b[1;33m.\u001b[0m\u001b[0mlabel\u001b[0m\u001b[1;33m.\u001b[0m\u001b[0mget_position\u001b[0m\u001b[1;33m(\u001b[0m\u001b[1;33m)\u001b[0m\u001b[1;33m\u001b[0m\u001b[1;33m\u001b[0m\u001b[0m\n",
            "\u001b[1;32m~\\anaconda3\\lib\\site-packages\\matplotlib\\axis.py\u001b[0m in \u001b[0;36m_get_tick_boxes_siblings\u001b[1;34m(self, renderer)\u001b[0m\n\u001b[0;32m   1871\u001b[0m             \u001b[0maxis\u001b[0m \u001b[1;33m=\u001b[0m \u001b[0max\u001b[0m\u001b[1;33m.\u001b[0m\u001b[0m_get_axis_map\u001b[0m\u001b[1;33m(\u001b[0m\u001b[1;33m)\u001b[0m\u001b[1;33m[\u001b[0m\u001b[0maxis_name\u001b[0m\u001b[1;33m]\u001b[0m\u001b[1;33m\u001b[0m\u001b[1;33m\u001b[0m\u001b[0m\n\u001b[0;32m   1872\u001b[0m             \u001b[0mticks_to_draw\u001b[0m \u001b[1;33m=\u001b[0m \u001b[0maxis\u001b[0m\u001b[1;33m.\u001b[0m\u001b[0m_update_ticks\u001b[0m\u001b[1;33m(\u001b[0m\u001b[1;33m)\u001b[0m\u001b[1;33m\u001b[0m\u001b[1;33m\u001b[0m\u001b[0m\n\u001b[1;32m-> 1873\u001b[1;33m             \u001b[0mtlb\u001b[0m\u001b[1;33m,\u001b[0m \u001b[0mtlb2\u001b[0m \u001b[1;33m=\u001b[0m \u001b[0maxis\u001b[0m\u001b[1;33m.\u001b[0m\u001b[0m_get_tick_bboxes\u001b[0m\u001b[1;33m(\u001b[0m\u001b[0mticks_to_draw\u001b[0m\u001b[1;33m,\u001b[0m \u001b[0mrenderer\u001b[0m\u001b[1;33m)\u001b[0m\u001b[1;33m\u001b[0m\u001b[1;33m\u001b[0m\u001b[0m\n\u001b[0m\u001b[0;32m   1874\u001b[0m             \u001b[0mbboxes\u001b[0m\u001b[1;33m.\u001b[0m\u001b[0mextend\u001b[0m\u001b[1;33m(\u001b[0m\u001b[0mtlb\u001b[0m\u001b[1;33m)\u001b[0m\u001b[1;33m\u001b[0m\u001b[1;33m\u001b[0m\u001b[0m\n\u001b[0;32m   1875\u001b[0m             \u001b[0mbboxes2\u001b[0m\u001b[1;33m.\u001b[0m\u001b[0mextend\u001b[0m\u001b[1;33m(\u001b[0m\u001b[0mtlb2\u001b[0m\u001b[1;33m)\u001b[0m\u001b[1;33m\u001b[0m\u001b[1;33m\u001b[0m\u001b[0m\n",
            "\u001b[1;32m~\\anaconda3\\lib\\site-packages\\matplotlib\\axis.py\u001b[0m in \u001b[0;36m_get_tick_bboxes\u001b[1;34m(self, ticks, renderer)\u001b[0m\n\u001b[0;32m   1066\u001b[0m     \u001b[1;32mdef\u001b[0m \u001b[0m_get_tick_bboxes\u001b[0m\u001b[1;33m(\u001b[0m\u001b[0mself\u001b[0m\u001b[1;33m,\u001b[0m \u001b[0mticks\u001b[0m\u001b[1;33m,\u001b[0m \u001b[0mrenderer\u001b[0m\u001b[1;33m)\u001b[0m\u001b[1;33m:\u001b[0m\u001b[1;33m\u001b[0m\u001b[1;33m\u001b[0m\u001b[0m\n\u001b[0;32m   1067\u001b[0m         \u001b[1;34m\"\"\"Return lists of bboxes for ticks' label1's and label2's.\"\"\"\u001b[0m\u001b[1;33m\u001b[0m\u001b[1;33m\u001b[0m\u001b[0m\n\u001b[1;32m-> 1068\u001b[1;33m         return ([tick.label1.get_window_extent(renderer)\n\u001b[0m\u001b[0;32m   1069\u001b[0m                  for tick in ticks if tick.label1.get_visible()],\n\u001b[0;32m   1070\u001b[0m                 [tick.label2.get_window_extent(renderer)\n",
            "\u001b[1;32m~\\anaconda3\\lib\\site-packages\\matplotlib\\axis.py\u001b[0m in \u001b[0;36m<listcomp>\u001b[1;34m(.0)\u001b[0m\n\u001b[0;32m   1066\u001b[0m     \u001b[1;32mdef\u001b[0m \u001b[0m_get_tick_bboxes\u001b[0m\u001b[1;33m(\u001b[0m\u001b[0mself\u001b[0m\u001b[1;33m,\u001b[0m \u001b[0mticks\u001b[0m\u001b[1;33m,\u001b[0m \u001b[0mrenderer\u001b[0m\u001b[1;33m)\u001b[0m\u001b[1;33m:\u001b[0m\u001b[1;33m\u001b[0m\u001b[1;33m\u001b[0m\u001b[0m\n\u001b[0;32m   1067\u001b[0m         \u001b[1;34m\"\"\"Return lists of bboxes for ticks' label1's and label2's.\"\"\"\u001b[0m\u001b[1;33m\u001b[0m\u001b[1;33m\u001b[0m\u001b[0m\n\u001b[1;32m-> 1068\u001b[1;33m         return ([tick.label1.get_window_extent(renderer)\n\u001b[0m\u001b[0;32m   1069\u001b[0m                  for tick in ticks if tick.label1.get_visible()],\n\u001b[0;32m   1070\u001b[0m                 [tick.label2.get_window_extent(renderer)\n",
            "\u001b[1;32m~\\anaconda3\\lib\\site-packages\\matplotlib\\text.py\u001b[0m in \u001b[0;36mget_window_extent\u001b[1;34m(self, renderer, dpi)\u001b[0m\n\u001b[0;32m    903\u001b[0m             \u001b[0mbbox\u001b[0m\u001b[1;33m,\u001b[0m \u001b[0minfo\u001b[0m\u001b[1;33m,\u001b[0m \u001b[0mdescent\u001b[0m \u001b[1;33m=\u001b[0m \u001b[0mself\u001b[0m\u001b[1;33m.\u001b[0m\u001b[0m_get_layout\u001b[0m\u001b[1;33m(\u001b[0m\u001b[0mself\u001b[0m\u001b[1;33m.\u001b[0m\u001b[0m_renderer\u001b[0m\u001b[1;33m)\u001b[0m\u001b[1;33m\u001b[0m\u001b[1;33m\u001b[0m\u001b[0m\n\u001b[0;32m    904\u001b[0m             \u001b[0mx\u001b[0m\u001b[1;33m,\u001b[0m \u001b[0my\u001b[0m \u001b[1;33m=\u001b[0m \u001b[0mself\u001b[0m\u001b[1;33m.\u001b[0m\u001b[0mget_unitless_position\u001b[0m\u001b[1;33m(\u001b[0m\u001b[1;33m)\u001b[0m\u001b[1;33m\u001b[0m\u001b[1;33m\u001b[0m\u001b[0m\n\u001b[1;32m--> 905\u001b[1;33m             \u001b[0mx\u001b[0m\u001b[1;33m,\u001b[0m \u001b[0my\u001b[0m \u001b[1;33m=\u001b[0m \u001b[0mself\u001b[0m\u001b[1;33m.\u001b[0m\u001b[0mget_transform\u001b[0m\u001b[1;33m(\u001b[0m\u001b[1;33m)\u001b[0m\u001b[1;33m.\u001b[0m\u001b[0mtransform\u001b[0m\u001b[1;33m(\u001b[0m\u001b[1;33m(\u001b[0m\u001b[0mx\u001b[0m\u001b[1;33m,\u001b[0m \u001b[0my\u001b[0m\u001b[1;33m)\u001b[0m\u001b[1;33m)\u001b[0m\u001b[1;33m\u001b[0m\u001b[1;33m\u001b[0m\u001b[0m\n\u001b[0m\u001b[0;32m    906\u001b[0m             \u001b[0mbbox\u001b[0m \u001b[1;33m=\u001b[0m \u001b[0mbbox\u001b[0m\u001b[1;33m.\u001b[0m\u001b[0mtranslated\u001b[0m\u001b[1;33m(\u001b[0m\u001b[0mx\u001b[0m\u001b[1;33m,\u001b[0m \u001b[0my\u001b[0m\u001b[1;33m)\u001b[0m\u001b[1;33m\u001b[0m\u001b[1;33m\u001b[0m\u001b[0m\n\u001b[0;32m    907\u001b[0m             \u001b[1;32mreturn\u001b[0m \u001b[0mbbox\u001b[0m\u001b[1;33m\u001b[0m\u001b[1;33m\u001b[0m\u001b[0m\n",
            "\u001b[1;32m~\\anaconda3\\lib\\site-packages\\matplotlib\\transforms.py\u001b[0m in \u001b[0;36mtransform\u001b[1;34m(self, values)\u001b[0m\n\u001b[0;32m   1468\u001b[0m \u001b[1;33m\u001b[0m\u001b[0m\n\u001b[0;32m   1469\u001b[0m         \u001b[1;31m# Transform the values\u001b[0m\u001b[1;33m\u001b[0m\u001b[1;33m\u001b[0m\u001b[0m\n\u001b[1;32m-> 1470\u001b[1;33m         \u001b[0mres\u001b[0m \u001b[1;33m=\u001b[0m \u001b[0mself\u001b[0m\u001b[1;33m.\u001b[0m\u001b[0mtransform_affine\u001b[0m\u001b[1;33m(\u001b[0m\u001b[0mself\u001b[0m\u001b[1;33m.\u001b[0m\u001b[0mtransform_non_affine\u001b[0m\u001b[1;33m(\u001b[0m\u001b[0mvalues\u001b[0m\u001b[1;33m)\u001b[0m\u001b[1;33m)\u001b[0m\u001b[1;33m\u001b[0m\u001b[1;33m\u001b[0m\u001b[0m\n\u001b[0m\u001b[0;32m   1471\u001b[0m \u001b[1;33m\u001b[0m\u001b[0m\n\u001b[0;32m   1472\u001b[0m         \u001b[1;31m# Convert the result back to the shape of the input values.\u001b[0m\u001b[1;33m\u001b[0m\u001b[1;33m\u001b[0m\u001b[0m\n",
            "\u001b[1;32m~\\anaconda3\\lib\\site-packages\\matplotlib\\transforms.py\u001b[0m in \u001b[0;36mtransform_affine\u001b[1;34m(self, points)\u001b[0m\n\u001b[0;32m   2377\u001b[0m     \u001b[1;32mdef\u001b[0m \u001b[0mtransform_affine\u001b[0m\u001b[1;33m(\u001b[0m\u001b[0mself\u001b[0m\u001b[1;33m,\u001b[0m \u001b[0mpoints\u001b[0m\u001b[1;33m)\u001b[0m\u001b[1;33m:\u001b[0m\u001b[1;33m\u001b[0m\u001b[1;33m\u001b[0m\u001b[0m\n\u001b[0;32m   2378\u001b[0m         \u001b[1;31m# docstring inherited\u001b[0m\u001b[1;33m\u001b[0m\u001b[1;33m\u001b[0m\u001b[0m\n\u001b[1;32m-> 2379\u001b[1;33m         \u001b[1;32mreturn\u001b[0m \u001b[0mself\u001b[0m\u001b[1;33m.\u001b[0m\u001b[0mget_affine\u001b[0m\u001b[1;33m(\u001b[0m\u001b[1;33m)\u001b[0m\u001b[1;33m.\u001b[0m\u001b[0mtransform\u001b[0m\u001b[1;33m(\u001b[0m\u001b[0mpoints\u001b[0m\u001b[1;33m)\u001b[0m\u001b[1;33m\u001b[0m\u001b[1;33m\u001b[0m\u001b[0m\n\u001b[0m\u001b[0;32m   2380\u001b[0m \u001b[1;33m\u001b[0m\u001b[0m\n\u001b[0;32m   2381\u001b[0m     \u001b[1;32mdef\u001b[0m \u001b[0mtransform_non_affine\u001b[0m\u001b[1;33m(\u001b[0m\u001b[0mself\u001b[0m\u001b[1;33m,\u001b[0m \u001b[0mpoints\u001b[0m\u001b[1;33m)\u001b[0m\u001b[1;33m:\u001b[0m\u001b[1;33m\u001b[0m\u001b[1;33m\u001b[0m\u001b[0m\n",
            "\u001b[1;32m~\\anaconda3\\lib\\site-packages\\matplotlib\\transforms.py\u001b[0m in \u001b[0;36mget_affine\u001b[1;34m(self)\u001b[0m\n\u001b[0;32m   2404\u001b[0m             \u001b[1;32mreturn\u001b[0m \u001b[0mself\u001b[0m\u001b[1;33m.\u001b[0m\u001b[0m_b\u001b[0m\u001b[1;33m.\u001b[0m\u001b[0mget_affine\u001b[0m\u001b[1;33m(\u001b[0m\u001b[1;33m)\u001b[0m\u001b[1;33m\u001b[0m\u001b[1;33m\u001b[0m\u001b[0m\n\u001b[0;32m   2405\u001b[0m         \u001b[1;32melse\u001b[0m\u001b[1;33m:\u001b[0m\u001b[1;33m\u001b[0m\u001b[1;33m\u001b[0m\u001b[0m\n\u001b[1;32m-> 2406\u001b[1;33m             return Affine2D(np.dot(self._b.get_affine().get_matrix(),\n\u001b[0m\u001b[0;32m   2407\u001b[0m                                    self._a.get_affine().get_matrix()))\n\u001b[0;32m   2408\u001b[0m \u001b[1;33m\u001b[0m\u001b[0m\n",
            "\u001b[1;32m~\\anaconda3\\lib\\site-packages\\numpy\\core\\overrides.py\u001b[0m in \u001b[0;36mdot\u001b[1;34m(*args, **kwargs)\u001b[0m\n",
            "\u001b[1;31mKeyboardInterrupt\u001b[0m: "
          ]
        }
      ],
      "source": [
        "%matplotlib notebook\n",
        "import matplotlib.pyplot as plt\n",
        "from numpy import random\n",
        "temp=[]\n",
        "fig = plt.figure()\n",
        "ax = fig.add_subplot(111)\n",
        "plt.ion()\n",
        "\n",
        "fig.show()\n",
        "fig.canvas.draw()\n",
        "from collections import defaultdict\n",
        "mydict = defaultdict(list)\n",
        "for message in consumer:\n",
        "    if(message.value==\"display\"):\n",
        "        consumer.close()\n",
        "    else:\n",
        "        temp=str(message.value).split(',')\n",
        "        dict1 = {\"Key\": temp[0],\"Value\": temp[1]}\n",
        "        #FBconn2.post(\"/MyTestData\",dict1)\n",
        "        mydict[temp[0]].append(temp[1])\n",
        "        for k,l in mydict.items():\n",
        "            labeled = False\n",
        "            c=random.rand(3,)\n",
        "            for v in l:\n",
        "                if labeled:\n",
        "                    ax.bar(v,len([d for d in l if d==v]),color=c)\n",
        "                    fig.canvas.draw()\n",
        "                else:\n",
        "                    ax.bar(v,len([d for d in l if d==v]),label=k,color=c)\n",
        "                    labeled = True\n",
        "                    fig.canvas.draw()\n",
        "\n",
        "        plt.legend()\n",
        "        plt.show()\n",
        "        print(message.value)\n",
        "        \n",
        "        "
      ]
    },
    {
      "attachments": {},
      "cell_type": "markdown",
      "metadata": {
        "id": "vMiwu48nqQlJ"
      },
      "source": [
        "#Stream Bar Plot"
      ]
    },
    {
      "cell_type": "code",
      "execution_count": null,
      "metadata": {
        "id": "AXHDc_L5pGR_",
        "outputId": "a7babc0f-2a62-4051-d0e2-b3454fda4b93"
      },
      "outputs": [
        {
          "data": {
            "application/javascript": "/* Put everything inside the global mpl namespace */\n/* global mpl */\nwindow.mpl = {};\n\nmpl.get_websocket_type = function () {\n    if (typeof WebSocket !== 'undefined') {\n        return WebSocket;\n    } else if (typeof MozWebSocket !== 'undefined') {\n        return MozWebSocket;\n    } else {\n        alert(\n            'Your browser does not have WebSocket support. ' +\n                'Please try Chrome, Safari or Firefox ≥ 6. ' +\n                'Firefox 4 and 5 are also supported but you ' +\n                'have to enable WebSockets in about:config.'\n        );\n    }\n};\n\nmpl.figure = function (figure_id, websocket, ondownload, parent_element) {\n    this.id = figure_id;\n\n    this.ws = websocket;\n\n    this.supports_binary = this.ws.binaryType !== undefined;\n\n    if (!this.supports_binary) {\n        var warnings = document.getElementById('mpl-warnings');\n        if (warnings) {\n            warnings.style.display = 'block';\n            warnings.textContent =\n                'This browser does not support binary websocket messages. ' +\n                'Performance may be slow.';\n        }\n    }\n\n    this.imageObj = new Image();\n\n    this.context = undefined;\n    this.message = undefined;\n    this.canvas = undefined;\n    this.rubberband_canvas = undefined;\n    this.rubberband_context = undefined;\n    this.format_dropdown = undefined;\n\n    this.image_mode = 'full';\n\n    this.root = document.createElement('div');\n    this.root.setAttribute('style', 'display: inline-block');\n    this._root_extra_style(this.root);\n\n    parent_element.appendChild(this.root);\n\n    this._init_header(this);\n    this._init_canvas(this);\n    this._init_toolbar(this);\n\n    var fig = this;\n\n    this.waiting = false;\n\n    this.ws.onopen = function () {\n        fig.send_message('supports_binary', { value: fig.supports_binary });\n        fig.send_message('send_image_mode', {});\n        if (fig.ratio !== 1) {\n            fig.send_message('set_dpi_ratio', { dpi_ratio: fig.ratio });\n        }\n        fig.send_message('refresh', {});\n    };\n\n    this.imageObj.onload = function () {\n        if (fig.image_mode === 'full') {\n            // Full images could contain transparency (where diff images\n            // almost always do), so we need to clear the canvas so that\n            // there is no ghosting.\n            fig.context.clearRect(0, 0, fig.canvas.width, fig.canvas.height);\n        }\n        fig.context.drawImage(fig.imageObj, 0, 0);\n    };\n\n    this.imageObj.onunload = function () {\n        fig.ws.close();\n    };\n\n    this.ws.onmessage = this._make_on_message_function(this);\n\n    this.ondownload = ondownload;\n};\n\nmpl.figure.prototype._init_header = function () {\n    var titlebar = document.createElement('div');\n    titlebar.classList =\n        'ui-dialog-titlebar ui-widget-header ui-corner-all ui-helper-clearfix';\n    var titletext = document.createElement('div');\n    titletext.classList = 'ui-dialog-title';\n    titletext.setAttribute(\n        'style',\n        'width: 100%; text-align: center; padding: 3px;'\n    );\n    titlebar.appendChild(titletext);\n    this.root.appendChild(titlebar);\n    this.header = titletext;\n};\n\nmpl.figure.prototype._canvas_extra_style = function (_canvas_div) {};\n\nmpl.figure.prototype._root_extra_style = function (_canvas_div) {};\n\nmpl.figure.prototype._init_canvas = function () {\n    var fig = this;\n\n    var canvas_div = (this.canvas_div = document.createElement('div'));\n    canvas_div.setAttribute(\n        'style',\n        'border: 1px solid #ddd;' +\n            'box-sizing: content-box;' +\n            'clear: both;' +\n            'min-height: 1px;' +\n            'min-width: 1px;' +\n            'outline: 0;' +\n            'overflow: hidden;' +\n            'position: relative;' +\n            'resize: both;'\n    );\n\n    function on_keyboard_event_closure(name) {\n        return function (event) {\n            return fig.key_event(event, name);\n        };\n    }\n\n    canvas_div.addEventListener(\n        'keydown',\n        on_keyboard_event_closure('key_press')\n    );\n    canvas_div.addEventListener(\n        'keyup',\n        on_keyboard_event_closure('key_release')\n    );\n\n    this._canvas_extra_style(canvas_div);\n    this.root.appendChild(canvas_div);\n\n    var canvas = (this.canvas = document.createElement('canvas'));\n    canvas.classList.add('mpl-canvas');\n    canvas.setAttribute('style', 'box-sizing: content-box;');\n\n    this.context = canvas.getContext('2d');\n\n    var backingStore =\n        this.context.backingStorePixelRatio ||\n        this.context.webkitBackingStorePixelRatio ||\n        this.context.mozBackingStorePixelRatio ||\n        this.context.msBackingStorePixelRatio ||\n        this.context.oBackingStorePixelRatio ||\n        this.context.backingStorePixelRatio ||\n        1;\n\n    this.ratio = (window.devicePixelRatio || 1) / backingStore;\n\n    var rubberband_canvas = (this.rubberband_canvas = document.createElement(\n        'canvas'\n    ));\n    rubberband_canvas.setAttribute(\n        'style',\n        'box-sizing: content-box; position: absolute; left: 0; top: 0; z-index: 1;'\n    );\n\n    // Apply a ponyfill if ResizeObserver is not implemented by browser.\n    if (this.ResizeObserver === undefined) {\n        if (window.ResizeObserver !== undefined) {\n            this.ResizeObserver = window.ResizeObserver;\n        } else {\n            var obs = _JSXTOOLS_RESIZE_OBSERVER({});\n            this.ResizeObserver = obs.ResizeObserver;\n        }\n    }\n\n    this.resizeObserverInstance = new this.ResizeObserver(function (entries) {\n        var nentries = entries.length;\n        for (var i = 0; i < nentries; i++) {\n            var entry = entries[i];\n            var width, height;\n            if (entry.contentBoxSize) {\n                if (entry.contentBoxSize instanceof Array) {\n                    // Chrome 84 implements new version of spec.\n                    width = entry.contentBoxSize[0].inlineSize;\n                    height = entry.contentBoxSize[0].blockSize;\n                } else {\n                    // Firefox implements old version of spec.\n                    width = entry.contentBoxSize.inlineSize;\n                    height = entry.contentBoxSize.blockSize;\n                }\n            } else {\n                // Chrome <84 implements even older version of spec.\n                width = entry.contentRect.width;\n                height = entry.contentRect.height;\n            }\n\n            // Keep the size of the canvas and rubber band canvas in sync with\n            // the canvas container.\n            if (entry.devicePixelContentBoxSize) {\n                // Chrome 84 implements new version of spec.\n                canvas.setAttribute(\n                    'width',\n                    entry.devicePixelContentBoxSize[0].inlineSize\n                );\n                canvas.setAttribute(\n                    'height',\n                    entry.devicePixelContentBoxSize[0].blockSize\n                );\n            } else {\n                canvas.setAttribute('width', width * fig.ratio);\n                canvas.setAttribute('height', height * fig.ratio);\n            }\n            canvas.setAttribute(\n                'style',\n                'width: ' + width + 'px; height: ' + height + 'px;'\n            );\n\n            rubberband_canvas.setAttribute('width', width);\n            rubberband_canvas.setAttribute('height', height);\n\n            // And update the size in Python. We ignore the initial 0/0 size\n            // that occurs as the element is placed into the DOM, which should\n            // otherwise not happen due to the minimum size styling.\n            if (fig.ws.readyState == 1 && width != 0 && height != 0) {\n                fig.request_resize(width, height);\n            }\n        }\n    });\n    this.resizeObserverInstance.observe(canvas_div);\n\n    function on_mouse_event_closure(name) {\n        return function (event) {\n            return fig.mouse_event(event, name);\n        };\n    }\n\n    rubberband_canvas.addEventListener(\n        'mousedown',\n        on_mouse_event_closure('button_press')\n    );\n    rubberband_canvas.addEventListener(\n        'mouseup',\n        on_mouse_event_closure('button_release')\n    );\n    rubberband_canvas.addEventListener(\n        'dblclick',\n        on_mouse_event_closure('dblclick')\n    );\n    // Throttle sequential mouse events to 1 every 20ms.\n    rubberband_canvas.addEventListener(\n        'mousemove',\n        on_mouse_event_closure('motion_notify')\n    );\n\n    rubberband_canvas.addEventListener(\n        'mouseenter',\n        on_mouse_event_closure('figure_enter')\n    );\n    rubberband_canvas.addEventListener(\n        'mouseleave',\n        on_mouse_event_closure('figure_leave')\n    );\n\n    canvas_div.addEventListener('wheel', function (event) {\n        if (event.deltaY < 0) {\n            event.step = 1;\n        } else {\n            event.step = -1;\n        }\n        on_mouse_event_closure('scroll')(event);\n    });\n\n    canvas_div.appendChild(canvas);\n    canvas_div.appendChild(rubberband_canvas);\n\n    this.rubberband_context = rubberband_canvas.getContext('2d');\n    this.rubberband_context.strokeStyle = '#000000';\n\n    this._resize_canvas = function (width, height, forward) {\n        if (forward) {\n            canvas_div.style.width = width + 'px';\n            canvas_div.style.height = height + 'px';\n        }\n    };\n\n    // Disable right mouse context menu.\n    this.rubberband_canvas.addEventListener('contextmenu', function (_e) {\n        event.preventDefault();\n        return false;\n    });\n\n    function set_focus() {\n        canvas.focus();\n        canvas_div.focus();\n    }\n\n    window.setTimeout(set_focus, 100);\n};\n\nmpl.figure.prototype._init_toolbar = function () {\n    var fig = this;\n\n    var toolbar = document.createElement('div');\n    toolbar.classList = 'mpl-toolbar';\n    this.root.appendChild(toolbar);\n\n    function on_click_closure(name) {\n        return function (_event) {\n            return fig.toolbar_button_onclick(name);\n        };\n    }\n\n    function on_mouseover_closure(tooltip) {\n        return function (event) {\n            if (!event.currentTarget.disabled) {\n                return fig.toolbar_button_onmouseover(tooltip);\n            }\n        };\n    }\n\n    fig.buttons = {};\n    var buttonGroup = document.createElement('div');\n    buttonGroup.classList = 'mpl-button-group';\n    for (var toolbar_ind in mpl.toolbar_items) {\n        var name = mpl.toolbar_items[toolbar_ind][0];\n        var tooltip = mpl.toolbar_items[toolbar_ind][1];\n        var image = mpl.toolbar_items[toolbar_ind][2];\n        var method_name = mpl.toolbar_items[toolbar_ind][3];\n\n        if (!name) {\n            /* Instead of a spacer, we start a new button group. */\n            if (buttonGroup.hasChildNodes()) {\n                toolbar.appendChild(buttonGroup);\n            }\n            buttonGroup = document.createElement('div');\n            buttonGroup.classList = 'mpl-button-group';\n            continue;\n        }\n\n        var button = (fig.buttons[name] = document.createElement('button'));\n        button.classList = 'mpl-widget';\n        button.setAttribute('role', 'button');\n        button.setAttribute('aria-disabled', 'false');\n        button.addEventListener('click', on_click_closure(method_name));\n        button.addEventListener('mouseover', on_mouseover_closure(tooltip));\n\n        var icon_img = document.createElement('img');\n        icon_img.src = '_images/' + image + '.png';\n        icon_img.srcset = '_images/' + image + '_large.png 2x';\n        icon_img.alt = tooltip;\n        button.appendChild(icon_img);\n\n        buttonGroup.appendChild(button);\n    }\n\n    if (buttonGroup.hasChildNodes()) {\n        toolbar.appendChild(buttonGroup);\n    }\n\n    var fmt_picker = document.createElement('select');\n    fmt_picker.classList = 'mpl-widget';\n    toolbar.appendChild(fmt_picker);\n    this.format_dropdown = fmt_picker;\n\n    for (var ind in mpl.extensions) {\n        var fmt = mpl.extensions[ind];\n        var option = document.createElement('option');\n        option.selected = fmt === mpl.default_extension;\n        option.innerHTML = fmt;\n        fmt_picker.appendChild(option);\n    }\n\n    var status_bar = document.createElement('span');\n    status_bar.classList = 'mpl-message';\n    toolbar.appendChild(status_bar);\n    this.message = status_bar;\n};\n\nmpl.figure.prototype.request_resize = function (x_pixels, y_pixels) {\n    // Request matplotlib to resize the figure. Matplotlib will then trigger a resize in the client,\n    // which will in turn request a refresh of the image.\n    this.send_message('resize', { width: x_pixels, height: y_pixels });\n};\n\nmpl.figure.prototype.send_message = function (type, properties) {\n    properties['type'] = type;\n    properties['figure_id'] = this.id;\n    this.ws.send(JSON.stringify(properties));\n};\n\nmpl.figure.prototype.send_draw_message = function () {\n    if (!this.waiting) {\n        this.waiting = true;\n        this.ws.send(JSON.stringify({ type: 'draw', figure_id: this.id }));\n    }\n};\n\nmpl.figure.prototype.handle_save = function (fig, _msg) {\n    var format_dropdown = fig.format_dropdown;\n    var format = format_dropdown.options[format_dropdown.selectedIndex].value;\n    fig.ondownload(fig, format);\n};\n\nmpl.figure.prototype.handle_resize = function (fig, msg) {\n    var size = msg['size'];\n    if (size[0] !== fig.canvas.width || size[1] !== fig.canvas.height) {\n        fig._resize_canvas(size[0], size[1], msg['forward']);\n        fig.send_message('refresh', {});\n    }\n};\n\nmpl.figure.prototype.handle_rubberband = function (fig, msg) {\n    var x0 = msg['x0'] / fig.ratio;\n    var y0 = (fig.canvas.height - msg['y0']) / fig.ratio;\n    var x1 = msg['x1'] / fig.ratio;\n    var y1 = (fig.canvas.height - msg['y1']) / fig.ratio;\n    x0 = Math.floor(x0) + 0.5;\n    y0 = Math.floor(y0) + 0.5;\n    x1 = Math.floor(x1) + 0.5;\n    y1 = Math.floor(y1) + 0.5;\n    var min_x = Math.min(x0, x1);\n    var min_y = Math.min(y0, y1);\n    var width = Math.abs(x1 - x0);\n    var height = Math.abs(y1 - y0);\n\n    fig.rubberband_context.clearRect(\n        0,\n        0,\n        fig.canvas.width / fig.ratio,\n        fig.canvas.height / fig.ratio\n    );\n\n    fig.rubberband_context.strokeRect(min_x, min_y, width, height);\n};\n\nmpl.figure.prototype.handle_figure_label = function (fig, msg) {\n    // Updates the figure title.\n    fig.header.textContent = msg['label'];\n};\n\nmpl.figure.prototype.handle_cursor = function (fig, msg) {\n    var cursor = msg['cursor'];\n    switch (cursor) {\n        case 0:\n            cursor = 'pointer';\n            break;\n        case 1:\n            cursor = 'default';\n            break;\n        case 2:\n            cursor = 'crosshair';\n            break;\n        case 3:\n            cursor = 'move';\n            break;\n    }\n    fig.rubberband_canvas.style.cursor = cursor;\n};\n\nmpl.figure.prototype.handle_message = function (fig, msg) {\n    fig.message.textContent = msg['message'];\n};\n\nmpl.figure.prototype.handle_draw = function (fig, _msg) {\n    // Request the server to send over a new figure.\n    fig.send_draw_message();\n};\n\nmpl.figure.prototype.handle_image_mode = function (fig, msg) {\n    fig.image_mode = msg['mode'];\n};\n\nmpl.figure.prototype.handle_history_buttons = function (fig, msg) {\n    for (var key in msg) {\n        if (!(key in fig.buttons)) {\n            continue;\n        }\n        fig.buttons[key].disabled = !msg[key];\n        fig.buttons[key].setAttribute('aria-disabled', !msg[key]);\n    }\n};\n\nmpl.figure.prototype.handle_navigate_mode = function (fig, msg) {\n    if (msg['mode'] === 'PAN') {\n        fig.buttons['Pan'].classList.add('active');\n        fig.buttons['Zoom'].classList.remove('active');\n    } else if (msg['mode'] === 'ZOOM') {\n        fig.buttons['Pan'].classList.remove('active');\n        fig.buttons['Zoom'].classList.add('active');\n    } else {\n        fig.buttons['Pan'].classList.remove('active');\n        fig.buttons['Zoom'].classList.remove('active');\n    }\n};\n\nmpl.figure.prototype.updated_canvas_event = function () {\n    // Called whenever the canvas gets updated.\n    this.send_message('ack', {});\n};\n\n// A function to construct a web socket function for onmessage handling.\n// Called in the figure constructor.\nmpl.figure.prototype._make_on_message_function = function (fig) {\n    return function socket_on_message(evt) {\n        if (evt.data instanceof Blob) {\n            var img = evt.data;\n            if (img.type !== 'image/png') {\n                /* FIXME: We get \"Resource interpreted as Image but\n                 * transferred with MIME type text/plain:\" errors on\n                 * Chrome.  But how to set the MIME type?  It doesn't seem\n                 * to be part of the websocket stream */\n                img.type = 'image/png';\n            }\n\n            /* Free the memory for the previous frames */\n            if (fig.imageObj.src) {\n                (window.URL || window.webkitURL).revokeObjectURL(\n                    fig.imageObj.src\n                );\n            }\n\n            fig.imageObj.src = (window.URL || window.webkitURL).createObjectURL(\n                img\n            );\n            fig.updated_canvas_event();\n            fig.waiting = false;\n            return;\n        } else if (\n            typeof evt.data === 'string' &&\n            evt.data.slice(0, 21) === 'data:image/png;base64'\n        ) {\n            fig.imageObj.src = evt.data;\n            fig.updated_canvas_event();\n            fig.waiting = false;\n            return;\n        }\n\n        var msg = JSON.parse(evt.data);\n        var msg_type = msg['type'];\n\n        // Call the  \"handle_{type}\" callback, which takes\n        // the figure and JSON message as its only arguments.\n        try {\n            var callback = fig['handle_' + msg_type];\n        } catch (e) {\n            console.log(\n                \"No handler for the '\" + msg_type + \"' message type: \",\n                msg\n            );\n            return;\n        }\n\n        if (callback) {\n            try {\n                // console.log(\"Handling '\" + msg_type + \"' message: \", msg);\n                callback(fig, msg);\n            } catch (e) {\n                console.log(\n                    \"Exception inside the 'handler_\" + msg_type + \"' callback:\",\n                    e,\n                    e.stack,\n                    msg\n                );\n            }\n        }\n    };\n};\n\n// from http://stackoverflow.com/questions/1114465/getting-mouse-location-in-canvas\nmpl.findpos = function (e) {\n    //this section is from http://www.quirksmode.org/js/events_properties.html\n    var targ;\n    if (!e) {\n        e = window.event;\n    }\n    if (e.target) {\n        targ = e.target;\n    } else if (e.srcElement) {\n        targ = e.srcElement;\n    }\n    if (targ.nodeType === 3) {\n        // defeat Safari bug\n        targ = targ.parentNode;\n    }\n\n    // pageX,Y are the mouse positions relative to the document\n    var boundingRect = targ.getBoundingClientRect();\n    var x = e.pageX - (boundingRect.left + document.body.scrollLeft);\n    var y = e.pageY - (boundingRect.top + document.body.scrollTop);\n\n    return { x: x, y: y };\n};\n\n/*\n * return a copy of an object with only non-object keys\n * we need this to avoid circular references\n * http://stackoverflow.com/a/24161582/3208463\n */\nfunction simpleKeys(original) {\n    return Object.keys(original).reduce(function (obj, key) {\n        if (typeof original[key] !== 'object') {\n            obj[key] = original[key];\n        }\n        return obj;\n    }, {});\n}\n\nmpl.figure.prototype.mouse_event = function (event, name) {\n    var canvas_pos = mpl.findpos(event);\n\n    if (name === 'button_press') {\n        this.canvas.focus();\n        this.canvas_div.focus();\n    }\n\n    var x = canvas_pos.x * this.ratio;\n    var y = canvas_pos.y * this.ratio;\n\n    this.send_message(name, {\n        x: x,\n        y: y,\n        button: event.button,\n        step: event.step,\n        guiEvent: simpleKeys(event),\n    });\n\n    /* This prevents the web browser from automatically changing to\n     * the text insertion cursor when the button is pressed.  We want\n     * to control all of the cursor setting manually through the\n     * 'cursor' event from matplotlib */\n    event.preventDefault();\n    return false;\n};\n\nmpl.figure.prototype._key_event_extra = function (_event, _name) {\n    // Handle any extra behaviour associated with a key event\n};\n\nmpl.figure.prototype.key_event = function (event, name) {\n    // Prevent repeat events\n    if (name === 'key_press') {\n        if (event.key === this._key) {\n            return;\n        } else {\n            this._key = event.key;\n        }\n    }\n    if (name === 'key_release') {\n        this._key = null;\n    }\n\n    var value = '';\n    if (event.ctrlKey && event.key !== 'Control') {\n        value += 'ctrl+';\n    }\n    else if (event.altKey && event.key !== 'Alt') {\n        value += 'alt+';\n    }\n    else if (event.shiftKey && event.key !== 'Shift') {\n        value += 'shift+';\n    }\n\n    value += 'k' + event.key;\n\n    this._key_event_extra(event, name);\n\n    this.send_message(name, { key: value, guiEvent: simpleKeys(event) });\n    return false;\n};\n\nmpl.figure.prototype.toolbar_button_onclick = function (name) {\n    if (name === 'download') {\n        this.handle_save(this, null);\n    } else {\n        this.send_message('toolbar_button', { name: name });\n    }\n};\n\nmpl.figure.prototype.toolbar_button_onmouseover = function (tooltip) {\n    this.message.textContent = tooltip;\n};\n\n///////////////// REMAINING CONTENT GENERATED BY embed_js.py /////////////////\n// prettier-ignore\nvar _JSXTOOLS_RESIZE_OBSERVER=function(A){var t,i=new WeakMap,n=new WeakMap,a=new WeakMap,r=new WeakMap,o=new Set;function s(e){if(!(this instanceof s))throw new TypeError(\"Constructor requires 'new' operator\");i.set(this,e)}function h(){throw new TypeError(\"Function is not a constructor\")}function c(e,t,i,n){e=0 in arguments?Number(arguments[0]):0,t=1 in arguments?Number(arguments[1]):0,i=2 in arguments?Number(arguments[2]):0,n=3 in arguments?Number(arguments[3]):0,this.right=(this.x=this.left=e)+(this.width=i),this.bottom=(this.y=this.top=t)+(this.height=n),Object.freeze(this)}function d(){t=requestAnimationFrame(d);var s=new WeakMap,p=new Set;o.forEach((function(t){r.get(t).forEach((function(i){var r=t instanceof window.SVGElement,o=a.get(t),d=r?0:parseFloat(o.paddingTop),f=r?0:parseFloat(o.paddingRight),l=r?0:parseFloat(o.paddingBottom),u=r?0:parseFloat(o.paddingLeft),g=r?0:parseFloat(o.borderTopWidth),m=r?0:parseFloat(o.borderRightWidth),w=r?0:parseFloat(o.borderBottomWidth),b=u+f,F=d+l,v=(r?0:parseFloat(o.borderLeftWidth))+m,W=g+w,y=r?0:t.offsetHeight-W-t.clientHeight,E=r?0:t.offsetWidth-v-t.clientWidth,R=b+v,z=F+W,M=r?t.width:parseFloat(o.width)-R-E,O=r?t.height:parseFloat(o.height)-z-y;if(n.has(t)){var k=n.get(t);if(k[0]===M&&k[1]===O)return}n.set(t,[M,O]);var S=Object.create(h.prototype);S.target=t,S.contentRect=new c(u,d,M,O),s.has(i)||(s.set(i,[]),p.add(i)),s.get(i).push(S)}))})),p.forEach((function(e){i.get(e).call(e,s.get(e),e)}))}return s.prototype.observe=function(i){if(i instanceof window.Element){r.has(i)||(r.set(i,new Set),o.add(i),a.set(i,window.getComputedStyle(i)));var n=r.get(i);n.has(this)||n.add(this),cancelAnimationFrame(t),t=requestAnimationFrame(d)}},s.prototype.unobserve=function(i){if(i instanceof window.Element&&r.has(i)){var n=r.get(i);n.has(this)&&(n.delete(this),n.size||(r.delete(i),o.delete(i))),n.size||r.delete(i),o.size||cancelAnimationFrame(t)}},A.DOMRectReadOnly=c,A.ResizeObserver=s,A.ResizeObserverEntry=h,A}; // eslint-disable-line\nmpl.toolbar_items = [[\"Home\", \"Reset original view\", \"fa fa-home icon-home\", \"home\"], [\"Back\", \"Back to previous view\", \"fa fa-arrow-left icon-arrow-left\", \"back\"], [\"Forward\", \"Forward to next view\", \"fa fa-arrow-right icon-arrow-right\", \"forward\"], [\"\", \"\", \"\", \"\"], [\"Pan\", \"Left button pans, Right button zooms\\nx/y fixes axis, CTRL fixes aspect\", \"fa fa-arrows icon-move\", \"pan\"], [\"Zoom\", \"Zoom to rectangle\\nx/y fixes axis, CTRL fixes aspect\", \"fa fa-square-o icon-check-empty\", \"zoom\"], [\"\", \"\", \"\", \"\"], [\"Download\", \"Download plot\", \"fa fa-floppy-o icon-save\", \"download\"]];\n\nmpl.extensions = [\"eps\", \"jpeg\", \"pgf\", \"pdf\", \"png\", \"ps\", \"raw\", \"svg\", \"tif\"];\n\nmpl.default_extension = \"png\";/* global mpl */\n\nvar comm_websocket_adapter = function (comm) {\n    // Create a \"websocket\"-like object which calls the given IPython comm\n    // object with the appropriate methods. Currently this is a non binary\n    // socket, so there is still some room for performance tuning.\n    var ws = {};\n\n    ws.binaryType = comm.kernel.ws.binaryType;\n    ws.readyState = comm.kernel.ws.readyState;\n    function updateReadyState(_event) {\n        if (comm.kernel.ws) {\n            ws.readyState = comm.kernel.ws.readyState;\n        } else {\n            ws.readyState = 3; // Closed state.\n        }\n    }\n    comm.kernel.ws.addEventListener('open', updateReadyState);\n    comm.kernel.ws.addEventListener('close', updateReadyState);\n    comm.kernel.ws.addEventListener('error', updateReadyState);\n\n    ws.close = function () {\n        comm.close();\n    };\n    ws.send = function (m) {\n        //console.log('sending', m);\n        comm.send(m);\n    };\n    // Register the callback with on_msg.\n    comm.on_msg(function (msg) {\n        //console.log('receiving', msg['content']['data'], msg);\n        var data = msg['content']['data'];\n        if (data['blob'] !== undefined) {\n            data = {\n                data: new Blob(msg['buffers'], { type: data['blob'] }),\n            };\n        }\n        // Pass the mpl event to the overridden (by mpl) onmessage function.\n        ws.onmessage(data);\n    });\n    return ws;\n};\n\nmpl.mpl_figure_comm = function (comm, msg) {\n    // This is the function which gets called when the mpl process\n    // starts-up an IPython Comm through the \"matplotlib\" channel.\n\n    var id = msg.content.data.id;\n    // Get hold of the div created by the display call when the Comm\n    // socket was opened in Python.\n    var element = document.getElementById(id);\n    var ws_proxy = comm_websocket_adapter(comm);\n\n    function ondownload(figure, _format) {\n        window.open(figure.canvas.toDataURL());\n    }\n\n    var fig = new mpl.figure(id, ws_proxy, ondownload, element);\n\n    // Call onopen now - mpl needs it, as it is assuming we've passed it a real\n    // web socket which is closed, not our websocket->open comm proxy.\n    ws_proxy.onopen();\n\n    fig.parent_element = element;\n    fig.cell_info = mpl.find_output_cell(\"<div id='\" + id + \"'></div>\");\n    if (!fig.cell_info) {\n        console.error('Failed to find cell for figure', id, fig);\n        return;\n    }\n    fig.cell_info[0].output_area.element.on(\n        'cleared',\n        { fig: fig },\n        fig._remove_fig_handler\n    );\n};\n\nmpl.figure.prototype.handle_close = function (fig, msg) {\n    var width = fig.canvas.width / fig.ratio;\n    fig.cell_info[0].output_area.element.off(\n        'cleared',\n        fig._remove_fig_handler\n    );\n    fig.resizeObserverInstance.unobserve(fig.canvas_div);\n\n    // Update the output cell to use the data from the current canvas.\n    fig.push_to_output();\n    var dataURL = fig.canvas.toDataURL();\n    // Re-enable the keyboard manager in IPython - without this line, in FF,\n    // the notebook keyboard shortcuts fail.\n    IPython.keyboard_manager.enable();\n    fig.parent_element.innerHTML =\n        '<img src=\"' + dataURL + '\" width=\"' + width + '\">';\n    fig.close_ws(fig, msg);\n};\n\nmpl.figure.prototype.close_ws = function (fig, msg) {\n    fig.send_message('closing', msg);\n    // fig.ws.close()\n};\n\nmpl.figure.prototype.push_to_output = function (_remove_interactive) {\n    // Turn the data on the canvas into data in the output cell.\n    var width = this.canvas.width / this.ratio;\n    var dataURL = this.canvas.toDataURL();\n    this.cell_info[1]['text/html'] =\n        '<img src=\"' + dataURL + '\" width=\"' + width + '\">';\n};\n\nmpl.figure.prototype.updated_canvas_event = function () {\n    // Tell IPython that the notebook contents must change.\n    IPython.notebook.set_dirty(true);\n    this.send_message('ack', {});\n    var fig = this;\n    // Wait a second, then push the new image to the DOM so\n    // that it is saved nicely (might be nice to debounce this).\n    setTimeout(function () {\n        fig.push_to_output();\n    }, 1000);\n};\n\nmpl.figure.prototype._init_toolbar = function () {\n    var fig = this;\n\n    var toolbar = document.createElement('div');\n    toolbar.classList = 'btn-toolbar';\n    this.root.appendChild(toolbar);\n\n    function on_click_closure(name) {\n        return function (_event) {\n            return fig.toolbar_button_onclick(name);\n        };\n    }\n\n    function on_mouseover_closure(tooltip) {\n        return function (event) {\n            if (!event.currentTarget.disabled) {\n                return fig.toolbar_button_onmouseover(tooltip);\n            }\n        };\n    }\n\n    fig.buttons = {};\n    var buttonGroup = document.createElement('div');\n    buttonGroup.classList = 'btn-group';\n    var button;\n    for (var toolbar_ind in mpl.toolbar_items) {\n        var name = mpl.toolbar_items[toolbar_ind][0];\n        var tooltip = mpl.toolbar_items[toolbar_ind][1];\n        var image = mpl.toolbar_items[toolbar_ind][2];\n        var method_name = mpl.toolbar_items[toolbar_ind][3];\n\n        if (!name) {\n            /* Instead of a spacer, we start a new button group. */\n            if (buttonGroup.hasChildNodes()) {\n                toolbar.appendChild(buttonGroup);\n            }\n            buttonGroup = document.createElement('div');\n            buttonGroup.classList = 'btn-group';\n            continue;\n        }\n\n        button = fig.buttons[name] = document.createElement('button');\n        button.classList = 'btn btn-default';\n        button.href = '#';\n        button.title = name;\n        button.innerHTML = '<i class=\"fa ' + image + ' fa-lg\"></i>';\n        button.addEventListener('click', on_click_closure(method_name));\n        button.addEventListener('mouseover', on_mouseover_closure(tooltip));\n        buttonGroup.appendChild(button);\n    }\n\n    if (buttonGroup.hasChildNodes()) {\n        toolbar.appendChild(buttonGroup);\n    }\n\n    // Add the status bar.\n    var status_bar = document.createElement('span');\n    status_bar.classList = 'mpl-message pull-right';\n    toolbar.appendChild(status_bar);\n    this.message = status_bar;\n\n    // Add the close button to the window.\n    var buttongrp = document.createElement('div');\n    buttongrp.classList = 'btn-group inline pull-right';\n    button = document.createElement('button');\n    button.classList = 'btn btn-mini btn-primary';\n    button.href = '#';\n    button.title = 'Stop Interaction';\n    button.innerHTML = '<i class=\"fa fa-power-off icon-remove icon-large\"></i>';\n    button.addEventListener('click', function (_evt) {\n        fig.handle_close(fig, {});\n    });\n    button.addEventListener(\n        'mouseover',\n        on_mouseover_closure('Stop Interaction')\n    );\n    buttongrp.appendChild(button);\n    var titlebar = this.root.querySelector('.ui-dialog-titlebar');\n    titlebar.insertBefore(buttongrp, titlebar.firstChild);\n};\n\nmpl.figure.prototype._remove_fig_handler = function (event) {\n    var fig = event.data.fig;\n    if (event.target !== this) {\n        // Ignore bubbled events from children.\n        return;\n    }\n    fig.close_ws(fig, {});\n};\n\nmpl.figure.prototype._root_extra_style = function (el) {\n    el.style.boxSizing = 'content-box'; // override notebook setting of border-box.\n};\n\nmpl.figure.prototype._canvas_extra_style = function (el) {\n    // this is important to make the div 'focusable\n    el.setAttribute('tabindex', 0);\n    // reach out to IPython and tell the keyboard manager to turn it's self\n    // off when our div gets focus\n\n    // location in version 3\n    if (IPython.notebook.keyboard_manager) {\n        IPython.notebook.keyboard_manager.register_events(el);\n    } else {\n        // location in version 2\n        IPython.keyboard_manager.register_events(el);\n    }\n};\n\nmpl.figure.prototype._key_event_extra = function (event, _name) {\n    var manager = IPython.notebook.keyboard_manager;\n    if (!manager) {\n        manager = IPython.keyboard_manager;\n    }\n\n    // Check for shift+enter\n    if (event.shiftKey && event.which === 13) {\n        this.canvas_div.blur();\n        // select the cell after this one\n        var index = IPython.notebook.find_cell_index(this.cell_info[0]);\n        IPython.notebook.select(index + 1);\n    }\n};\n\nmpl.figure.prototype.handle_save = function (fig, _msg) {\n    fig.ondownload(fig, null);\n};\n\nmpl.find_output_cell = function (html_output) {\n    // Return the cell and output element which can be found *uniquely* in the notebook.\n    // Note - this is a bit hacky, but it is done because the \"notebook_saving.Notebook\"\n    // IPython event is triggered only after the cells have been serialised, which for\n    // our purposes (turning an active figure into a static one), is too late.\n    var cells = IPython.notebook.get_cells();\n    var ncells = cells.length;\n    for (var i = 0; i < ncells; i++) {\n        var cell = cells[i];\n        if (cell.cell_type === 'code') {\n            for (var j = 0; j < cell.output_area.outputs.length; j++) {\n                var data = cell.output_area.outputs[j];\n                if (data.data) {\n                    // IPython >= 3 moved mimebundle to data attribute of output\n                    data = data.data;\n                }\n                if (data['text/html'] === html_output) {\n                    return [cell, data, j];\n                }\n            }\n        }\n    }\n};\n\n// Register the function which deals with the matplotlib target/channel.\n// The kernel may be null if the page has been refreshed.\nif (IPython.notebook.kernel !== null) {\n    IPython.notebook.kernel.comm_manager.register_target(\n        'matplotlib',\n        mpl.mpl_figure_comm\n    );\n}\n",
            "text/plain": [
              "<IPython.core.display.Javascript object>"
            ]
          },
          "metadata": {},
          "output_type": "display_data"
        },
        {
          "data": {
            "text/html": [
              "<img src=\"data:image/png;base64,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\" width=\"640\">"
            ],
            "text/plain": [
              "<IPython.core.display.HTML object>"
            ]
          },
          "metadata": {},
          "output_type": "display_data"
        },
        {
          "name": "stderr",
          "output_type": "stream",
          "text": [
            "No handles with labels found to put in legend.\n",
            "No handles with labels found to put in legend.\n"
          ]
        },
        {
          "name": "stdout",
          "output_type": "stream",
          "text": [
            "1,11\n",
            "1,6\n"
          ]
        },
        {
          "name": "stderr",
          "output_type": "stream",
          "text": [
            "No handles with labels found to put in legend.\n",
            "No handles with labels found to put in legend.\n",
            "No handles with labels found to put in legend.\n"
          ]
        },
        {
          "name": "stdout",
          "output_type": "stream",
          "text": [
            "1,5\n",
            "1,15\n",
            "1,4\n"
          ]
        },
        {
          "name": "stderr",
          "output_type": "stream",
          "text": [
            "No handles with labels found to put in legend.\n"
          ]
        },
        {
          "name": "stdout",
          "output_type": "stream",
          "text": [
            "1,14\n"
          ]
        },
        {
          "name": "stderr",
          "output_type": "stream",
          "text": [
            "No handles with labels found to put in legend.\n"
          ]
        },
        {
          "name": "stdout",
          "output_type": "stream",
          "text": [
            "1,7\n"
          ]
        },
        {
          "name": "stderr",
          "output_type": "stream",
          "text": [
            "No handles with labels found to put in legend.\n"
          ]
        },
        {
          "name": "stdout",
          "output_type": "stream",
          "text": [
            "1,8\n"
          ]
        },
        {
          "name": "stderr",
          "output_type": "stream",
          "text": [
            "No handles with labels found to put in legend.\n"
          ]
        },
        {
          "name": "stdout",
          "output_type": "stream",
          "text": [
            "1,12\n"
          ]
        },
        {
          "name": "stderr",
          "output_type": "stream",
          "text": [
            "No handles with labels found to put in legend.\n"
          ]
        },
        {
          "name": "stdout",
          "output_type": "stream",
          "text": [
            "1,9\n"
          ]
        },
        {
          "name": "stderr",
          "output_type": "stream",
          "text": [
            "No handles with labels found to put in legend.\n"
          ]
        },
        {
          "name": "stdout",
          "output_type": "stream",
          "text": [
            "1,10\n"
          ]
        },
        {
          "name": "stderr",
          "output_type": "stream",
          "text": [
            "No handles with labels found to put in legend.\n"
          ]
        },
        {
          "name": "stdout",
          "output_type": "stream",
          "text": [
            "1,16\n"
          ]
        },
        {
          "name": "stderr",
          "output_type": "stream",
          "text": [
            "No handles with labels found to put in legend.\n"
          ]
        },
        {
          "name": "stdout",
          "output_type": "stream",
          "text": [
            "2,1\n"
          ]
        },
        {
          "name": "stderr",
          "output_type": "stream",
          "text": [
            "No handles with labels found to put in legend.\n"
          ]
        },
        {
          "name": "stdout",
          "output_type": "stream",
          "text": [
            "2,18\n"
          ]
        },
        {
          "name": "stderr",
          "output_type": "stream",
          "text": [
            "No handles with labels found to put in legend.\n"
          ]
        },
        {
          "name": "stdout",
          "output_type": "stream",
          "text": [
            "2,19\n"
          ]
        },
        {
          "name": "stderr",
          "output_type": "stream",
          "text": [
            "No handles with labels found to put in legend.\n"
          ]
        },
        {
          "name": "stdout",
          "output_type": "stream",
          "text": [
            "2,20\n"
          ]
        },
        {
          "name": "stderr",
          "output_type": "stream",
          "text": [
            "No handles with labels found to put in legend.\n"
          ]
        },
        {
          "name": "stdout",
          "output_type": "stream",
          "text": [
            "2,21\n"
          ]
        },
        {
          "name": "stderr",
          "output_type": "stream",
          "text": [
            "No handles with labels found to put in legend.\n"
          ]
        },
        {
          "name": "stdout",
          "output_type": "stream",
          "text": [
            "2,22\n"
          ]
        },
        {
          "name": "stderr",
          "output_type": "stream",
          "text": [
            "No handles with labels found to put in legend.\n"
          ]
        },
        {
          "name": "stdout",
          "output_type": "stream",
          "text": [
            "2,23\n"
          ]
        },
        {
          "name": "stderr",
          "output_type": "stream",
          "text": [
            "No handles with labels found to put in legend.\n"
          ]
        },
        {
          "name": "stdout",
          "output_type": "stream",
          "text": [
            "2,24\n"
          ]
        },
        {
          "name": "stderr",
          "output_type": "stream",
          "text": [
            "No handles with labels found to put in legend.\n"
          ]
        },
        {
          "name": "stdout",
          "output_type": "stream",
          "text": [
            "2,25\n"
          ]
        },
        {
          "name": "stderr",
          "output_type": "stream",
          "text": [
            "No handles with labels found to put in legend.\n"
          ]
        },
        {
          "name": "stdout",
          "output_type": "stream",
          "text": [
            "2,26\n"
          ]
        },
        {
          "name": "stderr",
          "output_type": "stream",
          "text": [
            "No handles with labels found to put in legend.\n"
          ]
        },
        {
          "name": "stdout",
          "output_type": "stream",
          "text": [
            "2,27\n"
          ]
        },
        {
          "name": "stderr",
          "output_type": "stream",
          "text": [
            "No handles with labels found to put in legend.\n"
          ]
        },
        {
          "name": "stdout",
          "output_type": "stream",
          "text": [
            "2,28\n"
          ]
        },
        {
          "name": "stderr",
          "output_type": "stream",
          "text": [
            "No handles with labels found to put in legend.\n"
          ]
        },
        {
          "name": "stdout",
          "output_type": "stream",
          "text": [
            "2,29\n"
          ]
        },
        {
          "name": "stderr",
          "output_type": "stream",
          "text": [
            "No handles with labels found to put in legend.\n"
          ]
        },
        {
          "name": "stdout",
          "output_type": "stream",
          "text": [
            "2,30\n"
          ]
        },
        {
          "name": "stderr",
          "output_type": "stream",
          "text": [
            "No handles with labels found to put in legend.\n"
          ]
        },
        {
          "name": "stdout",
          "output_type": "stream",
          "text": [
            "2,31\n"
          ]
        },
        {
          "name": "stderr",
          "output_type": "stream",
          "text": [
            "No handles with labels found to put in legend.\n"
          ]
        },
        {
          "name": "stdout",
          "output_type": "stream",
          "text": [
            "2,32\n"
          ]
        },
        {
          "name": "stderr",
          "output_type": "stream",
          "text": [
            "No handles with labels found to put in legend.\n"
          ]
        },
        {
          "name": "stdout",
          "output_type": "stream",
          "text": [
            "2,33\n"
          ]
        },
        {
          "name": "stderr",
          "output_type": "stream",
          "text": [
            "No handles with labels found to put in legend.\n"
          ]
        },
        {
          "name": "stdout",
          "output_type": "stream",
          "text": [
            "2,34\n"
          ]
        },
        {
          "name": "stderr",
          "output_type": "stream",
          "text": [
            "No handles with labels found to put in legend.\n"
          ]
        },
        {
          "name": "stdout",
          "output_type": "stream",
          "text": [
            "2,35\n"
          ]
        },
        {
          "name": "stderr",
          "output_type": "stream",
          "text": [
            "No handles with labels found to put in legend.\n"
          ]
        },
        {
          "name": "stdout",
          "output_type": "stream",
          "text": [
            "2,36\n"
          ]
        },
        {
          "name": "stderr",
          "output_type": "stream",
          "text": [
            "No handles with labels found to put in legend.\n"
          ]
        },
        {
          "name": "stdout",
          "output_type": "stream",
          "text": [
            "2,37\n"
          ]
        },
        {
          "name": "stderr",
          "output_type": "stream",
          "text": [
            "No handles with labels found to put in legend.\n"
          ]
        },
        {
          "name": "stdout",
          "output_type": "stream",
          "text": [
            "2,38\n"
          ]
        },
        {
          "name": "stderr",
          "output_type": "stream",
          "text": [
            "No handles with labels found to put in legend.\n"
          ]
        },
        {
          "name": "stdout",
          "output_type": "stream",
          "text": [
            "2,39\n"
          ]
        },
        {
          "name": "stderr",
          "output_type": "stream",
          "text": [
            "No handles with labels found to put in legend.\n"
          ]
        },
        {
          "name": "stdout",
          "output_type": "stream",
          "text": [
            "2,40\n"
          ]
        },
        {
          "name": "stderr",
          "output_type": "stream",
          "text": [
            "No handles with labels found to put in legend.\n"
          ]
        },
        {
          "name": "stdout",
          "output_type": "stream",
          "text": [
            "2,41\n"
          ]
        },
        {
          "name": "stderr",
          "output_type": "stream",
          "text": [
            "No handles with labels found to put in legend.\n"
          ]
        },
        {
          "name": "stdout",
          "output_type": "stream",
          "text": [
            "2,42\n"
          ]
        },
        {
          "name": "stderr",
          "output_type": "stream",
          "text": [
            "No handles with labels found to put in legend.\n"
          ]
        },
        {
          "name": "stdout",
          "output_type": "stream",
          "text": [
            "2,43\n"
          ]
        },
        {
          "name": "stderr",
          "output_type": "stream",
          "text": [
            "No handles with labels found to put in legend.\n"
          ]
        },
        {
          "name": "stdout",
          "output_type": "stream",
          "text": [
            "2,44\n"
          ]
        },
        {
          "name": "stderr",
          "output_type": "stream",
          "text": [
            "No handles with labels found to put in legend.\n"
          ]
        },
        {
          "name": "stdout",
          "output_type": "stream",
          "text": [
            "2,45\n"
          ]
        },
        {
          "name": "stderr",
          "output_type": "stream",
          "text": [
            "No handles with labels found to put in legend.\n"
          ]
        },
        {
          "name": "stdout",
          "output_type": "stream",
          "text": [
            "2,46\n"
          ]
        },
        {
          "name": "stderr",
          "output_type": "stream",
          "text": [
            "No handles with labels found to put in legend.\n"
          ]
        },
        {
          "name": "stdout",
          "output_type": "stream",
          "text": [
            "2,47\n"
          ]
        },
        {
          "name": "stderr",
          "output_type": "stream",
          "text": [
            "No handles with labels found to put in legend.\n"
          ]
        },
        {
          "name": "stdout",
          "output_type": "stream",
          "text": [
            "2,48\n"
          ]
        },
        {
          "name": "stderr",
          "output_type": "stream",
          "text": [
            "No handles with labels found to put in legend.\n"
          ]
        },
        {
          "name": "stdout",
          "output_type": "stream",
          "text": [
            "2,49\n"
          ]
        },
        {
          "name": "stderr",
          "output_type": "stream",
          "text": [
            "No handles with labels found to put in legend.\n"
          ]
        },
        {
          "name": "stdout",
          "output_type": "stream",
          "text": [
            "2,50\n"
          ]
        },
        {
          "name": "stderr",
          "output_type": "stream",
          "text": [
            "No handles with labels found to put in legend.\n"
          ]
        },
        {
          "name": "stdout",
          "output_type": "stream",
          "text": [
            "2,51\n"
          ]
        },
        {
          "name": "stderr",
          "output_type": "stream",
          "text": [
            "No handles with labels found to put in legend.\n"
          ]
        },
        {
          "name": "stdout",
          "output_type": "stream",
          "text": [
            "2,52\n"
          ]
        },
        {
          "name": "stderr",
          "output_type": "stream",
          "text": [
            "No handles with labels found to put in legend.\n"
          ]
        },
        {
          "name": "stdout",
          "output_type": "stream",
          "text": [
            "2,53\n"
          ]
        },
        {
          "name": "stderr",
          "output_type": "stream",
          "text": [
            "No handles with labels found to put in legend.\n"
          ]
        },
        {
          "name": "stdout",
          "output_type": "stream",
          "text": [
            "2,54\n"
          ]
        },
        {
          "name": "stderr",
          "output_type": "stream",
          "text": [
            "No handles with labels found to put in legend.\n"
          ]
        },
        {
          "name": "stdout",
          "output_type": "stream",
          "text": [
            "2,55\n"
          ]
        },
        {
          "name": "stderr",
          "output_type": "stream",
          "text": [
            "No handles with labels found to put in legend.\n"
          ]
        },
        {
          "name": "stdout",
          "output_type": "stream",
          "text": [
            "2,56\n"
          ]
        },
        {
          "name": "stderr",
          "output_type": "stream",
          "text": [
            "No handles with labels found to put in legend.\n"
          ]
        },
        {
          "name": "stdout",
          "output_type": "stream",
          "text": [
            "2,57\n"
          ]
        },
        {
          "name": "stderr",
          "output_type": "stream",
          "text": [
            "No handles with labels found to put in legend.\n"
          ]
        },
        {
          "name": "stdout",
          "output_type": "stream",
          "text": [
            "2,58\n"
          ]
        },
        {
          "name": "stderr",
          "output_type": "stream",
          "text": [
            "No handles with labels found to put in legend.\n"
          ]
        },
        {
          "name": "stdout",
          "output_type": "stream",
          "text": [
            "2,16\n"
          ]
        },
        {
          "name": "stderr",
          "output_type": "stream",
          "text": [
            "No handles with labels found to put in legend.\n"
          ]
        },
        {
          "name": "stdout",
          "output_type": "stream",
          "text": [
            "2,59\n"
          ]
        },
        {
          "name": "stderr",
          "output_type": "stream",
          "text": [
            "No handles with labels found to put in legend.\n"
          ]
        },
        {
          "name": "stdout",
          "output_type": "stream",
          "text": [
            "2,60\n"
          ]
        },
        {
          "name": "stderr",
          "output_type": "stream",
          "text": [
            "No handles with labels found to put in legend.\n"
          ]
        },
        {
          "name": "stdout",
          "output_type": "stream",
          "text": [
            "2,61\n"
          ]
        },
        {
          "name": "stderr",
          "output_type": "stream",
          "text": [
            "No handles with labels found to put in legend.\n"
          ]
        },
        {
          "name": "stdout",
          "output_type": "stream",
          "text": [
            "2,62\n"
          ]
        },
        {
          "name": "stderr",
          "output_type": "stream",
          "text": [
            "No handles with labels found to put in legend.\n"
          ]
        },
        {
          "name": "stdout",
          "output_type": "stream",
          "text": [
            "2,63\n"
          ]
        },
        {
          "name": "stderr",
          "output_type": "stream",
          "text": [
            "No handles with labels found to put in legend.\n"
          ]
        },
        {
          "name": "stdout",
          "output_type": "stream",
          "text": [
            "2,64\n"
          ]
        },
        {
          "name": "stderr",
          "output_type": "stream",
          "text": [
            "No handles with labels found to put in legend.\n"
          ]
        },
        {
          "name": "stdout",
          "output_type": "stream",
          "text": [
            "2,65\n"
          ]
        },
        {
          "name": "stderr",
          "output_type": "stream",
          "text": [
            "No handles with labels found to put in legend.\n"
          ]
        },
        {
          "name": "stdout",
          "output_type": "stream",
          "text": [
            "2,66\n"
          ]
        },
        {
          "name": "stderr",
          "output_type": "stream",
          "text": [
            "No handles with labels found to put in legend.\n"
          ]
        },
        {
          "name": "stdout",
          "output_type": "stream",
          "text": [
            "2,67\n"
          ]
        },
        {
          "name": "stderr",
          "output_type": "stream",
          "text": [
            "No handles with labels found to put in legend.\n"
          ]
        },
        {
          "name": "stdout",
          "output_type": "stream",
          "text": [
            "2,68\n"
          ]
        },
        {
          "name": "stderr",
          "output_type": "stream",
          "text": [
            "No handles with labels found to put in legend.\n"
          ]
        },
        {
          "name": "stdout",
          "output_type": "stream",
          "text": [
            "2,69\n"
          ]
        },
        {
          "name": "stderr",
          "output_type": "stream",
          "text": [
            "No handles with labels found to put in legend.\n"
          ]
        },
        {
          "name": "stdout",
          "output_type": "stream",
          "text": [
            "2,70\n"
          ]
        },
        {
          "name": "stderr",
          "output_type": "stream",
          "text": [
            "No handles with labels found to put in legend.\n"
          ]
        },
        {
          "name": "stdout",
          "output_type": "stream",
          "text": [
            "2,71\n"
          ]
        },
        {
          "name": "stderr",
          "output_type": "stream",
          "text": [
            "No handles with labels found to put in legend.\n"
          ]
        },
        {
          "name": "stdout",
          "output_type": "stream",
          "text": [
            "2,72\n"
          ]
        },
        {
          "name": "stderr",
          "output_type": "stream",
          "text": [
            "No handles with labels found to put in legend.\n"
          ]
        },
        {
          "name": "stdout",
          "output_type": "stream",
          "text": [
            "2,73\n"
          ]
        },
        {
          "name": "stderr",
          "output_type": "stream",
          "text": [
            "No handles with labels found to put in legend.\n"
          ]
        },
        {
          "name": "stdout",
          "output_type": "stream",
          "text": [
            "2,74\n"
          ]
        },
        {
          "name": "stderr",
          "output_type": "stream",
          "text": [
            "No handles with labels found to put in legend.\n"
          ]
        },
        {
          "name": "stdout",
          "output_type": "stream",
          "text": [
            "2,75\n"
          ]
        },
        {
          "name": "stderr",
          "output_type": "stream",
          "text": [
            "No handles with labels found to put in legend.\n"
          ]
        },
        {
          "name": "stdout",
          "output_type": "stream",
          "text": [
            "2,76\n"
          ]
        },
        {
          "name": "stderr",
          "output_type": "stream",
          "text": [
            "No handles with labels found to put in legend.\n"
          ]
        },
        {
          "name": "stdout",
          "output_type": "stream",
          "text": [
            "2,77\n"
          ]
        },
        {
          "name": "stderr",
          "output_type": "stream",
          "text": [
            "No handles with labels found to put in legend.\n"
          ]
        },
        {
          "name": "stdout",
          "output_type": "stream",
          "text": [
            "2,78\n"
          ]
        },
        {
          "name": "stderr",
          "output_type": "stream",
          "text": [
            "No handles with labels found to put in legend.\n"
          ]
        },
        {
          "name": "stdout",
          "output_type": "stream",
          "text": [
            "2,79\n"
          ]
        },
        {
          "name": "stderr",
          "output_type": "stream",
          "text": [
            "No handles with labels found to put in legend.\n"
          ]
        },
        {
          "name": "stdout",
          "output_type": "stream",
          "text": [
            "2,80\n"
          ]
        },
        {
          "name": "stderr",
          "output_type": "stream",
          "text": [
            "No handles with labels found to put in legend.\n"
          ]
        },
        {
          "name": "stdout",
          "output_type": "stream",
          "text": [
            "2,81\n"
          ]
        },
        {
          "name": "stderr",
          "output_type": "stream",
          "text": [
            "No handles with labels found to put in legend.\n"
          ]
        },
        {
          "name": "stdout",
          "output_type": "stream",
          "text": [
            "2,82\n"
          ]
        },
        {
          "name": "stderr",
          "output_type": "stream",
          "text": [
            "No handles with labels found to put in legend.\n"
          ]
        },
        {
          "name": "stdout",
          "output_type": "stream",
          "text": [
            "2,83\n"
          ]
        },
        {
          "name": "stderr",
          "output_type": "stream",
          "text": [
            "No handles with labels found to put in legend.\n"
          ]
        },
        {
          "name": "stdout",
          "output_type": "stream",
          "text": [
            "2,84\n"
          ]
        },
        {
          "name": "stderr",
          "output_type": "stream",
          "text": [
            "No handles with labels found to put in legend.\n"
          ]
        },
        {
          "name": "stdout",
          "output_type": "stream",
          "text": [
            "2,85\n"
          ]
        },
        {
          "name": "stderr",
          "output_type": "stream",
          "text": [
            "No handles with labels found to put in legend.\n"
          ]
        },
        {
          "name": "stdout",
          "output_type": "stream",
          "text": [
            "2,86\n"
          ]
        },
        {
          "name": "stderr",
          "output_type": "stream",
          "text": [
            "No handles with labels found to put in legend.\n"
          ]
        },
        {
          "name": "stdout",
          "output_type": "stream",
          "text": [
            "2,87\n"
          ]
        },
        {
          "name": "stderr",
          "output_type": "stream",
          "text": [
            "No handles with labels found to put in legend.\n"
          ]
        },
        {
          "name": "stdout",
          "output_type": "stream",
          "text": [
            "2,88\n"
          ]
        },
        {
          "name": "stderr",
          "output_type": "stream",
          "text": [
            "No handles with labels found to put in legend.\n"
          ]
        },
        {
          "name": "stdout",
          "output_type": "stream",
          "text": [
            "2,89\n"
          ]
        },
        {
          "name": "stderr",
          "output_type": "stream",
          "text": [
            "No handles with labels found to put in legend.\n"
          ]
        },
        {
          "name": "stdout",
          "output_type": "stream",
          "text": [
            "2,90\n"
          ]
        },
        {
          "name": "stderr",
          "output_type": "stream",
          "text": [
            "No handles with labels found to put in legend.\n"
          ]
        },
        {
          "name": "stdout",
          "output_type": "stream",
          "text": [
            "2,91\n"
          ]
        },
        {
          "name": "stderr",
          "output_type": "stream",
          "text": [
            "No handles with labels found to put in legend.\n"
          ]
        },
        {
          "name": "stdout",
          "output_type": "stream",
          "text": [
            "2,92\n"
          ]
        },
        {
          "name": "stderr",
          "output_type": "stream",
          "text": [
            "No handles with labels found to put in legend.\n"
          ]
        },
        {
          "name": "stdout",
          "output_type": "stream",
          "text": [
            "2,93\n"
          ]
        },
        {
          "name": "stderr",
          "output_type": "stream",
          "text": [
            "No handles with labels found to put in legend.\n"
          ]
        },
        {
          "name": "stdout",
          "output_type": "stream",
          "text": [
            "2,94\n"
          ]
        },
        {
          "name": "stderr",
          "output_type": "stream",
          "text": [
            "No handles with labels found to put in legend.\n"
          ]
        },
        {
          "name": "stdout",
          "output_type": "stream",
          "text": [
            "2,95\n"
          ]
        },
        {
          "name": "stderr",
          "output_type": "stream",
          "text": [
            "No handles with labels found to put in legend.\n"
          ]
        },
        {
          "name": "stdout",
          "output_type": "stream",
          "text": [
            "2,96\n"
          ]
        },
        {
          "name": "stderr",
          "output_type": "stream",
          "text": [
            "No handles with labels found to put in legend.\n"
          ]
        },
        {
          "name": "stdout",
          "output_type": "stream",
          "text": [
            "2,97\n"
          ]
        },
        {
          "name": "stderr",
          "output_type": "stream",
          "text": [
            "No handles with labels found to put in legend.\n"
          ]
        },
        {
          "name": "stdout",
          "output_type": "stream",
          "text": [
            "2,98\n"
          ]
        },
        {
          "name": "stderr",
          "output_type": "stream",
          "text": [
            "No handles with labels found to put in legend.\n"
          ]
        },
        {
          "name": "stdout",
          "output_type": "stream",
          "text": [
            "2,99\n"
          ]
        },
        {
          "name": "stderr",
          "output_type": "stream",
          "text": [
            "No handles with labels found to put in legend.\n"
          ]
        },
        {
          "name": "stdout",
          "output_type": "stream",
          "text": [
            "2,100\n"
          ]
        },
        {
          "name": "stderr",
          "output_type": "stream",
          "text": [
            "No handles with labels found to put in legend.\n"
          ]
        },
        {
          "name": "stdout",
          "output_type": "stream",
          "text": [
            "2,101\n"
          ]
        },
        {
          "name": "stderr",
          "output_type": "stream",
          "text": [
            "No handles with labels found to put in legend.\n"
          ]
        },
        {
          "name": "stdout",
          "output_type": "stream",
          "text": [
            "2,102\n"
          ]
        },
        {
          "name": "stderr",
          "output_type": "stream",
          "text": [
            "No handles with labels found to put in legend.\n"
          ]
        },
        {
          "name": "stdout",
          "output_type": "stream",
          "text": [
            "2,103\n"
          ]
        },
        {
          "name": "stderr",
          "output_type": "stream",
          "text": [
            "No handles with labels found to put in legend.\n"
          ]
        },
        {
          "name": "stdout",
          "output_type": "stream",
          "text": [
            "2,104\n"
          ]
        },
        {
          "name": "stderr",
          "output_type": "stream",
          "text": [
            "No handles with labels found to put in legend.\n"
          ]
        },
        {
          "name": "stdout",
          "output_type": "stream",
          "text": [
            "2,105\n"
          ]
        },
        {
          "name": "stderr",
          "output_type": "stream",
          "text": [
            "No handles with labels found to put in legend.\n"
          ]
        },
        {
          "name": "stdout",
          "output_type": "stream",
          "text": [
            "2,106\n"
          ]
        },
        {
          "name": "stderr",
          "output_type": "stream",
          "text": [
            "No handles with labels found to put in legend.\n"
          ]
        },
        {
          "name": "stdout",
          "output_type": "stream",
          "text": [
            "2,107\n"
          ]
        },
        {
          "name": "stderr",
          "output_type": "stream",
          "text": [
            "No handles with labels found to put in legend.\n"
          ]
        },
        {
          "name": "stdout",
          "output_type": "stream",
          "text": [
            "2,108\n"
          ]
        },
        {
          "ename": "KeyboardInterrupt",
          "evalue": "",
          "output_type": "error",
          "traceback": [
            "\u001b[1;31m---------------------------------------------------------------------------\u001b[0m",
            "\u001b[1;31mKeyboardInterrupt\u001b[0m                         Traceback (most recent call last)",
            "\u001b[1;32mC:\\Users\\UMAIRA~1\\AppData\\Local\\Temp/ipykernel_16048/3606309808.py\u001b[0m in \u001b[0;36m<module>\u001b[1;34m\u001b[0m\n\u001b[0;32m     10\u001b[0m \u001b[1;32mfrom\u001b[0m \u001b[0mcollections\u001b[0m \u001b[1;32mimport\u001b[0m \u001b[0mdefaultdict\u001b[0m\u001b[1;33m\u001b[0m\u001b[1;33m\u001b[0m\u001b[0m\n\u001b[0;32m     11\u001b[0m \u001b[0mmydict\u001b[0m \u001b[1;33m=\u001b[0m \u001b[0mdefaultdict\u001b[0m\u001b[1;33m(\u001b[0m\u001b[0mint\u001b[0m\u001b[1;33m)\u001b[0m\u001b[1;33m\u001b[0m\u001b[1;33m\u001b[0m\u001b[0m\n\u001b[1;32m---> 12\u001b[1;33m \u001b[1;32mfor\u001b[0m \u001b[0mmessage\u001b[0m \u001b[1;32min\u001b[0m \u001b[0mconsumer\u001b[0m\u001b[1;33m:\u001b[0m\u001b[1;33m\u001b[0m\u001b[1;33m\u001b[0m\u001b[0m\n\u001b[0m\u001b[0;32m     13\u001b[0m     \u001b[1;32mif\u001b[0m\u001b[1;33m(\u001b[0m\u001b[0mmessage\u001b[0m\u001b[1;33m.\u001b[0m\u001b[0mvalue\u001b[0m\u001b[1;33m==\u001b[0m\u001b[1;34m\"display\"\u001b[0m\u001b[1;33m)\u001b[0m\u001b[1;33m:\u001b[0m\u001b[1;33m\u001b[0m\u001b[1;33m\u001b[0m\u001b[0m\n\u001b[0;32m     14\u001b[0m         \u001b[0mconsumer\u001b[0m\u001b[1;33m.\u001b[0m\u001b[0mclose\u001b[0m\u001b[1;33m(\u001b[0m\u001b[1;33m)\u001b[0m\u001b[1;33m\u001b[0m\u001b[1;33m\u001b[0m\u001b[0m\n",
            "\u001b[1;32m~\\anaconda3\\lib\\site-packages\\kafka\\consumer\\group.py\u001b[0m in \u001b[0;36m__next__\u001b[1;34m(self)\u001b[0m\n\u001b[0;32m   1191\u001b[0m             \u001b[1;32mreturn\u001b[0m \u001b[0mself\u001b[0m\u001b[1;33m.\u001b[0m\u001b[0mnext_v1\u001b[0m\u001b[1;33m(\u001b[0m\u001b[1;33m)\u001b[0m\u001b[1;33m\u001b[0m\u001b[1;33m\u001b[0m\u001b[0m\n\u001b[0;32m   1192\u001b[0m         \u001b[1;32melse\u001b[0m\u001b[1;33m:\u001b[0m\u001b[1;33m\u001b[0m\u001b[1;33m\u001b[0m\u001b[0m\n\u001b[1;32m-> 1193\u001b[1;33m             \u001b[1;32mreturn\u001b[0m \u001b[0mself\u001b[0m\u001b[1;33m.\u001b[0m\u001b[0mnext_v2\u001b[0m\u001b[1;33m(\u001b[0m\u001b[1;33m)\u001b[0m\u001b[1;33m\u001b[0m\u001b[1;33m\u001b[0m\u001b[0m\n\u001b[0m\u001b[0;32m   1194\u001b[0m \u001b[1;33m\u001b[0m\u001b[0m\n\u001b[0;32m   1195\u001b[0m     \u001b[1;32mdef\u001b[0m \u001b[0mnext_v2\u001b[0m\u001b[1;33m(\u001b[0m\u001b[0mself\u001b[0m\u001b[1;33m)\u001b[0m\u001b[1;33m:\u001b[0m\u001b[1;33m\u001b[0m\u001b[1;33m\u001b[0m\u001b[0m\n",
            "\u001b[1;32m~\\anaconda3\\lib\\site-packages\\kafka\\consumer\\group.py\u001b[0m in \u001b[0;36mnext_v2\u001b[1;34m(self)\u001b[0m\n\u001b[0;32m   1199\u001b[0m                 \u001b[0mself\u001b[0m\u001b[1;33m.\u001b[0m\u001b[0m_iterator\u001b[0m \u001b[1;33m=\u001b[0m \u001b[0mself\u001b[0m\u001b[1;33m.\u001b[0m\u001b[0m_message_generator_v2\u001b[0m\u001b[1;33m(\u001b[0m\u001b[1;33m)\u001b[0m\u001b[1;33m\u001b[0m\u001b[1;33m\u001b[0m\u001b[0m\n\u001b[0;32m   1200\u001b[0m             \u001b[1;32mtry\u001b[0m\u001b[1;33m:\u001b[0m\u001b[1;33m\u001b[0m\u001b[1;33m\u001b[0m\u001b[0m\n\u001b[1;32m-> 1201\u001b[1;33m                 \u001b[1;32mreturn\u001b[0m \u001b[0mnext\u001b[0m\u001b[1;33m(\u001b[0m\u001b[0mself\u001b[0m\u001b[1;33m.\u001b[0m\u001b[0m_iterator\u001b[0m\u001b[1;33m)\u001b[0m\u001b[1;33m\u001b[0m\u001b[1;33m\u001b[0m\u001b[0m\n\u001b[0m\u001b[0;32m   1202\u001b[0m             \u001b[1;32mexcept\u001b[0m \u001b[0mStopIteration\u001b[0m\u001b[1;33m:\u001b[0m\u001b[1;33m\u001b[0m\u001b[1;33m\u001b[0m\u001b[0m\n\u001b[0;32m   1203\u001b[0m                 \u001b[0mself\u001b[0m\u001b[1;33m.\u001b[0m\u001b[0m_iterator\u001b[0m \u001b[1;33m=\u001b[0m \u001b[1;32mNone\u001b[0m\u001b[1;33m\u001b[0m\u001b[1;33m\u001b[0m\u001b[0m\n",
            "\u001b[1;32m~\\anaconda3\\lib\\site-packages\\kafka\\consumer\\group.py\u001b[0m in \u001b[0;36m_message_generator_v2\u001b[1;34m(self)\u001b[0m\n\u001b[0;32m   1114\u001b[0m     \u001b[1;32mdef\u001b[0m \u001b[0m_message_generator_v2\u001b[0m\u001b[1;33m(\u001b[0m\u001b[0mself\u001b[0m\u001b[1;33m)\u001b[0m\u001b[1;33m:\u001b[0m\u001b[1;33m\u001b[0m\u001b[1;33m\u001b[0m\u001b[0m\n\u001b[0;32m   1115\u001b[0m         \u001b[0mtimeout_ms\u001b[0m \u001b[1;33m=\u001b[0m \u001b[1;36m1000\u001b[0m \u001b[1;33m*\u001b[0m \u001b[1;33m(\u001b[0m\u001b[0mself\u001b[0m\u001b[1;33m.\u001b[0m\u001b[0m_consumer_timeout\u001b[0m \u001b[1;33m-\u001b[0m \u001b[0mtime\u001b[0m\u001b[1;33m.\u001b[0m\u001b[0mtime\u001b[0m\u001b[1;33m(\u001b[0m\u001b[1;33m)\u001b[0m\u001b[1;33m)\u001b[0m\u001b[1;33m\u001b[0m\u001b[1;33m\u001b[0m\u001b[0m\n\u001b[1;32m-> 1116\u001b[1;33m         \u001b[0mrecord_map\u001b[0m \u001b[1;33m=\u001b[0m \u001b[0mself\u001b[0m\u001b[1;33m.\u001b[0m\u001b[0mpoll\u001b[0m\u001b[1;33m(\u001b[0m\u001b[0mtimeout_ms\u001b[0m\u001b[1;33m=\u001b[0m\u001b[0mtimeout_ms\u001b[0m\u001b[1;33m,\u001b[0m \u001b[0mupdate_offsets\u001b[0m\u001b[1;33m=\u001b[0m\u001b[1;32mFalse\u001b[0m\u001b[1;33m)\u001b[0m\u001b[1;33m\u001b[0m\u001b[1;33m\u001b[0m\u001b[0m\n\u001b[0m\u001b[0;32m   1117\u001b[0m         \u001b[1;32mfor\u001b[0m \u001b[0mtp\u001b[0m\u001b[1;33m,\u001b[0m \u001b[0mrecords\u001b[0m \u001b[1;32min\u001b[0m \u001b[0msix\u001b[0m\u001b[1;33m.\u001b[0m\u001b[0miteritems\u001b[0m\u001b[1;33m(\u001b[0m\u001b[0mrecord_map\u001b[0m\u001b[1;33m)\u001b[0m\u001b[1;33m:\u001b[0m\u001b[1;33m\u001b[0m\u001b[1;33m\u001b[0m\u001b[0m\n\u001b[0;32m   1118\u001b[0m             \u001b[1;31m# Generators are stateful, and it is possible that the tp / records\u001b[0m\u001b[1;33m\u001b[0m\u001b[1;33m\u001b[0m\u001b[0m\n",
            "\u001b[1;32m~\\anaconda3\\lib\\site-packages\\kafka\\consumer\\group.py\u001b[0m in \u001b[0;36mpoll\u001b[1;34m(self, timeout_ms, max_records, update_offsets)\u001b[0m\n\u001b[0;32m    653\u001b[0m         \u001b[0mremaining\u001b[0m \u001b[1;33m=\u001b[0m \u001b[0mtimeout_ms\u001b[0m\u001b[1;33m\u001b[0m\u001b[1;33m\u001b[0m\u001b[0m\n\u001b[0;32m    654\u001b[0m         \u001b[1;32mwhile\u001b[0m \u001b[1;32mTrue\u001b[0m\u001b[1;33m:\u001b[0m\u001b[1;33m\u001b[0m\u001b[1;33m\u001b[0m\u001b[0m\n\u001b[1;32m--> 655\u001b[1;33m             \u001b[0mrecords\u001b[0m \u001b[1;33m=\u001b[0m \u001b[0mself\u001b[0m\u001b[1;33m.\u001b[0m\u001b[0m_poll_once\u001b[0m\u001b[1;33m(\u001b[0m\u001b[0mremaining\u001b[0m\u001b[1;33m,\u001b[0m \u001b[0mmax_records\u001b[0m\u001b[1;33m,\u001b[0m \u001b[0mupdate_offsets\u001b[0m\u001b[1;33m=\u001b[0m\u001b[0mupdate_offsets\u001b[0m\u001b[1;33m)\u001b[0m\u001b[1;33m\u001b[0m\u001b[1;33m\u001b[0m\u001b[0m\n\u001b[0m\u001b[0;32m    656\u001b[0m             \u001b[1;32mif\u001b[0m \u001b[0mrecords\u001b[0m\u001b[1;33m:\u001b[0m\u001b[1;33m\u001b[0m\u001b[1;33m\u001b[0m\u001b[0m\n\u001b[0;32m    657\u001b[0m                 \u001b[1;32mreturn\u001b[0m \u001b[0mrecords\u001b[0m\u001b[1;33m\u001b[0m\u001b[1;33m\u001b[0m\u001b[0m\n",
            "\u001b[1;32m~\\anaconda3\\lib\\site-packages\\kafka\\consumer\\group.py\u001b[0m in \u001b[0;36m_poll_once\u001b[1;34m(self, timeout_ms, max_records, update_offsets)\u001b[0m\n\u001b[0;32m    700\u001b[0m \u001b[1;33m\u001b[0m\u001b[0m\n\u001b[0;32m    701\u001b[0m         \u001b[0mtimeout_ms\u001b[0m \u001b[1;33m=\u001b[0m \u001b[0mmin\u001b[0m\u001b[1;33m(\u001b[0m\u001b[0mtimeout_ms\u001b[0m\u001b[1;33m,\u001b[0m \u001b[0mself\u001b[0m\u001b[1;33m.\u001b[0m\u001b[0m_coordinator\u001b[0m\u001b[1;33m.\u001b[0m\u001b[0mtime_to_next_poll\u001b[0m\u001b[1;33m(\u001b[0m\u001b[1;33m)\u001b[0m \u001b[1;33m*\u001b[0m \u001b[1;36m1000\u001b[0m\u001b[1;33m)\u001b[0m\u001b[1;33m\u001b[0m\u001b[1;33m\u001b[0m\u001b[0m\n\u001b[1;32m--> 702\u001b[1;33m         \u001b[0mself\u001b[0m\u001b[1;33m.\u001b[0m\u001b[0m_client\u001b[0m\u001b[1;33m.\u001b[0m\u001b[0mpoll\u001b[0m\u001b[1;33m(\u001b[0m\u001b[0mtimeout_ms\u001b[0m\u001b[1;33m=\u001b[0m\u001b[0mtimeout_ms\u001b[0m\u001b[1;33m)\u001b[0m\u001b[1;33m\u001b[0m\u001b[1;33m\u001b[0m\u001b[0m\n\u001b[0m\u001b[0;32m    703\u001b[0m         \u001b[1;31m# after the long poll, we should check whether the group needs to rebalance\u001b[0m\u001b[1;33m\u001b[0m\u001b[1;33m\u001b[0m\u001b[0m\n\u001b[0;32m    704\u001b[0m         \u001b[1;31m# prior to returning data so that the group can stabilize faster\u001b[0m\u001b[1;33m\u001b[0m\u001b[1;33m\u001b[0m\u001b[0m\n",
            "\u001b[1;32m~\\anaconda3\\lib\\site-packages\\kafka\\client_async.py\u001b[0m in \u001b[0;36mpoll\u001b[1;34m(self, timeout_ms, future)\u001b[0m\n\u001b[0;32m    600\u001b[0m                     \u001b[0mtimeout\u001b[0m \u001b[1;33m=\u001b[0m \u001b[0mmax\u001b[0m\u001b[1;33m(\u001b[0m\u001b[1;36m0\u001b[0m\u001b[1;33m,\u001b[0m \u001b[0mtimeout\u001b[0m\u001b[1;33m)\u001b[0m  \u001b[1;31m# avoid negative timeouts\u001b[0m\u001b[1;33m\u001b[0m\u001b[1;33m\u001b[0m\u001b[0m\n\u001b[0;32m    601\u001b[0m \u001b[1;33m\u001b[0m\u001b[0m\n\u001b[1;32m--> 602\u001b[1;33m                 \u001b[0mself\u001b[0m\u001b[1;33m.\u001b[0m\u001b[0m_poll\u001b[0m\u001b[1;33m(\u001b[0m\u001b[0mtimeout\u001b[0m \u001b[1;33m/\u001b[0m \u001b[1;36m1000\u001b[0m\u001b[1;33m)\u001b[0m\u001b[1;33m\u001b[0m\u001b[1;33m\u001b[0m\u001b[0m\n\u001b[0m\u001b[0;32m    603\u001b[0m \u001b[1;33m\u001b[0m\u001b[0m\n\u001b[0;32m    604\u001b[0m             \u001b[1;31m# called without the lock to avoid deadlock potential\u001b[0m\u001b[1;33m\u001b[0m\u001b[1;33m\u001b[0m\u001b[0m\n",
            "\u001b[1;32m~\\anaconda3\\lib\\site-packages\\kafka\\client_async.py\u001b[0m in \u001b[0;36m_poll\u001b[1;34m(self, timeout)\u001b[0m\n\u001b[0;32m    632\u001b[0m \u001b[1;33m\u001b[0m\u001b[0m\n\u001b[0;32m    633\u001b[0m         \u001b[0mstart_select\u001b[0m \u001b[1;33m=\u001b[0m \u001b[0mtime\u001b[0m\u001b[1;33m.\u001b[0m\u001b[0mtime\u001b[0m\u001b[1;33m(\u001b[0m\u001b[1;33m)\u001b[0m\u001b[1;33m\u001b[0m\u001b[1;33m\u001b[0m\u001b[0m\n\u001b[1;32m--> 634\u001b[1;33m         \u001b[0mready\u001b[0m \u001b[1;33m=\u001b[0m \u001b[0mself\u001b[0m\u001b[1;33m.\u001b[0m\u001b[0m_selector\u001b[0m\u001b[1;33m.\u001b[0m\u001b[0mselect\u001b[0m\u001b[1;33m(\u001b[0m\u001b[0mtimeout\u001b[0m\u001b[1;33m)\u001b[0m\u001b[1;33m\u001b[0m\u001b[1;33m\u001b[0m\u001b[0m\n\u001b[0m\u001b[0;32m    635\u001b[0m         \u001b[0mend_select\u001b[0m \u001b[1;33m=\u001b[0m \u001b[0mtime\u001b[0m\u001b[1;33m.\u001b[0m\u001b[0mtime\u001b[0m\u001b[1;33m(\u001b[0m\u001b[1;33m)\u001b[0m\u001b[1;33m\u001b[0m\u001b[1;33m\u001b[0m\u001b[0m\n\u001b[0;32m    636\u001b[0m         \u001b[1;32mif\u001b[0m \u001b[0mself\u001b[0m\u001b[1;33m.\u001b[0m\u001b[0m_sensors\u001b[0m\u001b[1;33m:\u001b[0m\u001b[1;33m\u001b[0m\u001b[1;33m\u001b[0m\u001b[0m\n",
            "\u001b[1;32m~\\anaconda3\\lib\\selectors.py\u001b[0m in \u001b[0;36mselect\u001b[1;34m(self, timeout)\u001b[0m\n\u001b[0;32m    322\u001b[0m         \u001b[0mready\u001b[0m \u001b[1;33m=\u001b[0m \u001b[1;33m[\u001b[0m\u001b[1;33m]\u001b[0m\u001b[1;33m\u001b[0m\u001b[1;33m\u001b[0m\u001b[0m\n\u001b[0;32m    323\u001b[0m         \u001b[1;32mtry\u001b[0m\u001b[1;33m:\u001b[0m\u001b[1;33m\u001b[0m\u001b[1;33m\u001b[0m\u001b[0m\n\u001b[1;32m--> 324\u001b[1;33m             \u001b[0mr\u001b[0m\u001b[1;33m,\u001b[0m \u001b[0mw\u001b[0m\u001b[1;33m,\u001b[0m \u001b[0m_\u001b[0m \u001b[1;33m=\u001b[0m \u001b[0mself\u001b[0m\u001b[1;33m.\u001b[0m\u001b[0m_select\u001b[0m\u001b[1;33m(\u001b[0m\u001b[0mself\u001b[0m\u001b[1;33m.\u001b[0m\u001b[0m_readers\u001b[0m\u001b[1;33m,\u001b[0m \u001b[0mself\u001b[0m\u001b[1;33m.\u001b[0m\u001b[0m_writers\u001b[0m\u001b[1;33m,\u001b[0m \u001b[1;33m[\u001b[0m\u001b[1;33m]\u001b[0m\u001b[1;33m,\u001b[0m \u001b[0mtimeout\u001b[0m\u001b[1;33m)\u001b[0m\u001b[1;33m\u001b[0m\u001b[1;33m\u001b[0m\u001b[0m\n\u001b[0m\u001b[0;32m    325\u001b[0m         \u001b[1;32mexcept\u001b[0m \u001b[0mInterruptedError\u001b[0m\u001b[1;33m:\u001b[0m\u001b[1;33m\u001b[0m\u001b[1;33m\u001b[0m\u001b[0m\n\u001b[0;32m    326\u001b[0m             \u001b[1;32mreturn\u001b[0m \u001b[0mready\u001b[0m\u001b[1;33m\u001b[0m\u001b[1;33m\u001b[0m\u001b[0m\n",
            "\u001b[1;32m~\\anaconda3\\lib\\selectors.py\u001b[0m in \u001b[0;36m_select\u001b[1;34m(self, r, w, _, timeout)\u001b[0m\n\u001b[0;32m    313\u001b[0m     \u001b[1;32mif\u001b[0m \u001b[0msys\u001b[0m\u001b[1;33m.\u001b[0m\u001b[0mplatform\u001b[0m \u001b[1;33m==\u001b[0m \u001b[1;34m'win32'\u001b[0m\u001b[1;33m:\u001b[0m\u001b[1;33m\u001b[0m\u001b[1;33m\u001b[0m\u001b[0m\n\u001b[0;32m    314\u001b[0m         \u001b[1;32mdef\u001b[0m \u001b[0m_select\u001b[0m\u001b[1;33m(\u001b[0m\u001b[0mself\u001b[0m\u001b[1;33m,\u001b[0m \u001b[0mr\u001b[0m\u001b[1;33m,\u001b[0m \u001b[0mw\u001b[0m\u001b[1;33m,\u001b[0m \u001b[0m_\u001b[0m\u001b[1;33m,\u001b[0m \u001b[0mtimeout\u001b[0m\u001b[1;33m=\u001b[0m\u001b[1;32mNone\u001b[0m\u001b[1;33m)\u001b[0m\u001b[1;33m:\u001b[0m\u001b[1;33m\u001b[0m\u001b[1;33m\u001b[0m\u001b[0m\n\u001b[1;32m--> 315\u001b[1;33m             \u001b[0mr\u001b[0m\u001b[1;33m,\u001b[0m \u001b[0mw\u001b[0m\u001b[1;33m,\u001b[0m \u001b[0mx\u001b[0m \u001b[1;33m=\u001b[0m \u001b[0mselect\u001b[0m\u001b[1;33m.\u001b[0m\u001b[0mselect\u001b[0m\u001b[1;33m(\u001b[0m\u001b[0mr\u001b[0m\u001b[1;33m,\u001b[0m \u001b[0mw\u001b[0m\u001b[1;33m,\u001b[0m \u001b[0mw\u001b[0m\u001b[1;33m,\u001b[0m \u001b[0mtimeout\u001b[0m\u001b[1;33m)\u001b[0m\u001b[1;33m\u001b[0m\u001b[1;33m\u001b[0m\u001b[0m\n\u001b[0m\u001b[0;32m    316\u001b[0m             \u001b[1;32mreturn\u001b[0m \u001b[0mr\u001b[0m\u001b[1;33m,\u001b[0m \u001b[0mw\u001b[0m \u001b[1;33m+\u001b[0m \u001b[0mx\u001b[0m\u001b[1;33m,\u001b[0m \u001b[1;33m[\u001b[0m\u001b[1;33m]\u001b[0m\u001b[1;33m\u001b[0m\u001b[1;33m\u001b[0m\u001b[0m\n\u001b[0;32m    317\u001b[0m     \u001b[1;32melse\u001b[0m\u001b[1;33m:\u001b[0m\u001b[1;33m\u001b[0m\u001b[1;33m\u001b[0m\u001b[0m\n",
            "\u001b[1;31mKeyboardInterrupt\u001b[0m: "
          ]
        }
      ],
      "source": [
        "%matplotlib notebook\n",
        "import matplotlib.pyplot as plt\n",
        "temp=[]\n",
        "fig = plt.figure()\n",
        "ax = fig.add_subplot(111)\n",
        "plt.ion()\n",
        "\n",
        "fig.show()\n",
        "fig.canvas.draw()\n",
        "from collections import defaultdict\n",
        "mydict = defaultdict(int)\n",
        "for message in consumer:\n",
        "    if(message.value==\"display\"):\n",
        "        consumer.close()\n",
        "    else:\n",
        "        temp=str(message.value).split(',')\n",
        "        dict1 = {\"Key\": temp[0],\"Value\": temp[1]}\n",
        "        #FBconn2.post(\"/MyTestData\",dict1)\n",
        "        mydict[temp[0]]+=1\n",
        "        for k,l in mydict.items():\n",
        "            ax.bar(k,l)\n",
        "            fig.canvas.draw()\n",
        "\n",
        "\n",
        "        plt.legend()\n",
        "        plt.show()\n",
        "        print(message.value)\n",
        "        \n",
        "        \n",
        "        "
      ]
    },
    {
      "attachments": {},
      "cell_type": "markdown",
      "metadata": {
        "id": "gFrfcAE5qcr7"
      },
      "source": [
        "# Stream Line Plot"
      ]
    },
    {
      "cell_type": "code",
      "execution_count": null,
      "metadata": {
        "id": "7c04P2i6pGSH",
        "outputId": "78b29590-f1c9-4272-a3f7-51ce3c3d9f35"
      },
      "outputs": [
        {
          "data": {
            "application/javascript": "/* Put everything inside the global mpl namespace */\n/* global mpl */\nwindow.mpl = {};\n\nmpl.get_websocket_type = function () {\n    if (typeof WebSocket !== 'undefined') {\n        return WebSocket;\n    } else if (typeof MozWebSocket !== 'undefined') {\n        return MozWebSocket;\n    } else {\n        alert(\n            'Your browser does not have WebSocket support. ' +\n                'Please try Chrome, Safari or Firefox ≥ 6. ' +\n                'Firefox 4 and 5 are also supported but you ' +\n                'have to enable WebSockets in about:config.'\n        );\n    }\n};\n\nmpl.figure = function (figure_id, websocket, ondownload, parent_element) {\n    this.id = figure_id;\n\n    this.ws = websocket;\n\n    this.supports_binary = this.ws.binaryType !== undefined;\n\n    if (!this.supports_binary) {\n        var warnings = document.getElementById('mpl-warnings');\n        if (warnings) {\n            warnings.style.display = 'block';\n            warnings.textContent =\n                'This browser does not support binary websocket messages. ' +\n                'Performance may be slow.';\n        }\n    }\n\n    this.imageObj = new Image();\n\n    this.context = undefined;\n    this.message = undefined;\n    this.canvas = undefined;\n    this.rubberband_canvas = undefined;\n    this.rubberband_context = undefined;\n    this.format_dropdown = undefined;\n\n    this.image_mode = 'full';\n\n    this.root = document.createElement('div');\n    this.root.setAttribute('style', 'display: inline-block');\n    this._root_extra_style(this.root);\n\n    parent_element.appendChild(this.root);\n\n    this._init_header(this);\n    this._init_canvas(this);\n    this._init_toolbar(this);\n\n    var fig = this;\n\n    this.waiting = false;\n\n    this.ws.onopen = function () {\n        fig.send_message('supports_binary', { value: fig.supports_binary });\n        fig.send_message('send_image_mode', {});\n        if (fig.ratio !== 1) {\n            fig.send_message('set_dpi_ratio', { dpi_ratio: fig.ratio });\n        }\n        fig.send_message('refresh', {});\n    };\n\n    this.imageObj.onload = function () {\n        if (fig.image_mode === 'full') {\n            // Full images could contain transparency (where diff images\n            // almost always do), so we need to clear the canvas so that\n            // there is no ghosting.\n            fig.context.clearRect(0, 0, fig.canvas.width, fig.canvas.height);\n        }\n        fig.context.drawImage(fig.imageObj, 0, 0);\n    };\n\n    this.imageObj.onunload = function () {\n        fig.ws.close();\n    };\n\n    this.ws.onmessage = this._make_on_message_function(this);\n\n    this.ondownload = ondownload;\n};\n\nmpl.figure.prototype._init_header = function () {\n    var titlebar = document.createElement('div');\n    titlebar.classList =\n        'ui-dialog-titlebar ui-widget-header ui-corner-all ui-helper-clearfix';\n    var titletext = document.createElement('div');\n    titletext.classList = 'ui-dialog-title';\n    titletext.setAttribute(\n        'style',\n        'width: 100%; text-align: center; padding: 3px;'\n    );\n    titlebar.appendChild(titletext);\n    this.root.appendChild(titlebar);\n    this.header = titletext;\n};\n\nmpl.figure.prototype._canvas_extra_style = function (_canvas_div) {};\n\nmpl.figure.prototype._root_extra_style = function (_canvas_div) {};\n\nmpl.figure.prototype._init_canvas = function () {\n    var fig = this;\n\n    var canvas_div = (this.canvas_div = document.createElement('div'));\n    canvas_div.setAttribute(\n        'style',\n        'border: 1px solid #ddd;' +\n            'box-sizing: content-box;' +\n            'clear: both;' +\n            'min-height: 1px;' +\n            'min-width: 1px;' +\n            'outline: 0;' +\n            'overflow: hidden;' +\n            'position: relative;' +\n            'resize: both;'\n    );\n\n    function on_keyboard_event_closure(name) {\n        return function (event) {\n            return fig.key_event(event, name);\n        };\n    }\n\n    canvas_div.addEventListener(\n        'keydown',\n        on_keyboard_event_closure('key_press')\n    );\n    canvas_div.addEventListener(\n        'keyup',\n        on_keyboard_event_closure('key_release')\n    );\n\n    this._canvas_extra_style(canvas_div);\n    this.root.appendChild(canvas_div);\n\n    var canvas = (this.canvas = document.createElement('canvas'));\n    canvas.classList.add('mpl-canvas');\n    canvas.setAttribute('style', 'box-sizing: content-box;');\n\n    this.context = canvas.getContext('2d');\n\n    var backingStore =\n        this.context.backingStorePixelRatio ||\n        this.context.webkitBackingStorePixelRatio ||\n        this.context.mozBackingStorePixelRatio ||\n        this.context.msBackingStorePixelRatio ||\n        this.context.oBackingStorePixelRatio ||\n        this.context.backingStorePixelRatio ||\n        1;\n\n    this.ratio = (window.devicePixelRatio || 1) / backingStore;\n\n    var rubberband_canvas = (this.rubberband_canvas = document.createElement(\n        'canvas'\n    ));\n    rubberband_canvas.setAttribute(\n        'style',\n        'box-sizing: content-box; position: absolute; left: 0; top: 0; z-index: 1;'\n    );\n\n    // Apply a ponyfill if ResizeObserver is not implemented by browser.\n    if (this.ResizeObserver === undefined) {\n        if (window.ResizeObserver !== undefined) {\n            this.ResizeObserver = window.ResizeObserver;\n        } else {\n            var obs = _JSXTOOLS_RESIZE_OBSERVER({});\n            this.ResizeObserver = obs.ResizeObserver;\n        }\n    }\n\n    this.resizeObserverInstance = new this.ResizeObserver(function (entries) {\n        var nentries = entries.length;\n        for (var i = 0; i < nentries; i++) {\n            var entry = entries[i];\n            var width, height;\n            if (entry.contentBoxSize) {\n                if (entry.contentBoxSize instanceof Array) {\n                    // Chrome 84 implements new version of spec.\n                    width = entry.contentBoxSize[0].inlineSize;\n                    height = entry.contentBoxSize[0].blockSize;\n                } else {\n                    // Firefox implements old version of spec.\n                    width = entry.contentBoxSize.inlineSize;\n                    height = entry.contentBoxSize.blockSize;\n                }\n            } else {\n                // Chrome <84 implements even older version of spec.\n                width = entry.contentRect.width;\n                height = entry.contentRect.height;\n            }\n\n            // Keep the size of the canvas and rubber band canvas in sync with\n            // the canvas container.\n            if (entry.devicePixelContentBoxSize) {\n                // Chrome 84 implements new version of spec.\n                canvas.setAttribute(\n                    'width',\n                    entry.devicePixelContentBoxSize[0].inlineSize\n                );\n                canvas.setAttribute(\n                    'height',\n                    entry.devicePixelContentBoxSize[0].blockSize\n                );\n            } else {\n                canvas.setAttribute('width', width * fig.ratio);\n                canvas.setAttribute('height', height * fig.ratio);\n            }\n            canvas.setAttribute(\n                'style',\n                'width: ' + width + 'px; height: ' + height + 'px;'\n            );\n\n            rubberband_canvas.setAttribute('width', width);\n            rubberband_canvas.setAttribute('height', height);\n\n            // And update the size in Python. We ignore the initial 0/0 size\n            // that occurs as the element is placed into the DOM, which should\n            // otherwise not happen due to the minimum size styling.\n            if (fig.ws.readyState == 1 && width != 0 && height != 0) {\n                fig.request_resize(width, height);\n            }\n        }\n    });\n    this.resizeObserverInstance.observe(canvas_div);\n\n    function on_mouse_event_closure(name) {\n        return function (event) {\n            return fig.mouse_event(event, name);\n        };\n    }\n\n    rubberband_canvas.addEventListener(\n        'mousedown',\n        on_mouse_event_closure('button_press')\n    );\n    rubberband_canvas.addEventListener(\n        'mouseup',\n        on_mouse_event_closure('button_release')\n    );\n    rubberband_canvas.addEventListener(\n        'dblclick',\n        on_mouse_event_closure('dblclick')\n    );\n    // Throttle sequential mouse events to 1 every 20ms.\n    rubberband_canvas.addEventListener(\n        'mousemove',\n        on_mouse_event_closure('motion_notify')\n    );\n\n    rubberband_canvas.addEventListener(\n        'mouseenter',\n        on_mouse_event_closure('figure_enter')\n    );\n    rubberband_canvas.addEventListener(\n        'mouseleave',\n        on_mouse_event_closure('figure_leave')\n    );\n\n    canvas_div.addEventListener('wheel', function (event) {\n        if (event.deltaY < 0) {\n            event.step = 1;\n        } else {\n            event.step = -1;\n        }\n        on_mouse_event_closure('scroll')(event);\n    });\n\n    canvas_div.appendChild(canvas);\n    canvas_div.appendChild(rubberband_canvas);\n\n    this.rubberband_context = rubberband_canvas.getContext('2d');\n    this.rubberband_context.strokeStyle = '#000000';\n\n    this._resize_canvas = function (width, height, forward) {\n        if (forward) {\n            canvas_div.style.width = width + 'px';\n            canvas_div.style.height = height + 'px';\n        }\n    };\n\n    // Disable right mouse context menu.\n    this.rubberband_canvas.addEventListener('contextmenu', function (_e) {\n        event.preventDefault();\n        return false;\n    });\n\n    function set_focus() {\n        canvas.focus();\n        canvas_div.focus();\n    }\n\n    window.setTimeout(set_focus, 100);\n};\n\nmpl.figure.prototype._init_toolbar = function () {\n    var fig = this;\n\n    var toolbar = document.createElement('div');\n    toolbar.classList = 'mpl-toolbar';\n    this.root.appendChild(toolbar);\n\n    function on_click_closure(name) {\n        return function (_event) {\n            return fig.toolbar_button_onclick(name);\n        };\n    }\n\n    function on_mouseover_closure(tooltip) {\n        return function (event) {\n            if (!event.currentTarget.disabled) {\n                return fig.toolbar_button_onmouseover(tooltip);\n            }\n        };\n    }\n\n    fig.buttons = {};\n    var buttonGroup = document.createElement('div');\n    buttonGroup.classList = 'mpl-button-group';\n    for (var toolbar_ind in mpl.toolbar_items) {\n        var name = mpl.toolbar_items[toolbar_ind][0];\n        var tooltip = mpl.toolbar_items[toolbar_ind][1];\n        var image = mpl.toolbar_items[toolbar_ind][2];\n        var method_name = mpl.toolbar_items[toolbar_ind][3];\n\n        if (!name) {\n            /* Instead of a spacer, we start a new button group. */\n            if (buttonGroup.hasChildNodes()) {\n                toolbar.appendChild(buttonGroup);\n            }\n            buttonGroup = document.createElement('div');\n            buttonGroup.classList = 'mpl-button-group';\n            continue;\n        }\n\n        var button = (fig.buttons[name] = document.createElement('button'));\n        button.classList = 'mpl-widget';\n        button.setAttribute('role', 'button');\n        button.setAttribute('aria-disabled', 'false');\n        button.addEventListener('click', on_click_closure(method_name));\n        button.addEventListener('mouseover', on_mouseover_closure(tooltip));\n\n        var icon_img = document.createElement('img');\n        icon_img.src = '_images/' + image + '.png';\n        icon_img.srcset = '_images/' + image + '_large.png 2x';\n        icon_img.alt = tooltip;\n        button.appendChild(icon_img);\n\n        buttonGroup.appendChild(button);\n    }\n\n    if (buttonGroup.hasChildNodes()) {\n        toolbar.appendChild(buttonGroup);\n    }\n\n    var fmt_picker = document.createElement('select');\n    fmt_picker.classList = 'mpl-widget';\n    toolbar.appendChild(fmt_picker);\n    this.format_dropdown = fmt_picker;\n\n    for (var ind in mpl.extensions) {\n        var fmt = mpl.extensions[ind];\n        var option = document.createElement('option');\n        option.selected = fmt === mpl.default_extension;\n        option.innerHTML = fmt;\n        fmt_picker.appendChild(option);\n    }\n\n    var status_bar = document.createElement('span');\n    status_bar.classList = 'mpl-message';\n    toolbar.appendChild(status_bar);\n    this.message = status_bar;\n};\n\nmpl.figure.prototype.request_resize = function (x_pixels, y_pixels) {\n    // Request matplotlib to resize the figure. Matplotlib will then trigger a resize in the client,\n    // which will in turn request a refresh of the image.\n    this.send_message('resize', { width: x_pixels, height: y_pixels });\n};\n\nmpl.figure.prototype.send_message = function (type, properties) {\n    properties['type'] = type;\n    properties['figure_id'] = this.id;\n    this.ws.send(JSON.stringify(properties));\n};\n\nmpl.figure.prototype.send_draw_message = function () {\n    if (!this.waiting) {\n        this.waiting = true;\n        this.ws.send(JSON.stringify({ type: 'draw', figure_id: this.id }));\n    }\n};\n\nmpl.figure.prototype.handle_save = function (fig, _msg) {\n    var format_dropdown = fig.format_dropdown;\n    var format = format_dropdown.options[format_dropdown.selectedIndex].value;\n    fig.ondownload(fig, format);\n};\n\nmpl.figure.prototype.handle_resize = function (fig, msg) {\n    var size = msg['size'];\n    if (size[0] !== fig.canvas.width || size[1] !== fig.canvas.height) {\n        fig._resize_canvas(size[0], size[1], msg['forward']);\n        fig.send_message('refresh', {});\n    }\n};\n\nmpl.figure.prototype.handle_rubberband = function (fig, msg) {\n    var x0 = msg['x0'] / fig.ratio;\n    var y0 = (fig.canvas.height - msg['y0']) / fig.ratio;\n    var x1 = msg['x1'] / fig.ratio;\n    var y1 = (fig.canvas.height - msg['y1']) / fig.ratio;\n    x0 = Math.floor(x0) + 0.5;\n    y0 = Math.floor(y0) + 0.5;\n    x1 = Math.floor(x1) + 0.5;\n    y1 = Math.floor(y1) + 0.5;\n    var min_x = Math.min(x0, x1);\n    var min_y = Math.min(y0, y1);\n    var width = Math.abs(x1 - x0);\n    var height = Math.abs(y1 - y0);\n\n    fig.rubberband_context.clearRect(\n        0,\n        0,\n        fig.canvas.width / fig.ratio,\n        fig.canvas.height / fig.ratio\n    );\n\n    fig.rubberband_context.strokeRect(min_x, min_y, width, height);\n};\n\nmpl.figure.prototype.handle_figure_label = function (fig, msg) {\n    // Updates the figure title.\n    fig.header.textContent = msg['label'];\n};\n\nmpl.figure.prototype.handle_cursor = function (fig, msg) {\n    var cursor = msg['cursor'];\n    switch (cursor) {\n        case 0:\n            cursor = 'pointer';\n            break;\n        case 1:\n            cursor = 'default';\n            break;\n        case 2:\n            cursor = 'crosshair';\n            break;\n        case 3:\n            cursor = 'move';\n            break;\n    }\n    fig.rubberband_canvas.style.cursor = cursor;\n};\n\nmpl.figure.prototype.handle_message = function (fig, msg) {\n    fig.message.textContent = msg['message'];\n};\n\nmpl.figure.prototype.handle_draw = function (fig, _msg) {\n    // Request the server to send over a new figure.\n    fig.send_draw_message();\n};\n\nmpl.figure.prototype.handle_image_mode = function (fig, msg) {\n    fig.image_mode = msg['mode'];\n};\n\nmpl.figure.prototype.handle_history_buttons = function (fig, msg) {\n    for (var key in msg) {\n        if (!(key in fig.buttons)) {\n            continue;\n        }\n        fig.buttons[key].disabled = !msg[key];\n        fig.buttons[key].setAttribute('aria-disabled', !msg[key]);\n    }\n};\n\nmpl.figure.prototype.handle_navigate_mode = function (fig, msg) {\n    if (msg['mode'] === 'PAN') {\n        fig.buttons['Pan'].classList.add('active');\n        fig.buttons['Zoom'].classList.remove('active');\n    } else if (msg['mode'] === 'ZOOM') {\n        fig.buttons['Pan'].classList.remove('active');\n        fig.buttons['Zoom'].classList.add('active');\n    } else {\n        fig.buttons['Pan'].classList.remove('active');\n        fig.buttons['Zoom'].classList.remove('active');\n    }\n};\n\nmpl.figure.prototype.updated_canvas_event = function () {\n    // Called whenever the canvas gets updated.\n    this.send_message('ack', {});\n};\n\n// A function to construct a web socket function for onmessage handling.\n// Called in the figure constructor.\nmpl.figure.prototype._make_on_message_function = function (fig) {\n    return function socket_on_message(evt) {\n        if (evt.data instanceof Blob) {\n            var img = evt.data;\n            if (img.type !== 'image/png') {\n                /* FIXME: We get \"Resource interpreted as Image but\n                 * transferred with MIME type text/plain:\" errors on\n                 * Chrome.  But how to set the MIME type?  It doesn't seem\n                 * to be part of the websocket stream */\n                img.type = 'image/png';\n            }\n\n            /* Free the memory for the previous frames */\n            if (fig.imageObj.src) {\n                (window.URL || window.webkitURL).revokeObjectURL(\n                    fig.imageObj.src\n                );\n            }\n\n            fig.imageObj.src = (window.URL || window.webkitURL).createObjectURL(\n                img\n            );\n            fig.updated_canvas_event();\n            fig.waiting = false;\n            return;\n        } else if (\n            typeof evt.data === 'string' &&\n            evt.data.slice(0, 21) === 'data:image/png;base64'\n        ) {\n            fig.imageObj.src = evt.data;\n            fig.updated_canvas_event();\n            fig.waiting = false;\n            return;\n        }\n\n        var msg = JSON.parse(evt.data);\n        var msg_type = msg['type'];\n\n        // Call the  \"handle_{type}\" callback, which takes\n        // the figure and JSON message as its only arguments.\n        try {\n            var callback = fig['handle_' + msg_type];\n        } catch (e) {\n            console.log(\n                \"No handler for the '\" + msg_type + \"' message type: \",\n                msg\n            );\n            return;\n        }\n\n        if (callback) {\n            try {\n                // console.log(\"Handling '\" + msg_type + \"' message: \", msg);\n                callback(fig, msg);\n            } catch (e) {\n                console.log(\n                    \"Exception inside the 'handler_\" + msg_type + \"' callback:\",\n                    e,\n                    e.stack,\n                    msg\n                );\n            }\n        }\n    };\n};\n\n// from http://stackoverflow.com/questions/1114465/getting-mouse-location-in-canvas\nmpl.findpos = function (e) {\n    //this section is from http://www.quirksmode.org/js/events_properties.html\n    var targ;\n    if (!e) {\n        e = window.event;\n    }\n    if (e.target) {\n        targ = e.target;\n    } else if (e.srcElement) {\n        targ = e.srcElement;\n    }\n    if (targ.nodeType === 3) {\n        // defeat Safari bug\n        targ = targ.parentNode;\n    }\n\n    // pageX,Y are the mouse positions relative to the document\n    var boundingRect = targ.getBoundingClientRect();\n    var x = e.pageX - (boundingRect.left + document.body.scrollLeft);\n    var y = e.pageY - (boundingRect.top + document.body.scrollTop);\n\n    return { x: x, y: y };\n};\n\n/*\n * return a copy of an object with only non-object keys\n * we need this to avoid circular references\n * http://stackoverflow.com/a/24161582/3208463\n */\nfunction simpleKeys(original) {\n    return Object.keys(original).reduce(function (obj, key) {\n        if (typeof original[key] !== 'object') {\n            obj[key] = original[key];\n        }\n        return obj;\n    }, {});\n}\n\nmpl.figure.prototype.mouse_event = function (event, name) {\n    var canvas_pos = mpl.findpos(event);\n\n    if (name === 'button_press') {\n        this.canvas.focus();\n        this.canvas_div.focus();\n    }\n\n    var x = canvas_pos.x * this.ratio;\n    var y = canvas_pos.y * this.ratio;\n\n    this.send_message(name, {\n        x: x,\n        y: y,\n        button: event.button,\n        step: event.step,\n        guiEvent: simpleKeys(event),\n    });\n\n    /* This prevents the web browser from automatically changing to\n     * the text insertion cursor when the button is pressed.  We want\n     * to control all of the cursor setting manually through the\n     * 'cursor' event from matplotlib */\n    event.preventDefault();\n    return false;\n};\n\nmpl.figure.prototype._key_event_extra = function (_event, _name) {\n    // Handle any extra behaviour associated with a key event\n};\n\nmpl.figure.prototype.key_event = function (event, name) {\n    // Prevent repeat events\n    if (name === 'key_press') {\n        if (event.key === this._key) {\n            return;\n        } else {\n            this._key = event.key;\n        }\n    }\n    if (name === 'key_release') {\n        this._key = null;\n    }\n\n    var value = '';\n    if (event.ctrlKey && event.key !== 'Control') {\n        value += 'ctrl+';\n    }\n    else if (event.altKey && event.key !== 'Alt') {\n        value += 'alt+';\n    }\n    else if (event.shiftKey && event.key !== 'Shift') {\n        value += 'shift+';\n    }\n\n    value += 'k' + event.key;\n\n    this._key_event_extra(event, name);\n\n    this.send_message(name, { key: value, guiEvent: simpleKeys(event) });\n    return false;\n};\n\nmpl.figure.prototype.toolbar_button_onclick = function (name) {\n    if (name === 'download') {\n        this.handle_save(this, null);\n    } else {\n        this.send_message('toolbar_button', { name: name });\n    }\n};\n\nmpl.figure.prototype.toolbar_button_onmouseover = function (tooltip) {\n    this.message.textContent = tooltip;\n};\n\n///////////////// REMAINING CONTENT GENERATED BY embed_js.py /////////////////\n// prettier-ignore\nvar _JSXTOOLS_RESIZE_OBSERVER=function(A){var t,i=new WeakMap,n=new WeakMap,a=new WeakMap,r=new WeakMap,o=new Set;function s(e){if(!(this instanceof s))throw new TypeError(\"Constructor requires 'new' operator\");i.set(this,e)}function h(){throw new TypeError(\"Function is not a constructor\")}function c(e,t,i,n){e=0 in arguments?Number(arguments[0]):0,t=1 in arguments?Number(arguments[1]):0,i=2 in arguments?Number(arguments[2]):0,n=3 in arguments?Number(arguments[3]):0,this.right=(this.x=this.left=e)+(this.width=i),this.bottom=(this.y=this.top=t)+(this.height=n),Object.freeze(this)}function d(){t=requestAnimationFrame(d);var s=new WeakMap,p=new Set;o.forEach((function(t){r.get(t).forEach((function(i){var r=t instanceof window.SVGElement,o=a.get(t),d=r?0:parseFloat(o.paddingTop),f=r?0:parseFloat(o.paddingRight),l=r?0:parseFloat(o.paddingBottom),u=r?0:parseFloat(o.paddingLeft),g=r?0:parseFloat(o.borderTopWidth),m=r?0:parseFloat(o.borderRightWidth),w=r?0:parseFloat(o.borderBottomWidth),b=u+f,F=d+l,v=(r?0:parseFloat(o.borderLeftWidth))+m,W=g+w,y=r?0:t.offsetHeight-W-t.clientHeight,E=r?0:t.offsetWidth-v-t.clientWidth,R=b+v,z=F+W,M=r?t.width:parseFloat(o.width)-R-E,O=r?t.height:parseFloat(o.height)-z-y;if(n.has(t)){var k=n.get(t);if(k[0]===M&&k[1]===O)return}n.set(t,[M,O]);var S=Object.create(h.prototype);S.target=t,S.contentRect=new c(u,d,M,O),s.has(i)||(s.set(i,[]),p.add(i)),s.get(i).push(S)}))})),p.forEach((function(e){i.get(e).call(e,s.get(e),e)}))}return s.prototype.observe=function(i){if(i instanceof window.Element){r.has(i)||(r.set(i,new Set),o.add(i),a.set(i,window.getComputedStyle(i)));var n=r.get(i);n.has(this)||n.add(this),cancelAnimationFrame(t),t=requestAnimationFrame(d)}},s.prototype.unobserve=function(i){if(i instanceof window.Element&&r.has(i)){var n=r.get(i);n.has(this)&&(n.delete(this),n.size||(r.delete(i),o.delete(i))),n.size||r.delete(i),o.size||cancelAnimationFrame(t)}},A.DOMRectReadOnly=c,A.ResizeObserver=s,A.ResizeObserverEntry=h,A}; // eslint-disable-line\nmpl.toolbar_items = [[\"Home\", \"Reset original view\", \"fa fa-home icon-home\", \"home\"], [\"Back\", \"Back to previous view\", \"fa fa-arrow-left icon-arrow-left\", \"back\"], [\"Forward\", \"Forward to next view\", \"fa fa-arrow-right icon-arrow-right\", \"forward\"], [\"\", \"\", \"\", \"\"], [\"Pan\", \"Left button pans, Right button zooms\\nx/y fixes axis, CTRL fixes aspect\", \"fa fa-arrows icon-move\", \"pan\"], [\"Zoom\", \"Zoom to rectangle\\nx/y fixes axis, CTRL fixes aspect\", \"fa fa-square-o icon-check-empty\", \"zoom\"], [\"\", \"\", \"\", \"\"], [\"Download\", \"Download plot\", \"fa fa-floppy-o icon-save\", \"download\"]];\n\nmpl.extensions = [\"eps\", \"jpeg\", \"pgf\", \"pdf\", \"png\", \"ps\", \"raw\", \"svg\", \"tif\"];\n\nmpl.default_extension = \"png\";/* global mpl */\n\nvar comm_websocket_adapter = function (comm) {\n    // Create a \"websocket\"-like object which calls the given IPython comm\n    // object with the appropriate methods. Currently this is a non binary\n    // socket, so there is still some room for performance tuning.\n    var ws = {};\n\n    ws.binaryType = comm.kernel.ws.binaryType;\n    ws.readyState = comm.kernel.ws.readyState;\n    function updateReadyState(_event) {\n        if (comm.kernel.ws) {\n            ws.readyState = comm.kernel.ws.readyState;\n        } else {\n            ws.readyState = 3; // Closed state.\n        }\n    }\n    comm.kernel.ws.addEventListener('open', updateReadyState);\n    comm.kernel.ws.addEventListener('close', updateReadyState);\n    comm.kernel.ws.addEventListener('error', updateReadyState);\n\n    ws.close = function () {\n        comm.close();\n    };\n    ws.send = function (m) {\n        //console.log('sending', m);\n        comm.send(m);\n    };\n    // Register the callback with on_msg.\n    comm.on_msg(function (msg) {\n        //console.log('receiving', msg['content']['data'], msg);\n        var data = msg['content']['data'];\n        if (data['blob'] !== undefined) {\n            data = {\n                data: new Blob(msg['buffers'], { type: data['blob'] }),\n            };\n        }\n        // Pass the mpl event to the overridden (by mpl) onmessage function.\n        ws.onmessage(data);\n    });\n    return ws;\n};\n\nmpl.mpl_figure_comm = function (comm, msg) {\n    // This is the function which gets called when the mpl process\n    // starts-up an IPython Comm through the \"matplotlib\" channel.\n\n    var id = msg.content.data.id;\n    // Get hold of the div created by the display call when the Comm\n    // socket was opened in Python.\n    var element = document.getElementById(id);\n    var ws_proxy = comm_websocket_adapter(comm);\n\n    function ondownload(figure, _format) {\n        window.open(figure.canvas.toDataURL());\n    }\n\n    var fig = new mpl.figure(id, ws_proxy, ondownload, element);\n\n    // Call onopen now - mpl needs it, as it is assuming we've passed it a real\n    // web socket which is closed, not our websocket->open comm proxy.\n    ws_proxy.onopen();\n\n    fig.parent_element = element;\n    fig.cell_info = mpl.find_output_cell(\"<div id='\" + id + \"'></div>\");\n    if (!fig.cell_info) {\n        console.error('Failed to find cell for figure', id, fig);\n        return;\n    }\n    fig.cell_info[0].output_area.element.on(\n        'cleared',\n        { fig: fig },\n        fig._remove_fig_handler\n    );\n};\n\nmpl.figure.prototype.handle_close = function (fig, msg) {\n    var width = fig.canvas.width / fig.ratio;\n    fig.cell_info[0].output_area.element.off(\n        'cleared',\n        fig._remove_fig_handler\n    );\n    fig.resizeObserverInstance.unobserve(fig.canvas_div);\n\n    // Update the output cell to use the data from the current canvas.\n    fig.push_to_output();\n    var dataURL = fig.canvas.toDataURL();\n    // Re-enable the keyboard manager in IPython - without this line, in FF,\n    // the notebook keyboard shortcuts fail.\n    IPython.keyboard_manager.enable();\n    fig.parent_element.innerHTML =\n        '<img src=\"' + dataURL + '\" width=\"' + width + '\">';\n    fig.close_ws(fig, msg);\n};\n\nmpl.figure.prototype.close_ws = function (fig, msg) {\n    fig.send_message('closing', msg);\n    // fig.ws.close()\n};\n\nmpl.figure.prototype.push_to_output = function (_remove_interactive) {\n    // Turn the data on the canvas into data in the output cell.\n    var width = this.canvas.width / this.ratio;\n    var dataURL = this.canvas.toDataURL();\n    this.cell_info[1]['text/html'] =\n        '<img src=\"' + dataURL + '\" width=\"' + width + '\">';\n};\n\nmpl.figure.prototype.updated_canvas_event = function () {\n    // Tell IPython that the notebook contents must change.\n    IPython.notebook.set_dirty(true);\n    this.send_message('ack', {});\n    var fig = this;\n    // Wait a second, then push the new image to the DOM so\n    // that it is saved nicely (might be nice to debounce this).\n    setTimeout(function () {\n        fig.push_to_output();\n    }, 1000);\n};\n\nmpl.figure.prototype._init_toolbar = function () {\n    var fig = this;\n\n    var toolbar = document.createElement('div');\n    toolbar.classList = 'btn-toolbar';\n    this.root.appendChild(toolbar);\n\n    function on_click_closure(name) {\n        return function (_event) {\n            return fig.toolbar_button_onclick(name);\n        };\n    }\n\n    function on_mouseover_closure(tooltip) {\n        return function (event) {\n            if (!event.currentTarget.disabled) {\n                return fig.toolbar_button_onmouseover(tooltip);\n            }\n        };\n    }\n\n    fig.buttons = {};\n    var buttonGroup = document.createElement('div');\n    buttonGroup.classList = 'btn-group';\n    var button;\n    for (var toolbar_ind in mpl.toolbar_items) {\n        var name = mpl.toolbar_items[toolbar_ind][0];\n        var tooltip = mpl.toolbar_items[toolbar_ind][1];\n        var image = mpl.toolbar_items[toolbar_ind][2];\n        var method_name = mpl.toolbar_items[toolbar_ind][3];\n\n        if (!name) {\n            /* Instead of a spacer, we start a new button group. */\n            if (buttonGroup.hasChildNodes()) {\n                toolbar.appendChild(buttonGroup);\n            }\n            buttonGroup = document.createElement('div');\n            buttonGroup.classList = 'btn-group';\n            continue;\n        }\n\n        button = fig.buttons[name] = document.createElement('button');\n        button.classList = 'btn btn-default';\n        button.href = '#';\n        button.title = name;\n        button.innerHTML = '<i class=\"fa ' + image + ' fa-lg\"></i>';\n        button.addEventListener('click', on_click_closure(method_name));\n        button.addEventListener('mouseover', on_mouseover_closure(tooltip));\n        buttonGroup.appendChild(button);\n    }\n\n    if (buttonGroup.hasChildNodes()) {\n        toolbar.appendChild(buttonGroup);\n    }\n\n    // Add the status bar.\n    var status_bar = document.createElement('span');\n    status_bar.classList = 'mpl-message pull-right';\n    toolbar.appendChild(status_bar);\n    this.message = status_bar;\n\n    // Add the close button to the window.\n    var buttongrp = document.createElement('div');\n    buttongrp.classList = 'btn-group inline pull-right';\n    button = document.createElement('button');\n    button.classList = 'btn btn-mini btn-primary';\n    button.href = '#';\n    button.title = 'Stop Interaction';\n    button.innerHTML = '<i class=\"fa fa-power-off icon-remove icon-large\"></i>';\n    button.addEventListener('click', function (_evt) {\n        fig.handle_close(fig, {});\n    });\n    button.addEventListener(\n        'mouseover',\n        on_mouseover_closure('Stop Interaction')\n    );\n    buttongrp.appendChild(button);\n    var titlebar = this.root.querySelector('.ui-dialog-titlebar');\n    titlebar.insertBefore(buttongrp, titlebar.firstChild);\n};\n\nmpl.figure.prototype._remove_fig_handler = function (event) {\n    var fig = event.data.fig;\n    if (event.target !== this) {\n        // Ignore bubbled events from children.\n        return;\n    }\n    fig.close_ws(fig, {});\n};\n\nmpl.figure.prototype._root_extra_style = function (el) {\n    el.style.boxSizing = 'content-box'; // override notebook setting of border-box.\n};\n\nmpl.figure.prototype._canvas_extra_style = function (el) {\n    // this is important to make the div 'focusable\n    el.setAttribute('tabindex', 0);\n    // reach out to IPython and tell the keyboard manager to turn it's self\n    // off when our div gets focus\n\n    // location in version 3\n    if (IPython.notebook.keyboard_manager) {\n        IPython.notebook.keyboard_manager.register_events(el);\n    } else {\n        // location in version 2\n        IPython.keyboard_manager.register_events(el);\n    }\n};\n\nmpl.figure.prototype._key_event_extra = function (event, _name) {\n    var manager = IPython.notebook.keyboard_manager;\n    if (!manager) {\n        manager = IPython.keyboard_manager;\n    }\n\n    // Check for shift+enter\n    if (event.shiftKey && event.which === 13) {\n        this.canvas_div.blur();\n        // select the cell after this one\n        var index = IPython.notebook.find_cell_index(this.cell_info[0]);\n        IPython.notebook.select(index + 1);\n    }\n};\n\nmpl.figure.prototype.handle_save = function (fig, _msg) {\n    fig.ondownload(fig, null);\n};\n\nmpl.find_output_cell = function (html_output) {\n    // Return the cell and output element which can be found *uniquely* in the notebook.\n    // Note - this is a bit hacky, but it is done because the \"notebook_saving.Notebook\"\n    // IPython event is triggered only after the cells have been serialised, which for\n    // our purposes (turning an active figure into a static one), is too late.\n    var cells = IPython.notebook.get_cells();\n    var ncells = cells.length;\n    for (var i = 0; i < ncells; i++) {\n        var cell = cells[i];\n        if (cell.cell_type === 'code') {\n            for (var j = 0; j < cell.output_area.outputs.length; j++) {\n                var data = cell.output_area.outputs[j];\n                if (data.data) {\n                    // IPython >= 3 moved mimebundle to data attribute of output\n                    data = data.data;\n                }\n                if (data['text/html'] === html_output) {\n                    return [cell, data, j];\n                }\n            }\n        }\n    }\n};\n\n// Register the function which deals with the matplotlib target/channel.\n// The kernel may be null if the page has been refreshed.\nif (IPython.notebook.kernel !== null) {\n    IPython.notebook.kernel.comm_manager.register_target(\n        'matplotlib',\n        mpl.mpl_figure_comm\n    );\n}\n",
            "text/plain": [
              "<IPython.core.display.Javascript object>"
            ]
          },
          "metadata": {},
          "output_type": "display_data"
        },
        {
          "data": {
            "text/html": [
              "<img src=\"data:image/png;base64,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\" width=\"640\">"
            ],
            "text/plain": [
              "<IPython.core.display.HTML object>"
            ]
          },
          "metadata": {},
          "output_type": "display_data"
        },
        {
          "name": "stderr",
          "output_type": "stream",
          "text": [
            "No handles with labels found to put in legend.\n"
          ]
        },
        {
          "name": "stdout",
          "output_type": "stream",
          "text": [
            "12,377\n"
          ]
        },
        {
          "name": "stderr",
          "output_type": "stream",
          "text": [
            "No handles with labels found to put in legend.\n"
          ]
        },
        {
          "name": "stdout",
          "output_type": "stream",
          "text": [
            "12,378\n"
          ]
        },
        {
          "name": "stderr",
          "output_type": "stream",
          "text": [
            "No handles with labels found to put in legend.\n"
          ]
        },
        {
          "name": "stdout",
          "output_type": "stream",
          "text": [
            "12,379\n"
          ]
        },
        {
          "name": "stderr",
          "output_type": "stream",
          "text": [
            "No handles with labels found to put in legend.\n"
          ]
        },
        {
          "name": "stdout",
          "output_type": "stream",
          "text": [
            "12,380\n"
          ]
        },
        {
          "name": "stderr",
          "output_type": "stream",
          "text": [
            "No handles with labels found to put in legend.\n"
          ]
        },
        {
          "name": "stdout",
          "output_type": "stream",
          "text": [
            "12,381\n"
          ]
        },
        {
          "name": "stderr",
          "output_type": "stream",
          "text": [
            "No handles with labels found to put in legend.\n"
          ]
        },
        {
          "name": "stdout",
          "output_type": "stream",
          "text": [
            "12,382\n"
          ]
        },
        {
          "name": "stderr",
          "output_type": "stream",
          "text": [
            "No handles with labels found to put in legend.\n"
          ]
        },
        {
          "name": "stdout",
          "output_type": "stream",
          "text": [
            "12,383\n"
          ]
        },
        {
          "name": "stderr",
          "output_type": "stream",
          "text": [
            "No handles with labels found to put in legend.\n"
          ]
        },
        {
          "name": "stdout",
          "output_type": "stream",
          "text": [
            "12,384\n"
          ]
        },
        {
          "name": "stderr",
          "output_type": "stream",
          "text": [
            "No handles with labels found to put in legend.\n"
          ]
        },
        {
          "name": "stdout",
          "output_type": "stream",
          "text": [
            "12,385\n"
          ]
        },
        {
          "name": "stderr",
          "output_type": "stream",
          "text": [
            "No handles with labels found to put in legend.\n"
          ]
        },
        {
          "name": "stdout",
          "output_type": "stream",
          "text": [
            "12,386\n"
          ]
        },
        {
          "name": "stderr",
          "output_type": "stream",
          "text": [
            "No handles with labels found to put in legend.\n"
          ]
        },
        {
          "name": "stdout",
          "output_type": "stream",
          "text": [
            "12,387\n"
          ]
        },
        {
          "name": "stderr",
          "output_type": "stream",
          "text": [
            "No handles with labels found to put in legend.\n"
          ]
        },
        {
          "name": "stdout",
          "output_type": "stream",
          "text": [
            "12,388\n"
          ]
        },
        {
          "name": "stderr",
          "output_type": "stream",
          "text": [
            "No handles with labels found to put in legend.\n"
          ]
        },
        {
          "name": "stdout",
          "output_type": "stream",
          "text": [
            "12,389\n"
          ]
        },
        {
          "name": "stderr",
          "output_type": "stream",
          "text": [
            "No handles with labels found to put in legend.\n"
          ]
        },
        {
          "name": "stdout",
          "output_type": "stream",
          "text": [
            "13,1\n"
          ]
        },
        {
          "name": "stderr",
          "output_type": "stream",
          "text": [
            "No handles with labels found to put in legend.\n"
          ]
        },
        {
          "name": "stdout",
          "output_type": "stream",
          "text": [
            "13,7\n"
          ]
        },
        {
          "name": "stderr",
          "output_type": "stream",
          "text": [
            "No handles with labels found to put in legend.\n"
          ]
        },
        {
          "name": "stdout",
          "output_type": "stream",
          "text": [
            "13,392\n"
          ]
        },
        {
          "name": "stderr",
          "output_type": "stream",
          "text": [
            "No handles with labels found to put in legend.\n"
          ]
        },
        {
          "name": "stdout",
          "output_type": "stream",
          "text": [
            "13,407\n"
          ]
        },
        {
          "name": "stderr",
          "output_type": "stream",
          "text": [
            "No handles with labels found to put in legend.\n"
          ]
        },
        {
          "name": "stdout",
          "output_type": "stream",
          "text": [
            "13,408\n"
          ]
        },
        {
          "name": "stderr",
          "output_type": "stream",
          "text": [
            "No handles with labels found to put in legend.\n"
          ]
        },
        {
          "name": "stdout",
          "output_type": "stream",
          "text": [
            "13,396\n"
          ]
        },
        {
          "name": "stderr",
          "output_type": "stream",
          "text": [
            "No handles with labels found to put in legend.\n"
          ]
        },
        {
          "name": "stdout",
          "output_type": "stream",
          "text": [
            "13,397\n"
          ]
        },
        {
          "name": "stderr",
          "output_type": "stream",
          "text": [
            "No handles with labels found to put in legend.\n"
          ]
        },
        {
          "name": "stdout",
          "output_type": "stream",
          "text": [
            "13,398\n"
          ]
        },
        {
          "name": "stderr",
          "output_type": "stream",
          "text": [
            "No handles with labels found to put in legend.\n"
          ]
        },
        {
          "name": "stdout",
          "output_type": "stream",
          "text": [
            "13,411\n"
          ]
        },
        {
          "name": "stderr",
          "output_type": "stream",
          "text": [
            "No handles with labels found to put in legend.\n"
          ]
        },
        {
          "name": "stdout",
          "output_type": "stream",
          "text": [
            "13,399\n"
          ]
        },
        {
          "name": "stderr",
          "output_type": "stream",
          "text": [
            "No handles with labels found to put in legend.\n"
          ]
        },
        {
          "name": "stdout",
          "output_type": "stream",
          "text": [
            "13,412\n"
          ]
        },
        {
          "name": "stderr",
          "output_type": "stream",
          "text": [
            "No handles with labels found to put in legend.\n"
          ]
        },
        {
          "name": "stdout",
          "output_type": "stream",
          "text": [
            "13,402\n"
          ]
        },
        {
          "name": "stderr",
          "output_type": "stream",
          "text": [
            "No handles with labels found to put in legend.\n"
          ]
        },
        {
          "name": "stdout",
          "output_type": "stream",
          "text": [
            "13,403\n"
          ]
        },
        {
          "name": "stderr",
          "output_type": "stream",
          "text": [
            "No handles with labels found to put in legend.\n"
          ]
        },
        {
          "name": "stdout",
          "output_type": "stream",
          "text": [
            "13,404\n"
          ]
        },
        {
          "name": "stderr",
          "output_type": "stream",
          "text": [
            "No handles with labels found to put in legend.\n"
          ]
        },
        {
          "name": "stdout",
          "output_type": "stream",
          "text": [
            "13,413\n"
          ]
        },
        {
          "name": "stderr",
          "output_type": "stream",
          "text": [
            "No handles with labels found to put in legend.\n"
          ]
        },
        {
          "name": "stdout",
          "output_type": "stream",
          "text": [
            "13,405\n"
          ]
        },
        {
          "name": "stderr",
          "output_type": "stream",
          "text": [
            "No handles with labels found to put in legend.\n"
          ]
        },
        {
          "name": "stdout",
          "output_type": "stream",
          "text": [
            "13,9090\n"
          ]
        },
        {
          "name": "stderr",
          "output_type": "stream",
          "text": [
            "No handles with labels found to put in legend.\n"
          ]
        },
        {
          "name": "stdout",
          "output_type": "stream",
          "text": [
            "13,10150\n"
          ]
        },
        {
          "name": "stderr",
          "output_type": "stream",
          "text": [
            "No handles with labels found to put in legend.\n"
          ]
        },
        {
          "name": "stdout",
          "output_type": "stream",
          "text": [
            "13,159316\n"
          ]
        },
        {
          "name": "stderr",
          "output_type": "stream",
          "text": [
            "No handles with labels found to put in legend.\n"
          ]
        },
        {
          "name": "stdout",
          "output_type": "stream",
          "text": [
            "14,1\n"
          ]
        },
        {
          "name": "stderr",
          "output_type": "stream",
          "text": [
            "No handles with labels found to put in legend.\n"
          ]
        },
        {
          "name": "stdout",
          "output_type": "stream",
          "text": [
            "14,350\n"
          ]
        },
        {
          "name": "stderr",
          "output_type": "stream",
          "text": [
            "No handles with labels found to put in legend.\n"
          ]
        },
        {
          "name": "stdout",
          "output_type": "stream",
          "text": [
            "14,371\n"
          ]
        },
        {
          "name": "stderr",
          "output_type": "stream",
          "text": [
            "No handles with labels found to put in legend.\n"
          ]
        },
        {
          "name": "stdout",
          "output_type": "stream",
          "text": [
            "14,373\n"
          ]
        },
        {
          "name": "stderr",
          "output_type": "stream",
          "text": [
            "No handles with labels found to put in legend.\n"
          ]
        },
        {
          "name": "stdout",
          "output_type": "stream",
          "text": [
            "14,5056\n"
          ]
        },
        {
          "name": "stderr",
          "output_type": "stream",
          "text": [
            "No handles with labels found to put in legend.\n"
          ]
        },
        {
          "name": "stdout",
          "output_type": "stream",
          "text": [
            "14,7714\n"
          ]
        },
        {
          "name": "stderr",
          "output_type": "stream",
          "text": [
            "No handles with labels found to put in legend.\n"
          ]
        },
        {
          "name": "stdout",
          "output_type": "stream",
          "text": [
            "14,9814\n"
          ]
        },
        {
          "name": "stderr",
          "output_type": "stream",
          "text": [
            "No handles with labels found to put in legend.\n"
          ]
        },
        {
          "name": "stdout",
          "output_type": "stream",
          "text": [
            "14,18125\n"
          ]
        },
        {
          "name": "stderr",
          "output_type": "stream",
          "text": [
            "No handles with labels found to put in legend.\n"
          ]
        },
        {
          "name": "stdout",
          "output_type": "stream",
          "text": [
            "14,18132\n"
          ]
        },
        {
          "name": "stderr",
          "output_type": "stream",
          "text": [
            "No handles with labels found to put in legend.\n"
          ]
        },
        {
          "name": "stdout",
          "output_type": "stream",
          "text": [
            "14,99843\n"
          ]
        },
        {
          "name": "stderr",
          "output_type": "stream",
          "text": [
            "No handles with labels found to put in legend.\n"
          ]
        },
        {
          "name": "stdout",
          "output_type": "stream",
          "text": [
            "14,122795\n"
          ]
        },
        {
          "name": "stderr",
          "output_type": "stream",
          "text": [
            "No handles with labels found to put in legend.\n"
          ]
        },
        {
          "name": "stdout",
          "output_type": "stream",
          "text": [
            "14,138783\n"
          ]
        },
        {
          "name": "stderr",
          "output_type": "stream",
          "text": [
            "No handles with labels found to put in legend.\n"
          ]
        },
        {
          "name": "stdout",
          "output_type": "stream",
          "text": [
            "14,184377\n"
          ]
        },
        {
          "name": "stderr",
          "output_type": "stream",
          "text": [
            "No handles with labels found to put in legend.\n"
          ]
        },
        {
          "name": "stdout",
          "output_type": "stream",
          "text": [
            "14,219725\n"
          ]
        },
        {
          "name": "stderr",
          "output_type": "stream",
          "text": [
            "No handles with labels found to put in legend.\n"
          ]
        },
        {
          "name": "stdout",
          "output_type": "stream",
          "text": [
            "14,237918\n"
          ]
        },
        {
          "name": "stderr",
          "output_type": "stream",
          "text": [
            "No handles with labels found to put in legend.\n"
          ]
        },
        {
          "name": "stdout",
          "output_type": "stream",
          "text": [
            "14,516321\n"
          ]
        },
        {
          "name": "stderr",
          "output_type": "stream",
          "text": [
            "No handles with labels found to put in legend.\n"
          ]
        },
        {
          "name": "stdout",
          "output_type": "stream",
          "text": [
            "14,646203\n"
          ]
        },
        {
          "name": "stderr",
          "output_type": "stream",
          "text": [
            "No handles with labels found to put in legend.\n"
          ]
        },
        {
          "name": "stdout",
          "output_type": "stream",
          "text": [
            "14,1482970\n"
          ]
        },
        {
          "name": "stderr",
          "output_type": "stream",
          "text": [
            "No handles with labels found to put in legend.\n"
          ]
        },
        {
          "name": "stdout",
          "output_type": "stream",
          "text": [
            "15,1\n"
          ]
        },
        {
          "name": "stderr",
          "output_type": "stream",
          "text": [
            "No handles with labels found to put in legend.\n"
          ]
        },
        {
          "name": "stdout",
          "output_type": "stream",
          "text": [
            "15,11148\n"
          ]
        },
        {
          "name": "stderr",
          "output_type": "stream",
          "text": [
            "No handles with labels found to put in legend.\n"
          ]
        },
        {
          "name": "stdout",
          "output_type": "stream",
          "text": [
            "15,223368\n"
          ]
        },
        {
          "name": "stderr",
          "output_type": "stream",
          "text": [
            "No handles with labels found to put in legend.\n"
          ]
        },
        {
          "name": "stdout",
          "output_type": "stream",
          "text": [
            "15,260178\n"
          ]
        },
        {
          "name": "stderr",
          "output_type": "stream",
          "text": [
            "No handles with labels found to put in legend.\n"
          ]
        },
        {
          "name": "stdout",
          "output_type": "stream",
          "text": [
            "16,2\n"
          ]
        },
        {
          "name": "stderr",
          "output_type": "stream",
          "text": [
            "No handles with labels found to put in legend.\n"
          ]
        },
        {
          "name": "stdout",
          "output_type": "stream",
          "text": [
            "16,423\n"
          ]
        },
        {
          "name": "stderr",
          "output_type": "stream",
          "text": [
            "No handles with labels found to put in legend.\n"
          ]
        },
        {
          "name": "stdout",
          "output_type": "stream",
          "text": [
            "16,424\n"
          ]
        },
        {
          "name": "stderr",
          "output_type": "stream",
          "text": [
            "No handles with labels found to put in legend.\n"
          ]
        },
        {
          "name": "stdout",
          "output_type": "stream",
          "text": [
            "16,425\n"
          ]
        },
        {
          "name": "stderr",
          "output_type": "stream",
          "text": [
            "No handles with labels found to put in legend.\n"
          ]
        },
        {
          "name": "stdout",
          "output_type": "stream",
          "text": [
            "16,426\n"
          ]
        },
        {
          "name": "stderr",
          "output_type": "stream",
          "text": [
            "No handles with labels found to put in legend.\n"
          ]
        },
        {
          "name": "stdout",
          "output_type": "stream",
          "text": [
            "16,427\n"
          ]
        }
      ],
      "source": [
        "%matplotlib notebook\n",
        "import matplotlib.pyplot as plt\n",
        "temp=[]\n",
        "fig = plt.figure()\n",
        "ax = fig.add_subplot(111)\n",
        "plt.ion()\n",
        "\n",
        "fig.show()\n",
        "fig.canvas.draw()\n",
        "from collections import defaultdict\n",
        "mydict = defaultdict(int)\n",
        "lst=[]\n",
        "lst2=[]\n",
        "for message in consumer:\n",
        "    if(message.value==\"display\"):\n",
        "        consumer.close()\n",
        "    else:\n",
        "        temp=str(message.value).split(',')\n",
        "        dict1 = {\"Key\": temp[0],\"Value\": temp[1]}\n",
        "        lst.append(temp[1])\n",
        "        lst2.append(temp[0])\n",
        "        ax.clear()\n",
        "        ax.plot(lst,lst2)\n",
        "        fig.canvas.draw()\n",
        "\n",
        "\n",
        "        plt.legend()\n",
        "        plt.show()\n",
        "        print(message.value)\n",
        "        \n",
        "        \n",
        "        "
      ]
    },
    {
      "attachments": {},
      "cell_type": "markdown",
      "metadata": {
        "id": "9Ac9kWUZqhJr"
      },
      "source": [
        "#Stram Scatter Plot"
      ]
    },
    {
      "cell_type": "code",
      "execution_count": null,
      "metadata": {
        "id": "BKC_ksdkpGSJ",
        "outputId": "01204a92-ea48-43cc-99ae-979c4343d2fa"
      },
      "outputs": [
        {
          "data": {
            "application/javascript": "/* Put everything inside the global mpl namespace */\n/* global mpl */\nwindow.mpl = {};\n\nmpl.get_websocket_type = function () {\n    if (typeof WebSocket !== 'undefined') {\n        return WebSocket;\n    } else if (typeof MozWebSocket !== 'undefined') {\n        return MozWebSocket;\n    } else {\n        alert(\n            'Your browser does not have WebSocket support. ' +\n                'Please try Chrome, Safari or Firefox ≥ 6. ' +\n                'Firefox 4 and 5 are also supported but you ' +\n                'have to enable WebSockets in about:config.'\n        );\n    }\n};\n\nmpl.figure = function (figure_id, websocket, ondownload, parent_element) {\n    this.id = figure_id;\n\n    this.ws = websocket;\n\n    this.supports_binary = this.ws.binaryType !== undefined;\n\n    if (!this.supports_binary) {\n        var warnings = document.getElementById('mpl-warnings');\n        if (warnings) {\n            warnings.style.display = 'block';\n            warnings.textContent =\n                'This browser does not support binary websocket messages. ' +\n                'Performance may be slow.';\n        }\n    }\n\n    this.imageObj = new Image();\n\n    this.context = undefined;\n    this.message = undefined;\n    this.canvas = undefined;\n    this.rubberband_canvas = undefined;\n    this.rubberband_context = undefined;\n    this.format_dropdown = undefined;\n\n    this.image_mode = 'full';\n\n    this.root = document.createElement('div');\n    this.root.setAttribute('style', 'display: inline-block');\n    this._root_extra_style(this.root);\n\n    parent_element.appendChild(this.root);\n\n    this._init_header(this);\n    this._init_canvas(this);\n    this._init_toolbar(this);\n\n    var fig = this;\n\n    this.waiting = false;\n\n    this.ws.onopen = function () {\n        fig.send_message('supports_binary', { value: fig.supports_binary });\n        fig.send_message('send_image_mode', {});\n        if (fig.ratio !== 1) {\n            fig.send_message('set_dpi_ratio', { dpi_ratio: fig.ratio });\n        }\n        fig.send_message('refresh', {});\n    };\n\n    this.imageObj.onload = function () {\n        if (fig.image_mode === 'full') {\n            // Full images could contain transparency (where diff images\n            // almost always do), so we need to clear the canvas so that\n            // there is no ghosting.\n            fig.context.clearRect(0, 0, fig.canvas.width, fig.canvas.height);\n        }\n        fig.context.drawImage(fig.imageObj, 0, 0);\n    };\n\n    this.imageObj.onunload = function () {\n        fig.ws.close();\n    };\n\n    this.ws.onmessage = this._make_on_message_function(this);\n\n    this.ondownload = ondownload;\n};\n\nmpl.figure.prototype._init_header = function () {\n    var titlebar = document.createElement('div');\n    titlebar.classList =\n        'ui-dialog-titlebar ui-widget-header ui-corner-all ui-helper-clearfix';\n    var titletext = document.createElement('div');\n    titletext.classList = 'ui-dialog-title';\n    titletext.setAttribute(\n        'style',\n        'width: 100%; text-align: center; padding: 3px;'\n    );\n    titlebar.appendChild(titletext);\n    this.root.appendChild(titlebar);\n    this.header = titletext;\n};\n\nmpl.figure.prototype._canvas_extra_style = function (_canvas_div) {};\n\nmpl.figure.prototype._root_extra_style = function (_canvas_div) {};\n\nmpl.figure.prototype._init_canvas = function () {\n    var fig = this;\n\n    var canvas_div = (this.canvas_div = document.createElement('div'));\n    canvas_div.setAttribute(\n        'style',\n        'border: 1px solid #ddd;' +\n            'box-sizing: content-box;' +\n            'clear: both;' +\n            'min-height: 1px;' +\n            'min-width: 1px;' +\n            'outline: 0;' +\n            'overflow: hidden;' +\n            'position: relative;' +\n            'resize: both;'\n    );\n\n    function on_keyboard_event_closure(name) {\n        return function (event) {\n            return fig.key_event(event, name);\n        };\n    }\n\n    canvas_div.addEventListener(\n        'keydown',\n        on_keyboard_event_closure('key_press')\n    );\n    canvas_div.addEventListener(\n        'keyup',\n        on_keyboard_event_closure('key_release')\n    );\n\n    this._canvas_extra_style(canvas_div);\n    this.root.appendChild(canvas_div);\n\n    var canvas = (this.canvas = document.createElement('canvas'));\n    canvas.classList.add('mpl-canvas');\n    canvas.setAttribute('style', 'box-sizing: content-box;');\n\n    this.context = canvas.getContext('2d');\n\n    var backingStore =\n        this.context.backingStorePixelRatio ||\n        this.context.webkitBackingStorePixelRatio ||\n        this.context.mozBackingStorePixelRatio ||\n        this.context.msBackingStorePixelRatio ||\n        this.context.oBackingStorePixelRatio ||\n        this.context.backingStorePixelRatio ||\n        1;\n\n    this.ratio = (window.devicePixelRatio || 1) / backingStore;\n\n    var rubberband_canvas = (this.rubberband_canvas = document.createElement(\n        'canvas'\n    ));\n    rubberband_canvas.setAttribute(\n        'style',\n        'box-sizing: content-box; position: absolute; left: 0; top: 0; z-index: 1;'\n    );\n\n    // Apply a ponyfill if ResizeObserver is not implemented by browser.\n    if (this.ResizeObserver === undefined) {\n        if (window.ResizeObserver !== undefined) {\n            this.ResizeObserver = window.ResizeObserver;\n        } else {\n            var obs = _JSXTOOLS_RESIZE_OBSERVER({});\n            this.ResizeObserver = obs.ResizeObserver;\n        }\n    }\n\n    this.resizeObserverInstance = new this.ResizeObserver(function (entries) {\n        var nentries = entries.length;\n        for (var i = 0; i < nentries; i++) {\n            var entry = entries[i];\n            var width, height;\n            if (entry.contentBoxSize) {\n                if (entry.contentBoxSize instanceof Array) {\n                    // Chrome 84 implements new version of spec.\n                    width = entry.contentBoxSize[0].inlineSize;\n                    height = entry.contentBoxSize[0].blockSize;\n                } else {\n                    // Firefox implements old version of spec.\n                    width = entry.contentBoxSize.inlineSize;\n                    height = entry.contentBoxSize.blockSize;\n                }\n            } else {\n                // Chrome <84 implements even older version of spec.\n                width = entry.contentRect.width;\n                height = entry.contentRect.height;\n            }\n\n            // Keep the size of the canvas and rubber band canvas in sync with\n            // the canvas container.\n            if (entry.devicePixelContentBoxSize) {\n                // Chrome 84 implements new version of spec.\n                canvas.setAttribute(\n                    'width',\n                    entry.devicePixelContentBoxSize[0].inlineSize\n                );\n                canvas.setAttribute(\n                    'height',\n                    entry.devicePixelContentBoxSize[0].blockSize\n                );\n            } else {\n                canvas.setAttribute('width', width * fig.ratio);\n                canvas.setAttribute('height', height * fig.ratio);\n            }\n            canvas.setAttribute(\n                'style',\n                'width: ' + width + 'px; height: ' + height + 'px;'\n            );\n\n            rubberband_canvas.setAttribute('width', width);\n            rubberband_canvas.setAttribute('height', height);\n\n            // And update the size in Python. We ignore the initial 0/0 size\n            // that occurs as the element is placed into the DOM, which should\n            // otherwise not happen due to the minimum size styling.\n            if (fig.ws.readyState == 1 && width != 0 && height != 0) {\n                fig.request_resize(width, height);\n            }\n        }\n    });\n    this.resizeObserverInstance.observe(canvas_div);\n\n    function on_mouse_event_closure(name) {\n        return function (event) {\n            return fig.mouse_event(event, name);\n        };\n    }\n\n    rubberband_canvas.addEventListener(\n        'mousedown',\n        on_mouse_event_closure('button_press')\n    );\n    rubberband_canvas.addEventListener(\n        'mouseup',\n        on_mouse_event_closure('button_release')\n    );\n    rubberband_canvas.addEventListener(\n        'dblclick',\n        on_mouse_event_closure('dblclick')\n    );\n    // Throttle sequential mouse events to 1 every 20ms.\n    rubberband_canvas.addEventListener(\n        'mousemove',\n        on_mouse_event_closure('motion_notify')\n    );\n\n    rubberband_canvas.addEventListener(\n        'mouseenter',\n        on_mouse_event_closure('figure_enter')\n    );\n    rubberband_canvas.addEventListener(\n        'mouseleave',\n        on_mouse_event_closure('figure_leave')\n    );\n\n    canvas_div.addEventListener('wheel', function (event) {\n        if (event.deltaY < 0) {\n            event.step = 1;\n        } else {\n            event.step = -1;\n        }\n        on_mouse_event_closure('scroll')(event);\n    });\n\n    canvas_div.appendChild(canvas);\n    canvas_div.appendChild(rubberband_canvas);\n\n    this.rubberband_context = rubberband_canvas.getContext('2d');\n    this.rubberband_context.strokeStyle = '#000000';\n\n    this._resize_canvas = function (width, height, forward) {\n        if (forward) {\n            canvas_div.style.width = width + 'px';\n            canvas_div.style.height = height + 'px';\n        }\n    };\n\n    // Disable right mouse context menu.\n    this.rubberband_canvas.addEventListener('contextmenu', function (_e) {\n        event.preventDefault();\n        return false;\n    });\n\n    function set_focus() {\n        canvas.focus();\n        canvas_div.focus();\n    }\n\n    window.setTimeout(set_focus, 100);\n};\n\nmpl.figure.prototype._init_toolbar = function () {\n    var fig = this;\n\n    var toolbar = document.createElement('div');\n    toolbar.classList = 'mpl-toolbar';\n    this.root.appendChild(toolbar);\n\n    function on_click_closure(name) {\n        return function (_event) {\n            return fig.toolbar_button_onclick(name);\n        };\n    }\n\n    function on_mouseover_closure(tooltip) {\n        return function (event) {\n            if (!event.currentTarget.disabled) {\n                return fig.toolbar_button_onmouseover(tooltip);\n            }\n        };\n    }\n\n    fig.buttons = {};\n    var buttonGroup = document.createElement('div');\n    buttonGroup.classList = 'mpl-button-group';\n    for (var toolbar_ind in mpl.toolbar_items) {\n        var name = mpl.toolbar_items[toolbar_ind][0];\n        var tooltip = mpl.toolbar_items[toolbar_ind][1];\n        var image = mpl.toolbar_items[toolbar_ind][2];\n        var method_name = mpl.toolbar_items[toolbar_ind][3];\n\n        if (!name) {\n            /* Instead of a spacer, we start a new button group. */\n            if (buttonGroup.hasChildNodes()) {\n                toolbar.appendChild(buttonGroup);\n            }\n            buttonGroup = document.createElement('div');\n            buttonGroup.classList = 'mpl-button-group';\n            continue;\n        }\n\n        var button = (fig.buttons[name] = document.createElement('button'));\n        button.classList = 'mpl-widget';\n        button.setAttribute('role', 'button');\n        button.setAttribute('aria-disabled', 'false');\n        button.addEventListener('click', on_click_closure(method_name));\n        button.addEventListener('mouseover', on_mouseover_closure(tooltip));\n\n        var icon_img = document.createElement('img');\n        icon_img.src = '_images/' + image + '.png';\n        icon_img.srcset = '_images/' + image + '_large.png 2x';\n        icon_img.alt = tooltip;\n        button.appendChild(icon_img);\n\n        buttonGroup.appendChild(button);\n    }\n\n    if (buttonGroup.hasChildNodes()) {\n        toolbar.appendChild(buttonGroup);\n    }\n\n    var fmt_picker = document.createElement('select');\n    fmt_picker.classList = 'mpl-widget';\n    toolbar.appendChild(fmt_picker);\n    this.format_dropdown = fmt_picker;\n\n    for (var ind in mpl.extensions) {\n        var fmt = mpl.extensions[ind];\n        var option = document.createElement('option');\n        option.selected = fmt === mpl.default_extension;\n        option.innerHTML = fmt;\n        fmt_picker.appendChild(option);\n    }\n\n    var status_bar = document.createElement('span');\n    status_bar.classList = 'mpl-message';\n    toolbar.appendChild(status_bar);\n    this.message = status_bar;\n};\n\nmpl.figure.prototype.request_resize = function (x_pixels, y_pixels) {\n    // Request matplotlib to resize the figure. Matplotlib will then trigger a resize in the client,\n    // which will in turn request a refresh of the image.\n    this.send_message('resize', { width: x_pixels, height: y_pixels });\n};\n\nmpl.figure.prototype.send_message = function (type, properties) {\n    properties['type'] = type;\n    properties['figure_id'] = this.id;\n    this.ws.send(JSON.stringify(properties));\n};\n\nmpl.figure.prototype.send_draw_message = function () {\n    if (!this.waiting) {\n        this.waiting = true;\n        this.ws.send(JSON.stringify({ type: 'draw', figure_id: this.id }));\n    }\n};\n\nmpl.figure.prototype.handle_save = function (fig, _msg) {\n    var format_dropdown = fig.format_dropdown;\n    var format = format_dropdown.options[format_dropdown.selectedIndex].value;\n    fig.ondownload(fig, format);\n};\n\nmpl.figure.prototype.handle_resize = function (fig, msg) {\n    var size = msg['size'];\n    if (size[0] !== fig.canvas.width || size[1] !== fig.canvas.height) {\n        fig._resize_canvas(size[0], size[1], msg['forward']);\n        fig.send_message('refresh', {});\n    }\n};\n\nmpl.figure.prototype.handle_rubberband = function (fig, msg) {\n    var x0 = msg['x0'] / fig.ratio;\n    var y0 = (fig.canvas.height - msg['y0']) / fig.ratio;\n    var x1 = msg['x1'] / fig.ratio;\n    var y1 = (fig.canvas.height - msg['y1']) / fig.ratio;\n    x0 = Math.floor(x0) + 0.5;\n    y0 = Math.floor(y0) + 0.5;\n    x1 = Math.floor(x1) + 0.5;\n    y1 = Math.floor(y1) + 0.5;\n    var min_x = Math.min(x0, x1);\n    var min_y = Math.min(y0, y1);\n    var width = Math.abs(x1 - x0);\n    var height = Math.abs(y1 - y0);\n\n    fig.rubberband_context.clearRect(\n        0,\n        0,\n        fig.canvas.width / fig.ratio,\n        fig.canvas.height / fig.ratio\n    );\n\n    fig.rubberband_context.strokeRect(min_x, min_y, width, height);\n};\n\nmpl.figure.prototype.handle_figure_label = function (fig, msg) {\n    // Updates the figure title.\n    fig.header.textContent = msg['label'];\n};\n\nmpl.figure.prototype.handle_cursor = function (fig, msg) {\n    var cursor = msg['cursor'];\n    switch (cursor) {\n        case 0:\n            cursor = 'pointer';\n            break;\n        case 1:\n            cursor = 'default';\n            break;\n        case 2:\n            cursor = 'crosshair';\n            break;\n        case 3:\n            cursor = 'move';\n            break;\n    }\n    fig.rubberband_canvas.style.cursor = cursor;\n};\n\nmpl.figure.prototype.handle_message = function (fig, msg) {\n    fig.message.textContent = msg['message'];\n};\n\nmpl.figure.prototype.handle_draw = function (fig, _msg) {\n    // Request the server to send over a new figure.\n    fig.send_draw_message();\n};\n\nmpl.figure.prototype.handle_image_mode = function (fig, msg) {\n    fig.image_mode = msg['mode'];\n};\n\nmpl.figure.prototype.handle_history_buttons = function (fig, msg) {\n    for (var key in msg) {\n        if (!(key in fig.buttons)) {\n            continue;\n        }\n        fig.buttons[key].disabled = !msg[key];\n        fig.buttons[key].setAttribute('aria-disabled', !msg[key]);\n    }\n};\n\nmpl.figure.prototype.handle_navigate_mode = function (fig, msg) {\n    if (msg['mode'] === 'PAN') {\n        fig.buttons['Pan'].classList.add('active');\n        fig.buttons['Zoom'].classList.remove('active');\n    } else if (msg['mode'] === 'ZOOM') {\n        fig.buttons['Pan'].classList.remove('active');\n        fig.buttons['Zoom'].classList.add('active');\n    } else {\n        fig.buttons['Pan'].classList.remove('active');\n        fig.buttons['Zoom'].classList.remove('active');\n    }\n};\n\nmpl.figure.prototype.updated_canvas_event = function () {\n    // Called whenever the canvas gets updated.\n    this.send_message('ack', {});\n};\n\n// A function to construct a web socket function for onmessage handling.\n// Called in the figure constructor.\nmpl.figure.prototype._make_on_message_function = function (fig) {\n    return function socket_on_message(evt) {\n        if (evt.data instanceof Blob) {\n            var img = evt.data;\n            if (img.type !== 'image/png') {\n                /* FIXME: We get \"Resource interpreted as Image but\n                 * transferred with MIME type text/plain:\" errors on\n                 * Chrome.  But how to set the MIME type?  It doesn't seem\n                 * to be part of the websocket stream */\n                img.type = 'image/png';\n            }\n\n            /* Free the memory for the previous frames */\n            if (fig.imageObj.src) {\n                (window.URL || window.webkitURL).revokeObjectURL(\n                    fig.imageObj.src\n                );\n            }\n\n            fig.imageObj.src = (window.URL || window.webkitURL).createObjectURL(\n                img\n            );\n            fig.updated_canvas_event();\n            fig.waiting = false;\n            return;\n        } else if (\n            typeof evt.data === 'string' &&\n            evt.data.slice(0, 21) === 'data:image/png;base64'\n        ) {\n            fig.imageObj.src = evt.data;\n            fig.updated_canvas_event();\n            fig.waiting = false;\n            return;\n        }\n\n        var msg = JSON.parse(evt.data);\n        var msg_type = msg['type'];\n\n        // Call the  \"handle_{type}\" callback, which takes\n        // the figure and JSON message as its only arguments.\n        try {\n            var callback = fig['handle_' + msg_type];\n        } catch (e) {\n            console.log(\n                \"No handler for the '\" + msg_type + \"' message type: \",\n                msg\n            );\n            return;\n        }\n\n        if (callback) {\n            try {\n                // console.log(\"Handling '\" + msg_type + \"' message: \", msg);\n                callback(fig, msg);\n            } catch (e) {\n                console.log(\n                    \"Exception inside the 'handler_\" + msg_type + \"' callback:\",\n                    e,\n                    e.stack,\n                    msg\n                );\n            }\n        }\n    };\n};\n\n// from http://stackoverflow.com/questions/1114465/getting-mouse-location-in-canvas\nmpl.findpos = function (e) {\n    //this section is from http://www.quirksmode.org/js/events_properties.html\n    var targ;\n    if (!e) {\n        e = window.event;\n    }\n    if (e.target) {\n        targ = e.target;\n    } else if (e.srcElement) {\n        targ = e.srcElement;\n    }\n    if (targ.nodeType === 3) {\n        // defeat Safari bug\n        targ = targ.parentNode;\n    }\n\n    // pageX,Y are the mouse positions relative to the document\n    var boundingRect = targ.getBoundingClientRect();\n    var x = e.pageX - (boundingRect.left + document.body.scrollLeft);\n    var y = e.pageY - (boundingRect.top + document.body.scrollTop);\n\n    return { x: x, y: y };\n};\n\n/*\n * return a copy of an object with only non-object keys\n * we need this to avoid circular references\n * http://stackoverflow.com/a/24161582/3208463\n */\nfunction simpleKeys(original) {\n    return Object.keys(original).reduce(function (obj, key) {\n        if (typeof original[key] !== 'object') {\n            obj[key] = original[key];\n        }\n        return obj;\n    }, {});\n}\n\nmpl.figure.prototype.mouse_event = function (event, name) {\n    var canvas_pos = mpl.findpos(event);\n\n    if (name === 'button_press') {\n        this.canvas.focus();\n        this.canvas_div.focus();\n    }\n\n    var x = canvas_pos.x * this.ratio;\n    var y = canvas_pos.y * this.ratio;\n\n    this.send_message(name, {\n        x: x,\n        y: y,\n        button: event.button,\n        step: event.step,\n        guiEvent: simpleKeys(event),\n    });\n\n    /* This prevents the web browser from automatically changing to\n     * the text insertion cursor when the button is pressed.  We want\n     * to control all of the cursor setting manually through the\n     * 'cursor' event from matplotlib */\n    event.preventDefault();\n    return false;\n};\n\nmpl.figure.prototype._key_event_extra = function (_event, _name) {\n    // Handle any extra behaviour associated with a key event\n};\n\nmpl.figure.prototype.key_event = function (event, name) {\n    // Prevent repeat events\n    if (name === 'key_press') {\n        if (event.key === this._key) {\n            return;\n        } else {\n            this._key = event.key;\n        }\n    }\n    if (name === 'key_release') {\n        this._key = null;\n    }\n\n    var value = '';\n    if (event.ctrlKey && event.key !== 'Control') {\n        value += 'ctrl+';\n    }\n    else if (event.altKey && event.key !== 'Alt') {\n        value += 'alt+';\n    }\n    else if (event.shiftKey && event.key !== 'Shift') {\n        value += 'shift+';\n    }\n\n    value += 'k' + event.key;\n\n    this._key_event_extra(event, name);\n\n    this.send_message(name, { key: value, guiEvent: simpleKeys(event) });\n    return false;\n};\n\nmpl.figure.prototype.toolbar_button_onclick = function (name) {\n    if (name === 'download') {\n        this.handle_save(this, null);\n    } else {\n        this.send_message('toolbar_button', { name: name });\n    }\n};\n\nmpl.figure.prototype.toolbar_button_onmouseover = function (tooltip) {\n    this.message.textContent = tooltip;\n};\n\n///////////////// REMAINING CONTENT GENERATED BY embed_js.py /////////////////\n// prettier-ignore\nvar _JSXTOOLS_RESIZE_OBSERVER=function(A){var t,i=new WeakMap,n=new WeakMap,a=new WeakMap,r=new WeakMap,o=new Set;function s(e){if(!(this instanceof s))throw new TypeError(\"Constructor requires 'new' operator\");i.set(this,e)}function h(){throw new TypeError(\"Function is not a constructor\")}function c(e,t,i,n){e=0 in arguments?Number(arguments[0]):0,t=1 in arguments?Number(arguments[1]):0,i=2 in arguments?Number(arguments[2]):0,n=3 in arguments?Number(arguments[3]):0,this.right=(this.x=this.left=e)+(this.width=i),this.bottom=(this.y=this.top=t)+(this.height=n),Object.freeze(this)}function d(){t=requestAnimationFrame(d);var s=new WeakMap,p=new Set;o.forEach((function(t){r.get(t).forEach((function(i){var r=t instanceof window.SVGElement,o=a.get(t),d=r?0:parseFloat(o.paddingTop),f=r?0:parseFloat(o.paddingRight),l=r?0:parseFloat(o.paddingBottom),u=r?0:parseFloat(o.paddingLeft),g=r?0:parseFloat(o.borderTopWidth),m=r?0:parseFloat(o.borderRightWidth),w=r?0:parseFloat(o.borderBottomWidth),b=u+f,F=d+l,v=(r?0:parseFloat(o.borderLeftWidth))+m,W=g+w,y=r?0:t.offsetHeight-W-t.clientHeight,E=r?0:t.offsetWidth-v-t.clientWidth,R=b+v,z=F+W,M=r?t.width:parseFloat(o.width)-R-E,O=r?t.height:parseFloat(o.height)-z-y;if(n.has(t)){var k=n.get(t);if(k[0]===M&&k[1]===O)return}n.set(t,[M,O]);var S=Object.create(h.prototype);S.target=t,S.contentRect=new c(u,d,M,O),s.has(i)||(s.set(i,[]),p.add(i)),s.get(i).push(S)}))})),p.forEach((function(e){i.get(e).call(e,s.get(e),e)}))}return s.prototype.observe=function(i){if(i instanceof window.Element){r.has(i)||(r.set(i,new Set),o.add(i),a.set(i,window.getComputedStyle(i)));var n=r.get(i);n.has(this)||n.add(this),cancelAnimationFrame(t),t=requestAnimationFrame(d)}},s.prototype.unobserve=function(i){if(i instanceof window.Element&&r.has(i)){var n=r.get(i);n.has(this)&&(n.delete(this),n.size||(r.delete(i),o.delete(i))),n.size||r.delete(i),o.size||cancelAnimationFrame(t)}},A.DOMRectReadOnly=c,A.ResizeObserver=s,A.ResizeObserverEntry=h,A}; // eslint-disable-line\nmpl.toolbar_items = [[\"Home\", \"Reset original view\", \"fa fa-home icon-home\", \"home\"], [\"Back\", \"Back to previous view\", \"fa fa-arrow-left icon-arrow-left\", \"back\"], [\"Forward\", \"Forward to next view\", \"fa fa-arrow-right icon-arrow-right\", \"forward\"], [\"\", \"\", \"\", \"\"], [\"Pan\", \"Left button pans, Right button zooms\\nx/y fixes axis, CTRL fixes aspect\", \"fa fa-arrows icon-move\", \"pan\"], [\"Zoom\", \"Zoom to rectangle\\nx/y fixes axis, CTRL fixes aspect\", \"fa fa-square-o icon-check-empty\", \"zoom\"], [\"\", \"\", \"\", \"\"], [\"Download\", \"Download plot\", \"fa fa-floppy-o icon-save\", \"download\"]];\n\nmpl.extensions = [\"eps\", \"jpeg\", \"pgf\", \"pdf\", \"png\", \"ps\", \"raw\", \"svg\", \"tif\"];\n\nmpl.default_extension = \"png\";/* global mpl */\n\nvar comm_websocket_adapter = function (comm) {\n    // Create a \"websocket\"-like object which calls the given IPython comm\n    // object with the appropriate methods. Currently this is a non binary\n    // socket, so there is still some room for performance tuning.\n    var ws = {};\n\n    ws.binaryType = comm.kernel.ws.binaryType;\n    ws.readyState = comm.kernel.ws.readyState;\n    function updateReadyState(_event) {\n        if (comm.kernel.ws) {\n            ws.readyState = comm.kernel.ws.readyState;\n        } else {\n            ws.readyState = 3; // Closed state.\n        }\n    }\n    comm.kernel.ws.addEventListener('open', updateReadyState);\n    comm.kernel.ws.addEventListener('close', updateReadyState);\n    comm.kernel.ws.addEventListener('error', updateReadyState);\n\n    ws.close = function () {\n        comm.close();\n    };\n    ws.send = function (m) {\n        //console.log('sending', m);\n        comm.send(m);\n    };\n    // Register the callback with on_msg.\n    comm.on_msg(function (msg) {\n        //console.log('receiving', msg['content']['data'], msg);\n        var data = msg['content']['data'];\n        if (data['blob'] !== undefined) {\n            data = {\n                data: new Blob(msg['buffers'], { type: data['blob'] }),\n            };\n        }\n        // Pass the mpl event to the overridden (by mpl) onmessage function.\n        ws.onmessage(data);\n    });\n    return ws;\n};\n\nmpl.mpl_figure_comm = function (comm, msg) {\n    // This is the function which gets called when the mpl process\n    // starts-up an IPython Comm through the \"matplotlib\" channel.\n\n    var id = msg.content.data.id;\n    // Get hold of the div created by the display call when the Comm\n    // socket was opened in Python.\n    var element = document.getElementById(id);\n    var ws_proxy = comm_websocket_adapter(comm);\n\n    function ondownload(figure, _format) {\n        window.open(figure.canvas.toDataURL());\n    }\n\n    var fig = new mpl.figure(id, ws_proxy, ondownload, element);\n\n    // Call onopen now - mpl needs it, as it is assuming we've passed it a real\n    // web socket which is closed, not our websocket->open comm proxy.\n    ws_proxy.onopen();\n\n    fig.parent_element = element;\n    fig.cell_info = mpl.find_output_cell(\"<div id='\" + id + \"'></div>\");\n    if (!fig.cell_info) {\n        console.error('Failed to find cell for figure', id, fig);\n        return;\n    }\n    fig.cell_info[0].output_area.element.on(\n        'cleared',\n        { fig: fig },\n        fig._remove_fig_handler\n    );\n};\n\nmpl.figure.prototype.handle_close = function (fig, msg) {\n    var width = fig.canvas.width / fig.ratio;\n    fig.cell_info[0].output_area.element.off(\n        'cleared',\n        fig._remove_fig_handler\n    );\n    fig.resizeObserverInstance.unobserve(fig.canvas_div);\n\n    // Update the output cell to use the data from the current canvas.\n    fig.push_to_output();\n    var dataURL = fig.canvas.toDataURL();\n    // Re-enable the keyboard manager in IPython - without this line, in FF,\n    // the notebook keyboard shortcuts fail.\n    IPython.keyboard_manager.enable();\n    fig.parent_element.innerHTML =\n        '<img src=\"' + dataURL + '\" width=\"' + width + '\">';\n    fig.close_ws(fig, msg);\n};\n\nmpl.figure.prototype.close_ws = function (fig, msg) {\n    fig.send_message('closing', msg);\n    // fig.ws.close()\n};\n\nmpl.figure.prototype.push_to_output = function (_remove_interactive) {\n    // Turn the data on the canvas into data in the output cell.\n    var width = this.canvas.width / this.ratio;\n    var dataURL = this.canvas.toDataURL();\n    this.cell_info[1]['text/html'] =\n        '<img src=\"' + dataURL + '\" width=\"' + width + '\">';\n};\n\nmpl.figure.prototype.updated_canvas_event = function () {\n    // Tell IPython that the notebook contents must change.\n    IPython.notebook.set_dirty(true);\n    this.send_message('ack', {});\n    var fig = this;\n    // Wait a second, then push the new image to the DOM so\n    // that it is saved nicely (might be nice to debounce this).\n    setTimeout(function () {\n        fig.push_to_output();\n    }, 1000);\n};\n\nmpl.figure.prototype._init_toolbar = function () {\n    var fig = this;\n\n    var toolbar = document.createElement('div');\n    toolbar.classList = 'btn-toolbar';\n    this.root.appendChild(toolbar);\n\n    function on_click_closure(name) {\n        return function (_event) {\n            return fig.toolbar_button_onclick(name);\n        };\n    }\n\n    function on_mouseover_closure(tooltip) {\n        return function (event) {\n            if (!event.currentTarget.disabled) {\n                return fig.toolbar_button_onmouseover(tooltip);\n            }\n        };\n    }\n\n    fig.buttons = {};\n    var buttonGroup = document.createElement('div');\n    buttonGroup.classList = 'btn-group';\n    var button;\n    for (var toolbar_ind in mpl.toolbar_items) {\n        var name = mpl.toolbar_items[toolbar_ind][0];\n        var tooltip = mpl.toolbar_items[toolbar_ind][1];\n        var image = mpl.toolbar_items[toolbar_ind][2];\n        var method_name = mpl.toolbar_items[toolbar_ind][3];\n\n        if (!name) {\n            /* Instead of a spacer, we start a new button group. */\n            if (buttonGroup.hasChildNodes()) {\n                toolbar.appendChild(buttonGroup);\n            }\n            buttonGroup = document.createElement('div');\n            buttonGroup.classList = 'btn-group';\n            continue;\n        }\n\n        button = fig.buttons[name] = document.createElement('button');\n        button.classList = 'btn btn-default';\n        button.href = '#';\n        button.title = name;\n        button.innerHTML = '<i class=\"fa ' + image + ' fa-lg\"></i>';\n        button.addEventListener('click', on_click_closure(method_name));\n        button.addEventListener('mouseover', on_mouseover_closure(tooltip));\n        buttonGroup.appendChild(button);\n    }\n\n    if (buttonGroup.hasChildNodes()) {\n        toolbar.appendChild(buttonGroup);\n    }\n\n    // Add the status bar.\n    var status_bar = document.createElement('span');\n    status_bar.classList = 'mpl-message pull-right';\n    toolbar.appendChild(status_bar);\n    this.message = status_bar;\n\n    // Add the close button to the window.\n    var buttongrp = document.createElement('div');\n    buttongrp.classList = 'btn-group inline pull-right';\n    button = document.createElement('button');\n    button.classList = 'btn btn-mini btn-primary';\n    button.href = '#';\n    button.title = 'Stop Interaction';\n    button.innerHTML = '<i class=\"fa fa-power-off icon-remove icon-large\"></i>';\n    button.addEventListener('click', function (_evt) {\n        fig.handle_close(fig, {});\n    });\n    button.addEventListener(\n        'mouseover',\n        on_mouseover_closure('Stop Interaction')\n    );\n    buttongrp.appendChild(button);\n    var titlebar = this.root.querySelector('.ui-dialog-titlebar');\n    titlebar.insertBefore(buttongrp, titlebar.firstChild);\n};\n\nmpl.figure.prototype._remove_fig_handler = function (event) {\n    var fig = event.data.fig;\n    if (event.target !== this) {\n        // Ignore bubbled events from children.\n        return;\n    }\n    fig.close_ws(fig, {});\n};\n\nmpl.figure.prototype._root_extra_style = function (el) {\n    el.style.boxSizing = 'content-box'; // override notebook setting of border-box.\n};\n\nmpl.figure.prototype._canvas_extra_style = function (el) {\n    // this is important to make the div 'focusable\n    el.setAttribute('tabindex', 0);\n    // reach out to IPython and tell the keyboard manager to turn it's self\n    // off when our div gets focus\n\n    // location in version 3\n    if (IPython.notebook.keyboard_manager) {\n        IPython.notebook.keyboard_manager.register_events(el);\n    } else {\n        // location in version 2\n        IPython.keyboard_manager.register_events(el);\n    }\n};\n\nmpl.figure.prototype._key_event_extra = function (event, _name) {\n    var manager = IPython.notebook.keyboard_manager;\n    if (!manager) {\n        manager = IPython.keyboard_manager;\n    }\n\n    // Check for shift+enter\n    if (event.shiftKey && event.which === 13) {\n        this.canvas_div.blur();\n        // select the cell after this one\n        var index = IPython.notebook.find_cell_index(this.cell_info[0]);\n        IPython.notebook.select(index + 1);\n    }\n};\n\nmpl.figure.prototype.handle_save = function (fig, _msg) {\n    fig.ondownload(fig, null);\n};\n\nmpl.find_output_cell = function (html_output) {\n    // Return the cell and output element which can be found *uniquely* in the notebook.\n    // Note - this is a bit hacky, but it is done because the \"notebook_saving.Notebook\"\n    // IPython event is triggered only after the cells have been serialised, which for\n    // our purposes (turning an active figure into a static one), is too late.\n    var cells = IPython.notebook.get_cells();\n    var ncells = cells.length;\n    for (var i = 0; i < ncells; i++) {\n        var cell = cells[i];\n        if (cell.cell_type === 'code') {\n            for (var j = 0; j < cell.output_area.outputs.length; j++) {\n                var data = cell.output_area.outputs[j];\n                if (data.data) {\n                    // IPython >= 3 moved mimebundle to data attribute of output\n                    data = data.data;\n                }\n                if (data['text/html'] === html_output) {\n                    return [cell, data, j];\n                }\n            }\n        }\n    }\n};\n\n// Register the function which deals with the matplotlib target/channel.\n// The kernel may be null if the page has been refreshed.\nif (IPython.notebook.kernel !== null) {\n    IPython.notebook.kernel.comm_manager.register_target(\n        'matplotlib',\n        mpl.mpl_figure_comm\n    );\n}\n",
            "text/plain": [
              "<IPython.core.display.Javascript object>"
            ]
          },
          "metadata": {},
          "output_type": "display_data"
        },
        {
          "data": {
            "text/html": [
              "<img src=\"data:image/png;base64,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\" width=\"640\">"
            ],
            "text/plain": [
              "<IPython.core.display.HTML object>"
            ]
          },
          "metadata": {},
          "output_type": "display_data"
        },
        {
          "name": "stderr",
          "output_type": "stream",
          "text": [
            "No handles with labels found to put in legend.\n",
            "No handles with labels found to put in legend.\n"
          ]
        },
        {
          "name": "stdout",
          "output_type": "stream",
          "text": [
            "7,213\n",
            "7,209\n"
          ]
        },
        {
          "name": "stderr",
          "output_type": "stream",
          "text": [
            "No handles with labels found to put in legend.\n",
            "No handles with labels found to put in legend.\n"
          ]
        },
        {
          "name": "stdout",
          "output_type": "stream",
          "text": [
            "7,228\n",
            "7,224\n"
          ]
        },
        {
          "name": "stderr",
          "output_type": "stream",
          "text": [
            "No handles with labels found to put in legend.\n",
            "No handles with labels found to put in legend.\n"
          ]
        },
        {
          "name": "stdout",
          "output_type": "stream",
          "text": [
            "7,222\n",
            "7,229\n"
          ]
        },
        {
          "name": "stderr",
          "output_type": "stream",
          "text": [
            "No handles with labels found to put in legend.\n",
            "No handles with labels found to put in legend.\n"
          ]
        },
        {
          "name": "stdout",
          "output_type": "stream",
          "text": [
            "7,230\n",
            "7,220\n"
          ]
        },
        {
          "name": "stderr",
          "output_type": "stream",
          "text": [
            "No handles with labels found to put in legend.\n",
            "No handles with labels found to put in legend.\n"
          ]
        },
        {
          "name": "stdout",
          "output_type": "stream",
          "text": [
            "7,192\n",
            "7,210\n"
          ]
        },
        {
          "name": "stderr",
          "output_type": "stream",
          "text": [
            "No handles with labels found to put in legend.\n",
            "No handles with labels found to put in legend.\n"
          ]
        },
        {
          "name": "stdout",
          "output_type": "stream",
          "text": [
            "7,231\n",
            "7,214\n"
          ]
        },
        {
          "name": "stderr",
          "output_type": "stream",
          "text": [
            "No handles with labels found to put in legend.\n"
          ]
        },
        {
          "name": "stdout",
          "output_type": "stream",
          "text": [
            "7,226\n"
          ]
        },
        {
          "name": "stderr",
          "output_type": "stream",
          "text": [
            "No handles with labels found to put in legend.\n"
          ]
        },
        {
          "name": "stdout",
          "output_type": "stream",
          "text": [
            "7,232\n"
          ]
        },
        {
          "name": "stderr",
          "output_type": "stream",
          "text": [
            "No handles with labels found to put in legend.\n"
          ]
        },
        {
          "name": "stdout",
          "output_type": "stream",
          "text": [
            "7,233\n"
          ]
        },
        {
          "name": "stderr",
          "output_type": "stream",
          "text": [
            "No handles with labels found to put in legend.\n"
          ]
        },
        {
          "name": "stdout",
          "output_type": "stream",
          "text": [
            "7,234\n"
          ]
        },
        {
          "name": "stderr",
          "output_type": "stream",
          "text": [
            "No handles with labels found to put in legend.\n"
          ]
        },
        {
          "name": "stdout",
          "output_type": "stream",
          "text": [
            "7,235\n"
          ]
        },
        {
          "name": "stderr",
          "output_type": "stream",
          "text": [
            "No handles with labels found to put in legend.\n"
          ]
        },
        {
          "name": "stdout",
          "output_type": "stream",
          "text": [
            "7,236\n"
          ]
        },
        {
          "name": "stderr",
          "output_type": "stream",
          "text": [
            "No handles with labels found to put in legend.\n"
          ]
        },
        {
          "name": "stdout",
          "output_type": "stream",
          "text": [
            "8,1\n"
          ]
        },
        {
          "name": "stderr",
          "output_type": "stream",
          "text": [
            "No handles with labels found to put in legend.\n"
          ]
        },
        {
          "name": "stdout",
          "output_type": "stream",
          "text": [
            "8,247089\n"
          ]
        },
        {
          "name": "stderr",
          "output_type": "stream",
          "text": [
            "No handles with labels found to put in legend.\n"
          ]
        },
        {
          "name": "stdout",
          "output_type": "stream",
          "text": [
            "8,869832\n"
          ]
        },
        {
          "name": "stderr",
          "output_type": "stream",
          "text": [
            "No handles with labels found to put in legend.\n"
          ]
        },
        {
          "name": "stdout",
          "output_type": "stream",
          "text": [
            "8,880477\n"
          ]
        },
        {
          "name": "stderr",
          "output_type": "stream",
          "text": [
            "No handles with labels found to put in legend.\n"
          ]
        },
        {
          "name": "stdout",
          "output_type": "stream",
          "text": [
            "9,1\n"
          ]
        },
        {
          "name": "stderr",
          "output_type": "stream",
          "text": [
            "No handles with labels found to put in legend.\n"
          ]
        },
        {
          "name": "stdout",
          "output_type": "stream",
          "text": [
            "9,350\n"
          ]
        },
        {
          "name": "stderr",
          "output_type": "stream",
          "text": [
            "No handles with labels found to put in legend.\n"
          ]
        },
        {
          "name": "stdout",
          "output_type": "stream",
          "text": [
            "9,371\n"
          ]
        },
        {
          "name": "stderr",
          "output_type": "stream",
          "text": [
            "No handles with labels found to put in legend.\n"
          ]
        },
        {
          "name": "stdout",
          "output_type": "stream",
          "text": [
            "9,373\n"
          ]
        },
        {
          "name": "stderr",
          "output_type": "stream",
          "text": [
            "No handles with labels found to put in legend.\n"
          ]
        },
        {
          "name": "stdout",
          "output_type": "stream",
          "text": [
            "9,5056\n"
          ]
        },
        {
          "name": "stderr",
          "output_type": "stream",
          "text": [
            "No handles with labels found to put in legend.\n"
          ]
        },
        {
          "name": "stdout",
          "output_type": "stream",
          "text": [
            "9,6899\n"
          ]
        },
        {
          "name": "stderr",
          "output_type": "stream",
          "text": [
            "No handles with labels found to put in legend.\n"
          ]
        },
        {
          "name": "stdout",
          "output_type": "stream",
          "text": [
            "9,7145\n"
          ]
        },
        {
          "name": "stderr",
          "output_type": "stream",
          "text": [
            "No handles with labels found to put in legend.\n"
          ]
        },
        {
          "name": "stdout",
          "output_type": "stream",
          "text": [
            "9,7839\n"
          ]
        },
        {
          "name": "stderr",
          "output_type": "stream",
          "text": [
            "No handles with labels found to put in legend.\n"
          ]
        },
        {
          "name": "stdout",
          "output_type": "stream",
          "text": [
            "9,10739\n"
          ]
        },
        {
          "name": "stderr",
          "output_type": "stream",
          "text": [
            "No handles with labels found to put in legend.\n"
          ]
        },
        {
          "name": "stdout",
          "output_type": "stream",
          "text": [
            "9,13411\n"
          ]
        },
        {
          "name": "stderr",
          "output_type": "stream",
          "text": [
            "No handles with labels found to put in legend.\n"
          ]
        },
        {
          "name": "stdout",
          "output_type": "stream",
          "text": [
            "9,17818\n"
          ]
        },
        {
          "name": "stderr",
          "output_type": "stream",
          "text": [
            "No handles with labels found to put in legend.\n"
          ]
        },
        {
          "name": "stdout",
          "output_type": "stream",
          "text": [
            "9,18132\n"
          ]
        },
        {
          "name": "stderr",
          "output_type": "stream",
          "text": [
            "No handles with labels found to put in legend.\n"
          ]
        },
        {
          "name": "stdout",
          "output_type": "stream",
          "text": [
            "9,74533\n"
          ]
        },
        {
          "name": "stderr",
          "output_type": "stream",
          "text": [
            "No handles with labels found to put in legend.\n"
          ]
        },
        {
          "name": "stdout",
          "output_type": "stream",
          "text": [
            "9,104743\n"
          ]
        },
        {
          "name": "stderr",
          "output_type": "stream",
          "text": [
            "No handles with labels found to put in legend.\n"
          ]
        },
        {
          "name": "stdout",
          "output_type": "stream",
          "text": [
            "9,121505\n"
          ]
        },
        {
          "name": "stderr",
          "output_type": "stream",
          "text": [
            "No handles with labels found to put in legend.\n"
          ]
        },
        {
          "name": "stdout",
          "output_type": "stream",
          "text": [
            "9,139927\n"
          ]
        },
        {
          "name": "stderr",
          "output_type": "stream",
          "text": [
            "No handles with labels found to put in legend.\n"
          ]
        },
        {
          "name": "stdout",
          "output_type": "stream",
          "text": [
            "9,147289\n"
          ]
        },
        {
          "name": "stderr",
          "output_type": "stream",
          "text": [
            "No handles with labels found to put in legend.\n"
          ]
        },
        {
          "name": "stdout",
          "output_type": "stream",
          "text": [
            "9,150049\n"
          ]
        },
        {
          "name": "stderr",
          "output_type": "stream",
          "text": [
            "No handles with labels found to put in legend.\n"
          ]
        },
        {
          "name": "stdout",
          "output_type": "stream",
          "text": [
            "9,153188\n"
          ]
        },
        {
          "name": "stderr",
          "output_type": "stream",
          "text": [
            "No handles with labels found to put in legend.\n"
          ]
        },
        {
          "name": "stdout",
          "output_type": "stream",
          "text": [
            "9,153189\n"
          ]
        },
        {
          "name": "stderr",
          "output_type": "stream",
          "text": [
            "No handles with labels found to put in legend.\n"
          ]
        },
        {
          "name": "stdout",
          "output_type": "stream",
          "text": [
            "9,153181\n"
          ]
        },
        {
          "name": "stderr",
          "output_type": "stream",
          "text": [
            "No handles with labels found to put in legend.\n"
          ]
        },
        {
          "name": "stdout",
          "output_type": "stream",
          "text": [
            "9,153250\n"
          ]
        },
        {
          "name": "stderr",
          "output_type": "stream",
          "text": [
            "No handles with labels found to put in legend.\n"
          ]
        },
        {
          "name": "stdout",
          "output_type": "stream",
          "text": [
            "9,154989\n"
          ]
        },
        {
          "name": "stderr",
          "output_type": "stream",
          "text": [
            "No handles with labels found to put in legend.\n"
          ]
        },
        {
          "name": "stdout",
          "output_type": "stream",
          "text": [
            "9,154991\n"
          ]
        },
        {
          "name": "stderr",
          "output_type": "stream",
          "text": [
            "No handles with labels found to put in legend.\n"
          ]
        },
        {
          "name": "stdout",
          "output_type": "stream",
          "text": [
            "9,156756\n"
          ]
        },
        {
          "name": "stderr",
          "output_type": "stream",
          "text": [
            "No handles with labels found to put in legend.\n"
          ]
        },
        {
          "name": "stdout",
          "output_type": "stream",
          "text": [
            "9,161175\n"
          ]
        },
        {
          "name": "stderr",
          "output_type": "stream",
          "text": [
            "No handles with labels found to put in legend.\n"
          ]
        },
        {
          "name": "stdout",
          "output_type": "stream",
          "text": [
            "9,162067\n"
          ]
        },
        {
          "name": "stderr",
          "output_type": "stream",
          "text": [
            "No handles with labels found to put in legend.\n"
          ]
        },
        {
          "name": "stdout",
          "output_type": "stream",
          "text": [
            "9,220348\n"
          ]
        },
        {
          "name": "stderr",
          "output_type": "stream",
          "text": [
            "No handles with labels found to put in legend.\n"
          ]
        },
        {
          "name": "stdout",
          "output_type": "stream",
          "text": [
            "9,268609\n"
          ]
        },
        {
          "name": "stderr",
          "output_type": "stream",
          "text": [
            "No handles with labels found to put in legend.\n"
          ]
        },
        {
          "name": "stdout",
          "output_type": "stream",
          "text": [
            "9,268618\n"
          ]
        },
        {
          "name": "stderr",
          "output_type": "stream",
          "text": [
            "No handles with labels found to put in legend.\n"
          ]
        },
        {
          "name": "stdout",
          "output_type": "stream",
          "text": [
            "9,655717\n"
          ]
        },
        {
          "name": "stderr",
          "output_type": "stream",
          "text": [
            "No handles with labels found to put in legend.\n"
          ]
        },
        {
          "name": "stdout",
          "output_type": "stream",
          "text": [
            "9,863419\n"
          ]
        },
        {
          "name": "stderr",
          "output_type": "stream",
          "text": [
            "No handles with labels found to put in legend.\n"
          ]
        },
        {
          "name": "stdout",
          "output_type": "stream",
          "text": [
            "9,882339\n"
          ]
        },
        {
          "name": "stderr",
          "output_type": "stream",
          "text": [
            "No handles with labels found to put in legend.\n"
          ]
        },
        {
          "name": "stdout",
          "output_type": "stream",
          "text": [
            "9,1013673\n"
          ]
        },
        {
          "name": "stderr",
          "output_type": "stream",
          "text": [
            "No handles with labels found to put in legend.\n"
          ]
        },
        {
          "name": "stdout",
          "output_type": "stream",
          "text": [
            "9,1473438\n"
          ]
        },
        {
          "name": "stderr",
          "output_type": "stream",
          "text": [
            "No handles with labels found to put in legend.\n"
          ]
        },
        {
          "name": "stdout",
          "output_type": "stream",
          "text": [
            "10,1\n"
          ]
        },
        {
          "name": "stderr",
          "output_type": "stream",
          "text": [
            "No handles with labels found to put in legend.\n"
          ]
        },
        {
          "name": "stdout",
          "output_type": "stream",
          "text": [
            "10,286\n"
          ]
        },
        {
          "name": "stderr",
          "output_type": "stream",
          "text": [
            "No handles with labels found to put in legend.\n"
          ]
        },
        {
          "name": "stdout",
          "output_type": "stream",
          "text": [
            "10,288\n"
          ]
        },
        {
          "name": "stderr",
          "output_type": "stream",
          "text": [
            "No handles with labels found to put in legend.\n"
          ]
        },
        {
          "name": "stdout",
          "output_type": "stream",
          "text": [
            "10,285\n"
          ]
        },
        {
          "name": "stderr",
          "output_type": "stream",
          "text": [
            "No handles with labels found to put in legend.\n"
          ]
        },
        {
          "name": "stdout",
          "output_type": "stream",
          "text": [
            "10,33\n"
          ]
        },
        {
          "name": "stderr",
          "output_type": "stream",
          "text": [
            "No handles with labels found to put in legend.\n"
          ]
        },
        {
          "name": "stdout",
          "output_type": "stream",
          "text": [
            "10,241\n"
          ]
        },
        {
          "name": "stderr",
          "output_type": "stream",
          "text": [
            "No handles with labels found to put in legend.\n"
          ]
        },
        {
          "name": "stdout",
          "output_type": "stream",
          "text": [
            "10,282\n"
          ]
        },
        {
          "name": "stderr",
          "output_type": "stream",
          "text": [
            "No handles with labels found to put in legend.\n"
          ]
        },
        {
          "name": "stdout",
          "output_type": "stream",
          "text": [
            "10,283\n"
          ]
        },
        {
          "name": "stderr",
          "output_type": "stream",
          "text": [
            "No handles with labels found to put in legend.\n"
          ]
        },
        {
          "name": "stdout",
          "output_type": "stream",
          "text": [
            "10,238\n"
          ]
        },
        {
          "name": "stderr",
          "output_type": "stream",
          "text": [
            "No handles with labels found to put in legend.\n"
          ]
        },
        {
          "name": "stdout",
          "output_type": "stream",
          "text": [
            "10,190\n"
          ]
        },
        {
          "name": "stderr",
          "output_type": "stream",
          "text": [
            "No handles with labels found to put in legend.\n"
          ]
        },
        {
          "name": "stdout",
          "output_type": "stream",
          "text": [
            "10,242\n"
          ]
        },
        {
          "name": "stderr",
          "output_type": "stream",
          "text": [
            "No handles with labels found to put in legend.\n"
          ]
        },
        {
          "name": "stdout",
          "output_type": "stream",
          "text": [
            "10,268\n"
          ]
        },
        {
          "name": "stderr",
          "output_type": "stream",
          "text": [
            "No handles with labels found to put in legend.\n"
          ]
        },
        {
          "name": "stdout",
          "output_type": "stream",
          "text": [
            "10,269\n"
          ]
        },
        {
          "name": "stderr",
          "output_type": "stream",
          "text": [
            "No handles with labels found to put in legend.\n"
          ]
        },
        {
          "name": "stdout",
          "output_type": "stream",
          "text": [
            "10,253\n"
          ]
        },
        {
          "name": "stderr",
          "output_type": "stream",
          "text": [
            "No handles with labels found to put in legend.\n"
          ]
        },
        {
          "name": "stdout",
          "output_type": "stream",
          "text": [
            "10,261\n"
          ]
        },
        {
          "ename": "KeyboardInterrupt",
          "evalue": "",
          "output_type": "error",
          "traceback": [
            "\u001b[1;31m---------------------------------------------------------------------------\u001b[0m",
            "\u001b[1;31mKeyboardInterrupt\u001b[0m                         Traceback (most recent call last)",
            "\u001b[1;32mC:\\Users\\UMAIRA~1\\AppData\\Local\\Temp/ipykernel_16048/891907262.py\u001b[0m in \u001b[0;36m<module>\u001b[1;34m\u001b[0m\n\u001b[0;32m     12\u001b[0m \u001b[0mlst\u001b[0m\u001b[1;33m=\u001b[0m\u001b[1;33m[\u001b[0m\u001b[1;33m]\u001b[0m\u001b[1;33m\u001b[0m\u001b[1;33m\u001b[0m\u001b[0m\n\u001b[0;32m     13\u001b[0m \u001b[0mlst2\u001b[0m\u001b[1;33m=\u001b[0m\u001b[1;33m[\u001b[0m\u001b[1;33m]\u001b[0m\u001b[1;33m\u001b[0m\u001b[1;33m\u001b[0m\u001b[0m\n\u001b[1;32m---> 14\u001b[1;33m \u001b[1;32mfor\u001b[0m \u001b[0mmessage\u001b[0m \u001b[1;32min\u001b[0m \u001b[0mconsumer\u001b[0m\u001b[1;33m:\u001b[0m\u001b[1;33m\u001b[0m\u001b[1;33m\u001b[0m\u001b[0m\n\u001b[0m\u001b[0;32m     15\u001b[0m     \u001b[1;32mif\u001b[0m\u001b[1;33m(\u001b[0m\u001b[0mmessage\u001b[0m\u001b[1;33m.\u001b[0m\u001b[0mvalue\u001b[0m\u001b[1;33m==\u001b[0m\u001b[1;34m\"display\"\u001b[0m\u001b[1;33m)\u001b[0m\u001b[1;33m:\u001b[0m\u001b[1;33m\u001b[0m\u001b[1;33m\u001b[0m\u001b[0m\n\u001b[0;32m     16\u001b[0m         \u001b[0mconsumer\u001b[0m\u001b[1;33m.\u001b[0m\u001b[0mclose\u001b[0m\u001b[1;33m(\u001b[0m\u001b[1;33m)\u001b[0m\u001b[1;33m\u001b[0m\u001b[1;33m\u001b[0m\u001b[0m\n",
            "\u001b[1;32m~\\anaconda3\\lib\\site-packages\\kafka\\consumer\\group.py\u001b[0m in \u001b[0;36m__next__\u001b[1;34m(self)\u001b[0m\n\u001b[0;32m   1191\u001b[0m             \u001b[1;32mreturn\u001b[0m \u001b[0mself\u001b[0m\u001b[1;33m.\u001b[0m\u001b[0mnext_v1\u001b[0m\u001b[1;33m(\u001b[0m\u001b[1;33m)\u001b[0m\u001b[1;33m\u001b[0m\u001b[1;33m\u001b[0m\u001b[0m\n\u001b[0;32m   1192\u001b[0m         \u001b[1;32melse\u001b[0m\u001b[1;33m:\u001b[0m\u001b[1;33m\u001b[0m\u001b[1;33m\u001b[0m\u001b[0m\n\u001b[1;32m-> 1193\u001b[1;33m             \u001b[1;32mreturn\u001b[0m \u001b[0mself\u001b[0m\u001b[1;33m.\u001b[0m\u001b[0mnext_v2\u001b[0m\u001b[1;33m(\u001b[0m\u001b[1;33m)\u001b[0m\u001b[1;33m\u001b[0m\u001b[1;33m\u001b[0m\u001b[0m\n\u001b[0m\u001b[0;32m   1194\u001b[0m \u001b[1;33m\u001b[0m\u001b[0m\n\u001b[0;32m   1195\u001b[0m     \u001b[1;32mdef\u001b[0m \u001b[0mnext_v2\u001b[0m\u001b[1;33m(\u001b[0m\u001b[0mself\u001b[0m\u001b[1;33m)\u001b[0m\u001b[1;33m:\u001b[0m\u001b[1;33m\u001b[0m\u001b[1;33m\u001b[0m\u001b[0m\n",
            "\u001b[1;32m~\\anaconda3\\lib\\site-packages\\kafka\\consumer\\group.py\u001b[0m in \u001b[0;36mnext_v2\u001b[1;34m(self)\u001b[0m\n\u001b[0;32m   1199\u001b[0m                 \u001b[0mself\u001b[0m\u001b[1;33m.\u001b[0m\u001b[0m_iterator\u001b[0m \u001b[1;33m=\u001b[0m \u001b[0mself\u001b[0m\u001b[1;33m.\u001b[0m\u001b[0m_message_generator_v2\u001b[0m\u001b[1;33m(\u001b[0m\u001b[1;33m)\u001b[0m\u001b[1;33m\u001b[0m\u001b[1;33m\u001b[0m\u001b[0m\n\u001b[0;32m   1200\u001b[0m             \u001b[1;32mtry\u001b[0m\u001b[1;33m:\u001b[0m\u001b[1;33m\u001b[0m\u001b[1;33m\u001b[0m\u001b[0m\n\u001b[1;32m-> 1201\u001b[1;33m                 \u001b[1;32mreturn\u001b[0m \u001b[0mnext\u001b[0m\u001b[1;33m(\u001b[0m\u001b[0mself\u001b[0m\u001b[1;33m.\u001b[0m\u001b[0m_iterator\u001b[0m\u001b[1;33m)\u001b[0m\u001b[1;33m\u001b[0m\u001b[1;33m\u001b[0m\u001b[0m\n\u001b[0m\u001b[0;32m   1202\u001b[0m             \u001b[1;32mexcept\u001b[0m \u001b[0mStopIteration\u001b[0m\u001b[1;33m:\u001b[0m\u001b[1;33m\u001b[0m\u001b[1;33m\u001b[0m\u001b[0m\n\u001b[0;32m   1203\u001b[0m                 \u001b[0mself\u001b[0m\u001b[1;33m.\u001b[0m\u001b[0m_iterator\u001b[0m \u001b[1;33m=\u001b[0m \u001b[1;32mNone\u001b[0m\u001b[1;33m\u001b[0m\u001b[1;33m\u001b[0m\u001b[0m\n",
            "\u001b[1;32m~\\anaconda3\\lib\\site-packages\\kafka\\consumer\\group.py\u001b[0m in \u001b[0;36m_message_generator_v2\u001b[1;34m(self)\u001b[0m\n\u001b[0;32m   1114\u001b[0m     \u001b[1;32mdef\u001b[0m \u001b[0m_message_generator_v2\u001b[0m\u001b[1;33m(\u001b[0m\u001b[0mself\u001b[0m\u001b[1;33m)\u001b[0m\u001b[1;33m:\u001b[0m\u001b[1;33m\u001b[0m\u001b[1;33m\u001b[0m\u001b[0m\n\u001b[0;32m   1115\u001b[0m         \u001b[0mtimeout_ms\u001b[0m \u001b[1;33m=\u001b[0m \u001b[1;36m1000\u001b[0m \u001b[1;33m*\u001b[0m \u001b[1;33m(\u001b[0m\u001b[0mself\u001b[0m\u001b[1;33m.\u001b[0m\u001b[0m_consumer_timeout\u001b[0m \u001b[1;33m-\u001b[0m \u001b[0mtime\u001b[0m\u001b[1;33m.\u001b[0m\u001b[0mtime\u001b[0m\u001b[1;33m(\u001b[0m\u001b[1;33m)\u001b[0m\u001b[1;33m)\u001b[0m\u001b[1;33m\u001b[0m\u001b[1;33m\u001b[0m\u001b[0m\n\u001b[1;32m-> 1116\u001b[1;33m         \u001b[0mrecord_map\u001b[0m \u001b[1;33m=\u001b[0m \u001b[0mself\u001b[0m\u001b[1;33m.\u001b[0m\u001b[0mpoll\u001b[0m\u001b[1;33m(\u001b[0m\u001b[0mtimeout_ms\u001b[0m\u001b[1;33m=\u001b[0m\u001b[0mtimeout_ms\u001b[0m\u001b[1;33m,\u001b[0m \u001b[0mupdate_offsets\u001b[0m\u001b[1;33m=\u001b[0m\u001b[1;32mFalse\u001b[0m\u001b[1;33m)\u001b[0m\u001b[1;33m\u001b[0m\u001b[1;33m\u001b[0m\u001b[0m\n\u001b[0m\u001b[0;32m   1117\u001b[0m         \u001b[1;32mfor\u001b[0m \u001b[0mtp\u001b[0m\u001b[1;33m,\u001b[0m \u001b[0mrecords\u001b[0m \u001b[1;32min\u001b[0m \u001b[0msix\u001b[0m\u001b[1;33m.\u001b[0m\u001b[0miteritems\u001b[0m\u001b[1;33m(\u001b[0m\u001b[0mrecord_map\u001b[0m\u001b[1;33m)\u001b[0m\u001b[1;33m:\u001b[0m\u001b[1;33m\u001b[0m\u001b[1;33m\u001b[0m\u001b[0m\n\u001b[0;32m   1118\u001b[0m             \u001b[1;31m# Generators are stateful, and it is possible that the tp / records\u001b[0m\u001b[1;33m\u001b[0m\u001b[1;33m\u001b[0m\u001b[0m\n",
            "\u001b[1;32m~\\anaconda3\\lib\\site-packages\\kafka\\consumer\\group.py\u001b[0m in \u001b[0;36mpoll\u001b[1;34m(self, timeout_ms, max_records, update_offsets)\u001b[0m\n\u001b[0;32m    653\u001b[0m         \u001b[0mremaining\u001b[0m \u001b[1;33m=\u001b[0m \u001b[0mtimeout_ms\u001b[0m\u001b[1;33m\u001b[0m\u001b[1;33m\u001b[0m\u001b[0m\n\u001b[0;32m    654\u001b[0m         \u001b[1;32mwhile\u001b[0m \u001b[1;32mTrue\u001b[0m\u001b[1;33m:\u001b[0m\u001b[1;33m\u001b[0m\u001b[1;33m\u001b[0m\u001b[0m\n\u001b[1;32m--> 655\u001b[1;33m             \u001b[0mrecords\u001b[0m \u001b[1;33m=\u001b[0m \u001b[0mself\u001b[0m\u001b[1;33m.\u001b[0m\u001b[0m_poll_once\u001b[0m\u001b[1;33m(\u001b[0m\u001b[0mremaining\u001b[0m\u001b[1;33m,\u001b[0m \u001b[0mmax_records\u001b[0m\u001b[1;33m,\u001b[0m \u001b[0mupdate_offsets\u001b[0m\u001b[1;33m=\u001b[0m\u001b[0mupdate_offsets\u001b[0m\u001b[1;33m)\u001b[0m\u001b[1;33m\u001b[0m\u001b[1;33m\u001b[0m\u001b[0m\n\u001b[0m\u001b[0;32m    656\u001b[0m             \u001b[1;32mif\u001b[0m \u001b[0mrecords\u001b[0m\u001b[1;33m:\u001b[0m\u001b[1;33m\u001b[0m\u001b[1;33m\u001b[0m\u001b[0m\n\u001b[0;32m    657\u001b[0m                 \u001b[1;32mreturn\u001b[0m \u001b[0mrecords\u001b[0m\u001b[1;33m\u001b[0m\u001b[1;33m\u001b[0m\u001b[0m\n",
            "\u001b[1;32m~\\anaconda3\\lib\\site-packages\\kafka\\consumer\\group.py\u001b[0m in \u001b[0;36m_poll_once\u001b[1;34m(self, timeout_ms, max_records, update_offsets)\u001b[0m\n\u001b[0;32m    700\u001b[0m \u001b[1;33m\u001b[0m\u001b[0m\n\u001b[0;32m    701\u001b[0m         \u001b[0mtimeout_ms\u001b[0m \u001b[1;33m=\u001b[0m \u001b[0mmin\u001b[0m\u001b[1;33m(\u001b[0m\u001b[0mtimeout_ms\u001b[0m\u001b[1;33m,\u001b[0m \u001b[0mself\u001b[0m\u001b[1;33m.\u001b[0m\u001b[0m_coordinator\u001b[0m\u001b[1;33m.\u001b[0m\u001b[0mtime_to_next_poll\u001b[0m\u001b[1;33m(\u001b[0m\u001b[1;33m)\u001b[0m \u001b[1;33m*\u001b[0m \u001b[1;36m1000\u001b[0m\u001b[1;33m)\u001b[0m\u001b[1;33m\u001b[0m\u001b[1;33m\u001b[0m\u001b[0m\n\u001b[1;32m--> 702\u001b[1;33m         \u001b[0mself\u001b[0m\u001b[1;33m.\u001b[0m\u001b[0m_client\u001b[0m\u001b[1;33m.\u001b[0m\u001b[0mpoll\u001b[0m\u001b[1;33m(\u001b[0m\u001b[0mtimeout_ms\u001b[0m\u001b[1;33m=\u001b[0m\u001b[0mtimeout_ms\u001b[0m\u001b[1;33m)\u001b[0m\u001b[1;33m\u001b[0m\u001b[1;33m\u001b[0m\u001b[0m\n\u001b[0m\u001b[0;32m    703\u001b[0m         \u001b[1;31m# after the long poll, we should check whether the group needs to rebalance\u001b[0m\u001b[1;33m\u001b[0m\u001b[1;33m\u001b[0m\u001b[0m\n\u001b[0;32m    704\u001b[0m         \u001b[1;31m# prior to returning data so that the group can stabilize faster\u001b[0m\u001b[1;33m\u001b[0m\u001b[1;33m\u001b[0m\u001b[0m\n",
            "\u001b[1;32m~\\anaconda3\\lib\\site-packages\\kafka\\client_async.py\u001b[0m in \u001b[0;36mpoll\u001b[1;34m(self, timeout_ms, future)\u001b[0m\n\u001b[0;32m    600\u001b[0m                     \u001b[0mtimeout\u001b[0m \u001b[1;33m=\u001b[0m \u001b[0mmax\u001b[0m\u001b[1;33m(\u001b[0m\u001b[1;36m0\u001b[0m\u001b[1;33m,\u001b[0m \u001b[0mtimeout\u001b[0m\u001b[1;33m)\u001b[0m  \u001b[1;31m# avoid negative timeouts\u001b[0m\u001b[1;33m\u001b[0m\u001b[1;33m\u001b[0m\u001b[0m\n\u001b[0;32m    601\u001b[0m \u001b[1;33m\u001b[0m\u001b[0m\n\u001b[1;32m--> 602\u001b[1;33m                 \u001b[0mself\u001b[0m\u001b[1;33m.\u001b[0m\u001b[0m_poll\u001b[0m\u001b[1;33m(\u001b[0m\u001b[0mtimeout\u001b[0m \u001b[1;33m/\u001b[0m \u001b[1;36m1000\u001b[0m\u001b[1;33m)\u001b[0m\u001b[1;33m\u001b[0m\u001b[1;33m\u001b[0m\u001b[0m\n\u001b[0m\u001b[0;32m    603\u001b[0m \u001b[1;33m\u001b[0m\u001b[0m\n\u001b[0;32m    604\u001b[0m             \u001b[1;31m# called without the lock to avoid deadlock potential\u001b[0m\u001b[1;33m\u001b[0m\u001b[1;33m\u001b[0m\u001b[0m\n",
            "\u001b[1;32m~\\anaconda3\\lib\\site-packages\\kafka\\client_async.py\u001b[0m in \u001b[0;36m_poll\u001b[1;34m(self, timeout)\u001b[0m\n\u001b[0;32m    632\u001b[0m \u001b[1;33m\u001b[0m\u001b[0m\n\u001b[0;32m    633\u001b[0m         \u001b[0mstart_select\u001b[0m \u001b[1;33m=\u001b[0m \u001b[0mtime\u001b[0m\u001b[1;33m.\u001b[0m\u001b[0mtime\u001b[0m\u001b[1;33m(\u001b[0m\u001b[1;33m)\u001b[0m\u001b[1;33m\u001b[0m\u001b[1;33m\u001b[0m\u001b[0m\n\u001b[1;32m--> 634\u001b[1;33m         \u001b[0mready\u001b[0m \u001b[1;33m=\u001b[0m \u001b[0mself\u001b[0m\u001b[1;33m.\u001b[0m\u001b[0m_selector\u001b[0m\u001b[1;33m.\u001b[0m\u001b[0mselect\u001b[0m\u001b[1;33m(\u001b[0m\u001b[0mtimeout\u001b[0m\u001b[1;33m)\u001b[0m\u001b[1;33m\u001b[0m\u001b[1;33m\u001b[0m\u001b[0m\n\u001b[0m\u001b[0;32m    635\u001b[0m         \u001b[0mend_select\u001b[0m \u001b[1;33m=\u001b[0m \u001b[0mtime\u001b[0m\u001b[1;33m.\u001b[0m\u001b[0mtime\u001b[0m\u001b[1;33m(\u001b[0m\u001b[1;33m)\u001b[0m\u001b[1;33m\u001b[0m\u001b[1;33m\u001b[0m\u001b[0m\n\u001b[0;32m    636\u001b[0m         \u001b[1;32mif\u001b[0m \u001b[0mself\u001b[0m\u001b[1;33m.\u001b[0m\u001b[0m_sensors\u001b[0m\u001b[1;33m:\u001b[0m\u001b[1;33m\u001b[0m\u001b[1;33m\u001b[0m\u001b[0m\n",
            "\u001b[1;32m~\\anaconda3\\lib\\selectors.py\u001b[0m in \u001b[0;36mselect\u001b[1;34m(self, timeout)\u001b[0m\n\u001b[0;32m    322\u001b[0m         \u001b[0mready\u001b[0m \u001b[1;33m=\u001b[0m \u001b[1;33m[\u001b[0m\u001b[1;33m]\u001b[0m\u001b[1;33m\u001b[0m\u001b[1;33m\u001b[0m\u001b[0m\n\u001b[0;32m    323\u001b[0m         \u001b[1;32mtry\u001b[0m\u001b[1;33m:\u001b[0m\u001b[1;33m\u001b[0m\u001b[1;33m\u001b[0m\u001b[0m\n\u001b[1;32m--> 324\u001b[1;33m             \u001b[0mr\u001b[0m\u001b[1;33m,\u001b[0m \u001b[0mw\u001b[0m\u001b[1;33m,\u001b[0m \u001b[0m_\u001b[0m \u001b[1;33m=\u001b[0m \u001b[0mself\u001b[0m\u001b[1;33m.\u001b[0m\u001b[0m_select\u001b[0m\u001b[1;33m(\u001b[0m\u001b[0mself\u001b[0m\u001b[1;33m.\u001b[0m\u001b[0m_readers\u001b[0m\u001b[1;33m,\u001b[0m \u001b[0mself\u001b[0m\u001b[1;33m.\u001b[0m\u001b[0m_writers\u001b[0m\u001b[1;33m,\u001b[0m \u001b[1;33m[\u001b[0m\u001b[1;33m]\u001b[0m\u001b[1;33m,\u001b[0m \u001b[0mtimeout\u001b[0m\u001b[1;33m)\u001b[0m\u001b[1;33m\u001b[0m\u001b[1;33m\u001b[0m\u001b[0m\n\u001b[0m\u001b[0;32m    325\u001b[0m         \u001b[1;32mexcept\u001b[0m \u001b[0mInterruptedError\u001b[0m\u001b[1;33m:\u001b[0m\u001b[1;33m\u001b[0m\u001b[1;33m\u001b[0m\u001b[0m\n\u001b[0;32m    326\u001b[0m             \u001b[1;32mreturn\u001b[0m \u001b[0mready\u001b[0m\u001b[1;33m\u001b[0m\u001b[1;33m\u001b[0m\u001b[0m\n",
            "\u001b[1;32m~\\anaconda3\\lib\\selectors.py\u001b[0m in \u001b[0;36m_select\u001b[1;34m(self, r, w, _, timeout)\u001b[0m\n\u001b[0;32m    313\u001b[0m     \u001b[1;32mif\u001b[0m \u001b[0msys\u001b[0m\u001b[1;33m.\u001b[0m\u001b[0mplatform\u001b[0m \u001b[1;33m==\u001b[0m \u001b[1;34m'win32'\u001b[0m\u001b[1;33m:\u001b[0m\u001b[1;33m\u001b[0m\u001b[1;33m\u001b[0m\u001b[0m\n\u001b[0;32m    314\u001b[0m         \u001b[1;32mdef\u001b[0m \u001b[0m_select\u001b[0m\u001b[1;33m(\u001b[0m\u001b[0mself\u001b[0m\u001b[1;33m,\u001b[0m \u001b[0mr\u001b[0m\u001b[1;33m,\u001b[0m \u001b[0mw\u001b[0m\u001b[1;33m,\u001b[0m \u001b[0m_\u001b[0m\u001b[1;33m,\u001b[0m \u001b[0mtimeout\u001b[0m\u001b[1;33m=\u001b[0m\u001b[1;32mNone\u001b[0m\u001b[1;33m)\u001b[0m\u001b[1;33m:\u001b[0m\u001b[1;33m\u001b[0m\u001b[1;33m\u001b[0m\u001b[0m\n\u001b[1;32m--> 315\u001b[1;33m             \u001b[0mr\u001b[0m\u001b[1;33m,\u001b[0m \u001b[0mw\u001b[0m\u001b[1;33m,\u001b[0m \u001b[0mx\u001b[0m \u001b[1;33m=\u001b[0m \u001b[0mselect\u001b[0m\u001b[1;33m.\u001b[0m\u001b[0mselect\u001b[0m\u001b[1;33m(\u001b[0m\u001b[0mr\u001b[0m\u001b[1;33m,\u001b[0m \u001b[0mw\u001b[0m\u001b[1;33m,\u001b[0m \u001b[0mw\u001b[0m\u001b[1;33m,\u001b[0m \u001b[0mtimeout\u001b[0m\u001b[1;33m)\u001b[0m\u001b[1;33m\u001b[0m\u001b[1;33m\u001b[0m\u001b[0m\n\u001b[0m\u001b[0;32m    316\u001b[0m             \u001b[1;32mreturn\u001b[0m \u001b[0mr\u001b[0m\u001b[1;33m,\u001b[0m \u001b[0mw\u001b[0m \u001b[1;33m+\u001b[0m \u001b[0mx\u001b[0m\u001b[1;33m,\u001b[0m \u001b[1;33m[\u001b[0m\u001b[1;33m]\u001b[0m\u001b[1;33m\u001b[0m\u001b[1;33m\u001b[0m\u001b[0m\n\u001b[0;32m    317\u001b[0m     \u001b[1;32melse\u001b[0m\u001b[1;33m:\u001b[0m\u001b[1;33m\u001b[0m\u001b[1;33m\u001b[0m\u001b[0m\n",
            "\u001b[1;31mKeyboardInterrupt\u001b[0m: "
          ]
        }
      ],
      "source": [
        "%matplotlib notebook\n",
        "import matplotlib.pyplot as plt\n",
        "temp=[]\n",
        "fig = plt.figure()\n",
        "ax = fig.add_subplot(111)\n",
        "plt.ion()\n",
        "\n",
        "fig.show()\n",
        "fig.canvas.draw()\n",
        "from collections import defaultdict\n",
        "mydict = defaultdict(int)\n",
        "lst=[]\n",
        "lst2=[]\n",
        "for message in consumer:\n",
        "    if(message.value==\"display\"):\n",
        "        consumer.close()\n",
        "    else:\n",
        "        temp=str(message.value).split(',')\n",
        "        dict1 = {\"Key\": temp[0],\"Value\": temp[1]}\n",
        "        lst.append(temp[0])\n",
        "        lst2.append(temp[1])\n",
        "        ax.clear()\n",
        "        ax.scatter(lst,lst2)\n",
        "        fig.canvas.draw()\n",
        "\n",
        "\n",
        "        plt.legend()\n",
        "        plt.show()\n",
        "        print(message.value)\n",
        "        \n",
        "        \n",
        "        "
      ]
    },
    {
      "cell_type": "code",
      "execution_count": null,
      "metadata": {
        "id": "fzMQTsqapGSK"
      },
      "outputs": [],
      "source": []
    },
    {
      "attachments": {},
      "cell_type": "markdown",
      "metadata": {
        "id": "df2QXifsq8uy"
      },
      "source": [
        "#Analysis Report\n",
        "\n",
        "In this task we have to visualize stream data reading from database. we studied about dash with plotly and bokeh tool for visualization and also learned abbout web based tool for visualizing kafka streaming like alooma but got stuked with credentials problems and these tools are not open source and got problem with connection of database and thses sources are limited with only line graphs. we learned visualization deeply and implemented multiple graphs as mentioned above.\n",
        "\n",
        "Tools: Firebase, jupyter , kafka."
      ]
    }
  ],
  "metadata": {
    "colab": {
      "name": "Task 3: Data Visualization.ipynb",
      "provenance": []
    },
    "kernelspec": {
      "display_name": "Python 3 (ipykernel)",
      "language": "python",
      "name": "python3"
    },
    "language_info": {
      "codemirror_mode": {
        "name": "ipython",
        "version": 3
      },
      "file_extension": ".py",
      "mimetype": "text/x-python",
      "name": "python",
      "nbconvert_exporter": "python",
      "pygments_lexer": "ipython3",
      "version": "3.9.7"
    }
  },
  "nbformat": 4,
  "nbformat_minor": 0
}
